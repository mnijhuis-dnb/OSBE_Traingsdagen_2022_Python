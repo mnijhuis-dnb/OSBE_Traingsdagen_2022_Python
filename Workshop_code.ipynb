{
  "cells": [
    {
      "cell_type": "markdown",
      "metadata": {
        "colab_type": "text",
        "id": "4vVvo9GWq3gN"
      },
      "source": [
        "# Python\n",
        "\n",
        "### Open Source Workshop Pandas"
      ]
    },
    {
      "cell_type": "code",
      "execution_count": null,
      "metadata": {
        "colab": {},
        "colab_type": "code",
        "id": "II1RQsyGq3gQ"
      },
      "outputs": [],
      "source": [
        "import pandas as pd \n",
        "import numpy as np"
      ]
    },
    {
      "cell_type": "code",
      "execution_count": null,
      "metadata": {
        "colab": {},
        "colab_type": "code",
        "id": "z5D0sVFTq3gi"
      },
      "outputs": [],
      "source": [
        "df = pd.read_csv('Kernindicatoren.csv', delimiter=',', header='infer', index_col=None, skiprows=0, skip_blank_lines=True, on_bad_lines='warn')"
      ]
    },
    {
      "cell_type": "code",
      "execution_count": null,
      "metadata": {
        "colab": {},
        "colab_type": "code",
        "id": "8W0Wrcrmq3gq",
        "scrolled": true
      },
      "outputs": [],
      "source": [
        "df.head(5)"
      ]
    },
    {
      "cell_type": "code",
      "execution_count": null,
      "metadata": {
        "colab": {},
        "colab_type": "code",
        "id": "DK0iTeeKq3gy"
      },
      "outputs": [],
      "source": [
        "df.columns"
      ]
    },
    {
      "cell_type": "code",
      "execution_count": null,
      "metadata": {
        "colab": {},
        "colab_type": "code",
        "id": "o2Wba8qcq3g5"
      },
      "outputs": [],
      "source": [
        "df['waarde'].tail(10)"
      ]
    },
    {
      "cell_type": "code",
      "execution_count": null,
      "metadata": {
        "colab": {},
        "colab_type": "code",
        "id": "vVnHvqpGq3hI"
      },
      "outputs": [],
      "source": [
        "df.info()"
      ]
    },
    {
      "cell_type": "code",
      "execution_count": null,
      "metadata": {
        "colab": {},
        "colab_type": "code",
        "id": "Oqk0j2kJq3hN"
      },
      "outputs": [],
      "source": [
        "df['Periode '] = pd.to_datetime(df['Periode '],format='%Y-%m',errors='coerce')\n",
        "df.head(5)"
      ]
    },
    {
      "cell_type": "code",
      "execution_count": null,
      "metadata": {
        "colab": {},
        "colab_type": "code",
        "id": "KoInZHvFq3hR"
      },
      "outputs": [],
      "source": [
        "df.info()"
      ]
    },
    {
      "cell_type": "code",
      "execution_count": null,
      "metadata": {
        "colab": {},
        "colab_type": "code",
        "id": "0GLA7jaGq3hj"
      },
      "outputs": [],
      "source": [
        "xls_file = pd.ExcelFile('kernindicatoren.xlsx')\n",
        "df = pd.read_excel(xls_file,sheet_name='Data', usecols='A, B, C, D, E') \n",
        "df['Periode'] = pd.to_datetime(df['Periode'],format='%Y-%m',errors='coerce')\n",
        "df.head(10)"
      ]
    },
    {
      "cell_type": "markdown",
      "metadata": {
        "colab_type": "text",
        "id": "zk4NTxrwq3hx"
      },
      "source": [
        "### Data schonen "
      ]
    },
    {
      "cell_type": "code",
      "execution_count": null,
      "metadata": {
        "colab": {},
        "colab_type": "code",
        "id": "SgzQmk7mq3hz"
      },
      "outputs": [],
      "source": [
        "df.info()"
      ]
    },
    {
      "cell_type": "code",
      "execution_count": null,
      "metadata": {
        "colab": {},
        "colab_type": "code",
        "id": "5Sn2KW22q3h4"
      },
      "outputs": [],
      "source": [
        "df['waarde'] = pd.to_numeric(df['waarde'], errors='coerce')\n",
        "df.isna().sum()"
      ]
    },
    {
      "cell_type": "code",
      "execution_count": null,
      "metadata": {
        "colab": {},
        "colab_type": "code",
        "id": "IMr831gFq3h9"
      },
      "outputs": [],
      "source": [
        "df.dropna(how='any', thresh=2, axis=0, subset=['waarde','Instrument'], inplace=False).head(10)"
      ]
    },
    {
      "cell_type": "code",
      "execution_count": null,
      "metadata": {
        "colab": {},
        "colab_type": "code",
        "id": "MiGbRAjgq3iB"
      },
      "outputs": [],
      "source": [
        "df_interpolated = df[['Instrument', 'waarde']].interpolate(method='linear', order=2, limit=5, limit_direction='both', limit_area='inside')\n",
        "df_interpolated.head(10)"
      ]
    },
    {
      "cell_type": "code",
      "execution_count": null,
      "metadata": {},
      "outputs": [],
      "source": [
        "df.loc[df['waarde'].isna(), 'waarde'] = df_interpolated['waarde'].loc[df['waarde'].isna()]"
      ]
    },
    {
      "cell_type": "code",
      "execution_count": null,
      "metadata": {
        "colab": {},
        "colab_type": "code",
        "id": "cWG1BZWRq3iH"
      },
      "outputs": [],
      "source": [
        "print(\"Aantal rijen voor verwijderen {}\".format(len(df)))\n",
        "df.drop_duplicates(inplace=True)\n",
        "print(\"Aantal rijen na verwijderen {}\".format(len(df)))"
      ]
    },
    {
      "cell_type": "code",
      "execution_count": null,
      "metadata": {
        "colab": {},
        "colab_type": "code",
        "id": "VfRew8Dxq3jC"
      },
      "outputs": [],
      "source": [
        "df['waarde - 10'] = df['waarde'] - 10 \n",
        "df.head(5)"
      ]
    },
    {
      "cell_type": "code",
      "execution_count": null,
      "metadata": {
        "colab": {},
        "colab_type": "code",
        "id": "O_i3TPBFq3iL"
      },
      "outputs": [],
      "source": [
        "df.drop(columns=['waarde - 10'], inplace=True)\n",
        "df.head(5)"
      ]
    },
    {
      "cell_type": "code",
      "execution_count": null,
      "metadata": {
        "colab": {},
        "colab_type": "code",
        "id": "bie4FCeQq3iO"
      },
      "outputs": [],
      "source": [
        "df.round({'waarde' : -2}).head(5)"
      ]
    },
    {
      "cell_type": "code",
      "execution_count": null,
      "metadata": {
        "colab": {},
        "colab_type": "code",
        "id": "uzgY_6opq3ib"
      },
      "outputs": [],
      "source": [
        "df.loc[df['Periode']=='2006-06']"
      ]
    },
    {
      "cell_type": "code",
      "execution_count": null,
      "metadata": {
        "colab": {},
        "colab_type": "code",
        "id": "9L9TLNyXq3if"
      },
      "outputs": [],
      "source": [
        "df.iloc[45:55,:3]"
      ]
    },
    {
      "cell_type": "code",
      "execution_count": null,
      "metadata": {
        "colab": {},
        "colab_type": "code",
        "id": "YFigCfOLq3ip"
      },
      "outputs": [],
      "source": [
        "df.loc[df['Periode']=='2006-06'].loc[:,'waarde']"
      ]
    },
    {
      "cell_type": "code",
      "execution_count": null,
      "metadata": {
        "colab": {},
        "colab_type": "code",
        "id": "GvS0OFFxq3iy"
      },
      "outputs": [],
      "source": [
        "df.loc[(df['Instrument'].str.contains('hypotheken', case=False, na=False)) \n",
        "       & (df['InstrumentSub'].str.contains('zuiver nieuwe leningen', case=False, na=False)) \n",
        "       & (df['InstrumentSub'].str.contains('rente', case=False, na=False)) \n",
        "       & ((df['waarde'] >= 3) | (df['waarde'] < 1.7))]"
      ]
    },
    {
      "cell_type": "code",
      "execution_count": null,
      "metadata": {
        "colab": {},
        "colab_type": "code",
        "id": "pUJLNfo5q3i4"
      },
      "outputs": [],
      "source": [
        "df2 = df[df['Periode']<'2004-01-01'].set_index(['Instrument','InstrumentSub','Sector','Periode'],append=False)\n",
        "df2.head(20)"
      ]
    },
    {
      "cell_type": "code",
      "execution_count": null,
      "metadata": {
        "colab": {},
        "colab_type": "code",
        "id": "GvgMv7FWq3i7"
      },
      "outputs": [],
      "source": [
        "df2.loc['Consumptief krediet',:,'Huishoudens',: ]"
      ]
    },
    {
      "cell_type": "code",
      "execution_count": null,
      "metadata": {
        "colab": {},
        "colab_type": "code",
        "id": "vzHehttbq3i_"
      },
      "outputs": [],
      "source": [
        "df2 = df.set_index('Periode').head(20).reindex(pd.date_range('10/1/2002', periods=240, freq='MS'))\n",
        "df2"
      ]
    },
    {
      "cell_type": "code",
      "execution_count": null,
      "metadata": {
        "colab": {},
        "colab_type": "code",
        "id": "904TjPx4q3jG"
      },
      "outputs": [],
      "source": [
        "df1 = df.tail(10)\n",
        "df2 = df.head(10)\n",
        "pd.concat([df1, df2])"
      ]
    },
    {
      "cell_type": "code",
      "execution_count": null,
      "metadata": {
        "colab": {},
        "colab_type": "code",
        "id": "wxrBkSFvq3jJ"
      },
      "outputs": [],
      "source": [
        "raw_data_a = {\n",
        "        'account_id': ['0', '1', '2', '3', '4'],\n",
        "        'datum': ['2009-12', '2010-01', '2009-12', '2010-01', '2010-01'],\n",
        "        'type': ['Consumptief krediet', 'Woninghypotheken', 'Zakelijke kredietverlening', 'Woninghypotheken', 'Zakelijke kredietverlening'],\n",
        "        'initieel bedrag': [5218, 268000, 30000, 415000, 235400]}\n",
        "df_a = pd.DataFrame(raw_data_a, columns = ['account_id', 'datum', 'type', 'initieel bedrag'])\n",
        "display(df_a)\n",
        "print('')\n",
        "raw_data_b = {\n",
        "        'account_id': ['0', '0', '1', '3', '0', '2', '1', '3', '3', '2','5'],\n",
        "        'datum': ['2009-12', '2010-01', '2010-01', '2010-01', '2010-01', '2010-01', '2010-02', '2010-02', '2010-02', '2010-02', '2010-02'],\n",
        "        'afbetaling': [211, 516, 245, 189, 520, 110, 548, 328, 1065, 985, 1050],\n",
        "        'type': ['standaard', 'standaard', 'standaard', 'standaard', 'extra', 'standaard', 'standaard', 'standaard', 'extra', 'standaard', 'standaard']}\n",
        "df_b = pd.DataFrame(raw_data_b, columns = ['account_id', 'datum', 'afbetaling','type'])\n",
        "display(df_b)"
      ]
    },
    {
      "cell_type": "code",
      "execution_count": null,
      "metadata": {
        "colab": {},
        "colab_type": "code",
        "id": "vCH-g61gq3jN"
      },
      "outputs": [],
      "source": [
        "pd.merge(df_a, df_b, how='outer', left_on=['account_id', 'datum'], right_on=['account_id', 'datum'],suffixes=('_a', '_b'),indicator=True)"
      ]
    },
    {
      "cell_type": "code",
      "execution_count": null,
      "metadata": {
        "colab": {},
        "colab_type": "code",
        "id": "A_QHisfGq3jS"
      },
      "outputs": [],
      "source": [
        "raw_data_a = {\n",
        "        'account_id': ['0', '1', '2', '3', '4'],\n",
        "        'waarde': [5218, 268000, 30000, 415000, 235400],\n",
        "        'aantal': [1, 1, 2, 2, 1]}\n",
        "df_a = pd.DataFrame(raw_data_a, columns = ['waarde', 'aantal'], index = raw_data_a['account_id'])\n",
        "display(df_a)\n",
        "print('')\n",
        "raw_data_b = {\n",
        "        'account_id': ['1', '0', '3', '2'],\n",
        "        'waarde': [100, 200, 300, 400],\n",
        "        'aantal': [1, 1, 1, 1]}\n",
        "df_b = pd.DataFrame(raw_data_b, columns = ['waarde', 'aantal'], index = raw_data_b['account_id'])\n",
        "display(df_b)\n",
        "print('')\n",
        "display(df_a+df_b)"
      ]
    },
    {
      "cell_type": "code",
      "execution_count": null,
      "metadata": {
        "colab": {},
        "colab_type": "code",
        "id": "R30kfZPUq3jY"
      },
      "outputs": [],
      "source": [
        "df.sort_values(by=['Periode','Sector'], ascending=True, na_position='last').sort_values(by=['waarde'], ascending=False).tail(15)"
      ]
    },
    {
      "cell_type": "code",
      "execution_count": null,
      "metadata": {
        "colab": {},
        "colab_type": "code",
        "id": "lqqc6Reoq3jm"
      },
      "outputs": [],
      "source": [
        "df.describe()"
      ]
    },
    {
      "cell_type": "code",
      "execution_count": null,
      "metadata": {
        "colab": {},
        "colab_type": "code",
        "id": "WJEGLD9Oq3jr"
      },
      "outputs": [],
      "source": [
        "print(df.quantile(q=0.9))"
      ]
    },
    {
      "cell_type": "code",
      "execution_count": null,
      "metadata": {
        "colab": {},
        "colab_type": "code",
        "id": "Pr6fGwn4q3jy"
      },
      "outputs": [],
      "source": [
        "pd.pivot_table(df, values=['waarde'], index=['Periode', 'InstrumentSub'], aggfunc={'waarde': [min, max, len]}).tail(20)"
      ]
    },
    {
      "cell_type": "code",
      "execution_count": null,
      "metadata": {
        "colab": {},
        "colab_type": "code",
        "id": "F5Qjf1dZq3j4"
      },
      "outputs": [],
      "source": [
        "df_uitstaande = df[df['InstrumentSub']=='Uitstaande bedragen (mln euro\\'s)'].copy()\n",
        "df_uitstaande['lopende gemiddelde'] = df_uitstaande['waarde'].rolling(6, min_periods=4).mean()\n",
        "df_uitstaande.head(12)"
      ]
    },
    {
      "cell_type": "code",
      "execution_count": null,
      "metadata": {
        "colab": {},
        "colab_type": "code",
        "id": "JMalAhdiq3j-"
      },
      "outputs": [],
      "source": [
        "df_a = df_uitstaande.copy()\n",
        "df_a = df_a.set_index(['Instrument','InstrumentSub','Sector','Periode'],append=False)\n",
        "\n",
        "df_b = df_uitstaande.copy()\n",
        "df_b = df_b.set_index(['Instrument','InstrumentSub','Sector','Periode'],append=False)\n",
        "df_b['waarde'] = df_b['lopende gemiddelde']\n",
        "\n",
        "df_a.combine(df_b, np.minimum, fill_value = 8).head(10)"
      ]
    },
    {
      "cell_type": "code",
      "execution_count": null,
      "metadata": {
        "colab": {},
        "colab_type": "code",
        "id": "TzVyBuSBq3kE"
      },
      "outputs": [],
      "source": [
        "df['Instrument'].value_counts()"
      ]
    },
    {
      "cell_type": "code",
      "execution_count": null,
      "metadata": {
        "colab": {},
        "colab_type": "code",
        "id": "KNtjKWexq3kK"
      },
      "outputs": [],
      "source": [
        "df.groupby(['Instrument','InstrumentSub']).agg({'waarde': [np.min, np.max, np.mean]})"
      ]
    },
    {
      "cell_type": "code",
      "execution_count": null,
      "metadata": {
        "colab": {},
        "colab_type": "code",
        "id": "vqfibQ_oq3kR"
      },
      "outputs": [],
      "source": [
        "df.apply(pd.Series.unique, axis=0)"
      ]
    },
    {
      "cell_type": "code",
      "execution_count": null,
      "metadata": {
        "colab": {},
        "colab_type": "code",
        "id": "ttPNkXN8q3ki"
      },
      "outputs": [],
      "source": [
        "df['waarde'].plot()"
      ]
    },
    {
      "cell_type": "code",
      "execution_count": null,
      "metadata": {
        "colab": {},
        "colab_type": "code",
        "id": "VEA3WVWgq3kq"
      },
      "outputs": [],
      "source": [
        "import matplotlib.pyplot as plt\n",
        "plt.rcParams['figure.figsize'] = [10, 5]"
      ]
    },
    {
      "cell_type": "code",
      "execution_count": null,
      "metadata": {
        "colab": {},
        "colab_type": "code",
        "id": "UdtwyjiKq3ky"
      },
      "outputs": [],
      "source": [
        "df_a = df[df['Instrument']=='Woninghypotheken'].dropna()\n",
        "df_a = df_a[df_a['InstrumentSub'].str.contains('Rente op uit')].set_index('Periode')\n",
        "\n",
        "df_b = df[df['Instrument']=='Zakelijke kredietverlening'].dropna()\n",
        "df_b = df_b[df_b['InstrumentSub'].str.contains('Rente op uit')].set_index('Periode')\n",
        "\n",
        "df_c = pd.merge(df_b,df_a, how='inner', left_on=['Periode'], right_on=['Periode'], suffixes=('_c','_b'))\n",
        "df_c.plot.scatter(x='waarde_c',y='waarde_b', alpha=0.5)"
      ]
    },
    {
      "cell_type": "code",
      "execution_count": null,
      "metadata": {
        "colab": {},
        "colab_type": "code",
        "id": "Nrq_9fy4q3k3",
        "scrolled": true
      },
      "outputs": [],
      "source": [
        "df[df['Periode']=='2010-06'].plot.bar(y='waarde',x='InstrumentSub')"
      ]
    },
    {
      "cell_type": "code",
      "execution_count": null,
      "metadata": {},
      "outputs": [],
      "source": [
        "df[df['Periode']=='2010-06'].plot(y='waarde',x='InstrumentSub', kind='barh')"
      ]
    },
    {
      "cell_type": "markdown",
      "metadata": {
        "colab_type": "text",
        "id": "zHW_AfXLq3k-"
      },
      "source": [
        "### Data wegschrijven \n"
      ]
    },
    {
      "cell_type": "code",
      "execution_count": null,
      "metadata": {
        "colab": {},
        "colab_type": "code",
        "id": "e4pS7uZvq3lB"
      },
      "outputs": [],
      "source": [
        "df.to_pickle('results.pkl')"
      ]
    },
    {
      "cell_type": "code",
      "execution_count": null,
      "metadata": {
        "colab": {},
        "colab_type": "code",
        "id": "lmifkinPq3lG"
      },
      "outputs": [],
      "source": [
        "df.to_csv('results.csv', index=False, decimal=',', sep='\\t')"
      ]
    },
    {
      "cell_type": "code",
      "execution_count": null,
      "metadata": {
        "colab": {},
        "colab_type": "code",
        "id": "kFQk7U1Uq3lL"
      },
      "outputs": [],
      "source": [
        "with pd.ExcelWriter('results.xlsx') as writer:  \n",
        "    df[df['Instrument']=='Woninghypotheken'].to_excel(writer, sheet_name='Woninghypotheken')\n",
        "    df[df['Instrument']=='Zakelijke kredietverlening'].to_excel(writer, sheet_name='Zakelijke kredietverlening')"
      ]
    }
  ],
  "metadata": {
    "colab": {
      "include_colab_link": true,
      "name": "OSW_Pandas.ipynb",
      "provenance": [],
      "toc_visible": true
    },
    "kernelspec": {
      "display_name": "Python 3.9.7 ('base')",
      "language": "python",
      "name": "python3"
    },
    "language_info": {
      "codemirror_mode": {
        "name": "ipython",
        "version": 3
      },
      "file_extension": ".py",
      "mimetype": "text/x-python",
      "name": "python",
      "nbconvert_exporter": "python",
      "pygments_lexer": "ipython3",
      "version": "3.9.12"
    },
    "vscode": {
      "interpreter": {
        "hash": "ad2bdc8ecc057115af97d19610ffacc2b4e99fae6737bb82f5d7fb13d2f2c186"
      }
    }
  },
  "nbformat": 4,
  "nbformat_minor": 0
}
