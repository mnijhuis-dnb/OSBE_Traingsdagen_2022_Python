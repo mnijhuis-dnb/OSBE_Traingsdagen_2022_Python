{
  "cells": [
    {
      "cell_type": "markdown",
      "metadata": {
        "colab_type": "text",
        "id": "view-in-github"
      },
      "source": [
        "<a href=\"https://colab.research.google.com/github/mnijhuis-dnb/open_source_workshop/blob/master/Workshop_code.ipynb\" target=\"_parent\"><img src=\"https://colab.research.google.com/assets/colab-badge.svg\" alt=\"Open In Colab\"/></a>"
      ]
    },
    {
      "cell_type": "markdown",
      "metadata": {
        "colab_type": "text",
        "id": "4vVvo9GWq3gN"
      },
      "source": [
        "# Python\n",
        "\n",
        "### OSBE Trainingsdagen 2022"
      ]
    },
    {
      "cell_type": "code",
      "execution_count": 66,
      "metadata": {
        "colab": {},
        "colab_type": "code",
        "id": "II1RQsyGq3gQ"
      },
      "outputs": [],
      "source": [
        "import pandas as pd \n",
        "import numpy as np"
      ]
    },
    {
      "cell_type": "markdown",
      "metadata": {
        "colab_type": "text",
        "id": "GLNlPVh_q3gX"
      },
      "source": [
        "### Data inlezen \n",
        "\n",
        "Zelf een dataframe maken"
      ]
    },
    {
      "cell_type": "code",
      "execution_count": 67,
      "metadata": {
        "colab": {},
        "colab_type": "code",
        "id": "Ye8PxIqyq3gY"
      },
      "outputs": [
        {
          "data": {
            "text/html": [
              "<div>\n",
              "<style scoped>\n",
              "    .dataframe tbody tr th:only-of-type {\n",
              "        vertical-align: middle;\n",
              "    }\n",
              "\n",
              "    .dataframe tbody tr th {\n",
              "        vertical-align: top;\n",
              "    }\n",
              "\n",
              "    .dataframe thead th {\n",
              "        text-align: right;\n",
              "    }\n",
              "</style>\n",
              "<table border=\"1\" class=\"dataframe\">\n",
              "  <thead>\n",
              "    <tr style=\"text-align: right;\">\n",
              "      <th></th>\n",
              "      <th>account_id</th>\n",
              "      <th>waarde</th>\n",
              "      <th>aantal</th>\n",
              "    </tr>\n",
              "  </thead>\n",
              "  <tbody>\n",
              "    <tr>\n",
              "      <th>0</th>\n",
              "      <td>0</td>\n",
              "      <td>5218</td>\n",
              "      <td>1</td>\n",
              "    </tr>\n",
              "    <tr>\n",
              "      <th>1</th>\n",
              "      <td>1</td>\n",
              "      <td>268000</td>\n",
              "      <td>1</td>\n",
              "    </tr>\n",
              "    <tr>\n",
              "      <th>2</th>\n",
              "      <td>2</td>\n",
              "      <td>30000</td>\n",
              "      <td>2</td>\n",
              "    </tr>\n",
              "    <tr>\n",
              "      <th>3</th>\n",
              "      <td>3</td>\n",
              "      <td>415000</td>\n",
              "      <td>2</td>\n",
              "    </tr>\n",
              "    <tr>\n",
              "      <th>4</th>\n",
              "      <td>4</td>\n",
              "      <td>235400</td>\n",
              "      <td>1</td>\n",
              "    </tr>\n",
              "  </tbody>\n",
              "</table>\n",
              "</div>"
            ],
            "text/plain": [
              "  account_id  waarde  aantal\n",
              "0          0    5218       1\n",
              "1          1  268000       1\n",
              "2          2   30000       2\n",
              "3          3  415000       2\n",
              "4          4  235400       1"
            ]
          },
          "execution_count": 67,
          "metadata": {},
          "output_type": "execute_result"
        }
      ],
      "source": [
        "raw_data_a = {\n",
        "        'account_id': ['0', '1', '2', '3', '4'],\n",
        "        'waarde': [5218, 268000, 30000, 415000, 235400],\n",
        "        'aantal': [1, 1, 2, 2, 1]}\n",
        "df_a = pd.DataFrame(raw_data_a, columns = ['account_id', 'waarde', 'aantal'])\n",
        "df_a"
      ]
    },
    {
      "cell_type": "markdown",
      "metadata": {
        "colab_type": "text",
        "id": "i239WMmsq3gh"
      },
      "source": [
        "Ingelezen data weergeven"
      ]
    },
    {
      "cell_type": "code",
      "execution_count": 68,
      "metadata": {
        "colab": {},
        "colab_type": "code",
        "id": "z5D0sVFTq3gi"
      },
      "outputs": [],
      "source": [
        "df = pd.read_csv('Kernindicatoren.csv', delimiter=',', header='infer', index_col=None, skiprows=0, skip_blank_lines=True, on_bad_lines='warn')"
      ]
    },
    {
      "cell_type": "markdown",
      "metadata": {
        "colab_type": "text",
        "id": "0cst0yyiq3gp"
      },
      "source": [
        "Ingelezen data weergeven"
      ]
    },
    {
      "cell_type": "code",
      "execution_count": 69,
      "metadata": {
        "colab": {},
        "colab_type": "code",
        "id": "8W0Wrcrmq3gq",
        "scrolled": true
      },
      "outputs": [
        {
          "data": {
            "text/html": [
              "<div>\n",
              "<style scoped>\n",
              "    .dataframe tbody tr th:only-of-type {\n",
              "        vertical-align: middle;\n",
              "    }\n",
              "\n",
              "    .dataframe tbody tr th {\n",
              "        vertical-align: top;\n",
              "    }\n",
              "\n",
              "    .dataframe thead th {\n",
              "        text-align: right;\n",
              "    }\n",
              "</style>\n",
              "<table border=\"1\" class=\"dataframe\">\n",
              "  <thead>\n",
              "    <tr style=\"text-align: right;\">\n",
              "      <th></th>\n",
              "      <th>Instrument</th>\n",
              "      <th>InstrumentSub</th>\n",
              "      <th>Sector</th>\n",
              "      <th>Periode</th>\n",
              "      <th>waarde</th>\n",
              "    </tr>\n",
              "  </thead>\n",
              "  <tbody>\n",
              "    <tr>\n",
              "      <th>0</th>\n",
              "      <td>Consumptief krediet</td>\n",
              "      <td>Uitstaande bedragen (mln euro's)</td>\n",
              "      <td>Huishoudens</td>\n",
              "      <td>2003-01</td>\n",
              "      <td>22284.0</td>\n",
              "    </tr>\n",
              "    <tr>\n",
              "      <th>1</th>\n",
              "      <td>Consumptief krediet</td>\n",
              "      <td>Uitstaande bedragen (mln euro's)</td>\n",
              "      <td>Huishoudens</td>\n",
              "      <td>2003-02</td>\n",
              "      <td>22162.0</td>\n",
              "    </tr>\n",
              "    <tr>\n",
              "      <th>2</th>\n",
              "      <td>Consumptief krediet</td>\n",
              "      <td>Uitstaande bedragen (mln euro's)</td>\n",
              "      <td>Huishoudens</td>\n",
              "      <td>2003-03</td>\n",
              "      <td>22877.0</td>\n",
              "    </tr>\n",
              "    <tr>\n",
              "      <th>3</th>\n",
              "      <td>Consumptief krediet</td>\n",
              "      <td>Uitstaande bedragen (mln euro's)</td>\n",
              "      <td>Huishoudens</td>\n",
              "      <td>2003-04</td>\n",
              "      <td>22575.0</td>\n",
              "    </tr>\n",
              "    <tr>\n",
              "      <th>4</th>\n",
              "      <td>Consumptief krediet</td>\n",
              "      <td>Uitstaande bedragen (mln euro's)</td>\n",
              "      <td>Huishoudens</td>\n",
              "      <td>2003-05</td>\n",
              "      <td>21868.0</td>\n",
              "    </tr>\n",
              "  </tbody>\n",
              "</table>\n",
              "</div>"
            ],
            "text/plain": [
              "             Instrument                      InstrumentSub        Sector  \\\n",
              "0  Consumptief krediet   Uitstaande bedragen (mln euro's)   Huishoudens    \n",
              "1  Consumptief krediet   Uitstaande bedragen (mln euro's)   Huishoudens    \n",
              "2  Consumptief krediet   Uitstaande bedragen (mln euro's)   Huishoudens    \n",
              "3  Consumptief krediet   Uitstaande bedragen (mln euro's)   Huishoudens    \n",
              "4  Consumptief krediet   Uitstaande bedragen (mln euro's)   Huishoudens    \n",
              "\n",
              "  Periode    waarde  \n",
              "0  2003-01  22284.0  \n",
              "1  2003-02  22162.0  \n",
              "2  2003-03  22877.0  \n",
              "3  2003-04  22575.0  \n",
              "4  2003-05  21868.0  "
            ]
          },
          "execution_count": 69,
          "metadata": {},
          "output_type": "execute_result"
        }
      ],
      "source": [
        "df.head(5)"
      ]
    },
    {
      "cell_type": "markdown",
      "metadata": {
        "colab_type": "text",
        "id": "2vxfkUcHq3gw"
      },
      "source": [
        "kolom namen weergeven"
      ]
    },
    {
      "cell_type": "code",
      "execution_count": 70,
      "metadata": {
        "colab": {},
        "colab_type": "code",
        "id": "DK0iTeeKq3gy"
      },
      "outputs": [
        {
          "data": {
            "text/plain": [
              "Index(['Instrument', 'InstrumentSub', 'Sector', 'Periode ', 'waarde'], dtype='object')"
            ]
          },
          "execution_count": 70,
          "metadata": {},
          "output_type": "execute_result"
        }
      ],
      "source": [
        "df.columns"
      ]
    },
    {
      "cell_type": "markdown",
      "metadata": {
        "colab_type": "text",
        "id": "xzf-Wt0sq3g5"
      },
      "source": [
        "specifieke kolom selecteren"
      ]
    },
    {
      "cell_type": "code",
      "execution_count": 71,
      "metadata": {
        "colab": {},
        "colab_type": "code",
        "id": "o2Wba8qcq3g5"
      },
      "outputs": [
        {
          "data": {
            "text/plain": [
              "4477    248575.0\n",
              "4478    247220.0\n",
              "4479    247366.0\n",
              "4480    245848.0\n",
              "4481    246720.0\n",
              "4482    245423.0\n",
              "4483    246083.0\n",
              "4484    245986.0\n",
              "4485    246942.0\n",
              "4486    251824.0\n",
              "Name: waarde, dtype: float64"
            ]
          },
          "execution_count": 71,
          "metadata": {},
          "output_type": "execute_result"
        }
      ],
      "source": [
        "df['waarde'].tail(10)"
      ]
    },
    {
      "cell_type": "code",
      "execution_count": 72,
      "metadata": {
        "colab": {},
        "colab_type": "code",
        "id": "UHQS1XJxq3hA"
      },
      "outputs": [
        {
          "data": {
            "text/plain": [
              "4477    248575.0\n",
              "4478    247220.0\n",
              "4479    247366.0\n",
              "4480    245848.0\n",
              "4481    246720.0\n",
              "4482    245423.0\n",
              "4483    246083.0\n",
              "4484    245986.0\n",
              "4485    246942.0\n",
              "4486    251824.0\n",
              "Name: waarde, dtype: float64"
            ]
          },
          "execution_count": 72,
          "metadata": {},
          "output_type": "execute_result"
        }
      ],
      "source": [
        "col = df.columns\n",
        "df[col[4]].tail(10)"
      ]
    },
    {
      "cell_type": "markdown",
      "metadata": {
        "colab_type": "text",
        "id": "CD01e57Kq3hH"
      },
      "source": [
        "Data types weergeven"
      ]
    },
    {
      "cell_type": "code",
      "execution_count": 73,
      "metadata": {
        "colab": {},
        "colab_type": "code",
        "id": "vVnHvqpGq3hI"
      },
      "outputs": [
        {
          "data": {
            "text/plain": [
              "Instrument        object\n",
              "InstrumentSub     object\n",
              "Sector            object\n",
              "Periode           object\n",
              "waarde           float64\n",
              "dtype: object"
            ]
          },
          "execution_count": 73,
          "metadata": {},
          "output_type": "execute_result"
        }
      ],
      "source": [
        "df.dtypes"
      ]
    },
    {
      "cell_type": "markdown",
      "metadata": {
        "colab_type": "text",
        "id": "5ow_meUvq3hM"
      },
      "source": [
        "Data type wijzigen\n",
        "\n",
        "Voor  wijzigen naar numerieke data gebruik pd.to_numeric(df[kolom], errors='coerce'), voor string gebruik df['kolom'].astype(str)\n",
        "\n",
        "Voor format string zie: https://docs.python.org/3/library/datetime.html#strftime-and-strptime-behavior"
      ]
    },
    {
      "cell_type": "code",
      "execution_count": 74,
      "metadata": {
        "colab": {},
        "colab_type": "code",
        "id": "Oqk0j2kJq3hN"
      },
      "outputs": [
        {
          "data": {
            "text/html": [
              "<div>\n",
              "<style scoped>\n",
              "    .dataframe tbody tr th:only-of-type {\n",
              "        vertical-align: middle;\n",
              "    }\n",
              "\n",
              "    .dataframe tbody tr th {\n",
              "        vertical-align: top;\n",
              "    }\n",
              "\n",
              "    .dataframe thead th {\n",
              "        text-align: right;\n",
              "    }\n",
              "</style>\n",
              "<table border=\"1\" class=\"dataframe\">\n",
              "  <thead>\n",
              "    <tr style=\"text-align: right;\">\n",
              "      <th></th>\n",
              "      <th>Instrument</th>\n",
              "      <th>InstrumentSub</th>\n",
              "      <th>Sector</th>\n",
              "      <th>Periode</th>\n",
              "      <th>waarde</th>\n",
              "    </tr>\n",
              "  </thead>\n",
              "  <tbody>\n",
              "    <tr>\n",
              "      <th>0</th>\n",
              "      <td>Consumptief krediet</td>\n",
              "      <td>Uitstaande bedragen (mln euro's)</td>\n",
              "      <td>Huishoudens</td>\n",
              "      <td>2003-01-01</td>\n",
              "      <td>22284.0</td>\n",
              "    </tr>\n",
              "    <tr>\n",
              "      <th>1</th>\n",
              "      <td>Consumptief krediet</td>\n",
              "      <td>Uitstaande bedragen (mln euro's)</td>\n",
              "      <td>Huishoudens</td>\n",
              "      <td>2003-02-01</td>\n",
              "      <td>22162.0</td>\n",
              "    </tr>\n",
              "    <tr>\n",
              "      <th>2</th>\n",
              "      <td>Consumptief krediet</td>\n",
              "      <td>Uitstaande bedragen (mln euro's)</td>\n",
              "      <td>Huishoudens</td>\n",
              "      <td>2003-03-01</td>\n",
              "      <td>22877.0</td>\n",
              "    </tr>\n",
              "    <tr>\n",
              "      <th>3</th>\n",
              "      <td>Consumptief krediet</td>\n",
              "      <td>Uitstaande bedragen (mln euro's)</td>\n",
              "      <td>Huishoudens</td>\n",
              "      <td>2003-04-01</td>\n",
              "      <td>22575.0</td>\n",
              "    </tr>\n",
              "    <tr>\n",
              "      <th>4</th>\n",
              "      <td>Consumptief krediet</td>\n",
              "      <td>Uitstaande bedragen (mln euro's)</td>\n",
              "      <td>Huishoudens</td>\n",
              "      <td>2003-05-01</td>\n",
              "      <td>21868.0</td>\n",
              "    </tr>\n",
              "  </tbody>\n",
              "</table>\n",
              "</div>"
            ],
            "text/plain": [
              "             Instrument                      InstrumentSub        Sector  \\\n",
              "0  Consumptief krediet   Uitstaande bedragen (mln euro's)   Huishoudens    \n",
              "1  Consumptief krediet   Uitstaande bedragen (mln euro's)   Huishoudens    \n",
              "2  Consumptief krediet   Uitstaande bedragen (mln euro's)   Huishoudens    \n",
              "3  Consumptief krediet   Uitstaande bedragen (mln euro's)   Huishoudens    \n",
              "4  Consumptief krediet   Uitstaande bedragen (mln euro's)   Huishoudens    \n",
              "\n",
              "    Periode    waarde  \n",
              "0 2003-01-01  22284.0  \n",
              "1 2003-02-01  22162.0  \n",
              "2 2003-03-01  22877.0  \n",
              "3 2003-04-01  22575.0  \n",
              "4 2003-05-01  21868.0  "
            ]
          },
          "execution_count": 74,
          "metadata": {},
          "output_type": "execute_result"
        }
      ],
      "source": [
        "df['Periode '] = pd.to_datetime(df['Periode '],format='%Y-%m',errors='coerce')\n",
        "df.head(5)"
      ]
    },
    {
      "cell_type": "code",
      "execution_count": 75,
      "metadata": {
        "colab": {},
        "colab_type": "code",
        "id": "KoInZHvFq3hR"
      },
      "outputs": [
        {
          "data": {
            "text/plain": [
              "Instrument               object\n",
              "InstrumentSub            object\n",
              "Sector                   object\n",
              "Periode          datetime64[ns]\n",
              "waarde                  float64\n",
              "dtype: object"
            ]
          },
          "execution_count": 75,
          "metadata": {},
          "output_type": "execute_result"
        }
      ],
      "source": [
        "df.dtypes"
      ]
    },
    {
      "cell_type": "markdown",
      "metadata": {
        "colab_type": "text",
        "id": "b1ANfw5wq3ha"
      },
      "source": [
        "Spaties verwijderen"
      ]
    },
    {
      "cell_type": "code",
      "execution_count": 76,
      "metadata": {
        "colab": {},
        "colab_type": "code",
        "id": "F88Pkwwfq3hc"
      },
      "outputs": [
        {
          "data": {
            "text/plain": [
              "0   2003-01-01\n",
              "1   2003-02-01\n",
              "2   2003-03-01\n",
              "3   2003-04-01\n",
              "4   2003-05-01\n",
              "Name: Periode, dtype: datetime64[ns]"
            ]
          },
          "execution_count": 76,
          "metadata": {},
          "output_type": "execute_result"
        }
      ],
      "source": [
        "df.columns = df.columns.str.strip()\n",
        "df['Periode'].head(5)"
      ]
    },
    {
      "cell_type": "markdown",
      "metadata": {
        "colab_type": "text",
        "id": "lX54EOemq3hi"
      },
      "source": [
        "Data inlezen uit Excel"
      ]
    },
    {
      "cell_type": "code",
      "execution_count": 116,
      "metadata": {
        "colab": {},
        "colab_type": "code",
        "id": "0GLA7jaGq3hj"
      },
      "outputs": [
        {
          "data": {
            "text/html": [
              "<div>\n",
              "<style scoped>\n",
              "    .dataframe tbody tr th:only-of-type {\n",
              "        vertical-align: middle;\n",
              "    }\n",
              "\n",
              "    .dataframe tbody tr th {\n",
              "        vertical-align: top;\n",
              "    }\n",
              "\n",
              "    .dataframe thead th {\n",
              "        text-align: right;\n",
              "    }\n",
              "</style>\n",
              "<table border=\"1\" class=\"dataframe\">\n",
              "  <thead>\n",
              "    <tr style=\"text-align: right;\">\n",
              "      <th></th>\n",
              "      <th>Instrument</th>\n",
              "      <th>InstrumentSub</th>\n",
              "      <th>Sector</th>\n",
              "      <th>Periode</th>\n",
              "      <th>waarde</th>\n",
              "    </tr>\n",
              "  </thead>\n",
              "  <tbody>\n",
              "    <tr>\n",
              "      <th>0</th>\n",
              "      <td>Consumptief krediet</td>\n",
              "      <td>Uitstaande bedragen (mln euro's)</td>\n",
              "      <td>Huishoudens</td>\n",
              "      <td>2003-01</td>\n",
              "      <td>22284</td>\n",
              "    </tr>\n",
              "    <tr>\n",
              "      <th>1</th>\n",
              "      <td>Consumptief krediet</td>\n",
              "      <td>Uitstaande bedragen (mln euro's)</td>\n",
              "      <td>Huishoudens</td>\n",
              "      <td>2003-02</td>\n",
              "      <td>22162</td>\n",
              "    </tr>\n",
              "    <tr>\n",
              "      <th>2</th>\n",
              "      <td>Consumptief krediet</td>\n",
              "      <td>Uitstaande bedragen (mln euro's)</td>\n",
              "      <td>Huishoudens</td>\n",
              "      <td>2003-03</td>\n",
              "      <td>22a77</td>\n",
              "    </tr>\n",
              "    <tr>\n",
              "      <th>3</th>\n",
              "      <td>Consumptief krediet</td>\n",
              "      <td>Uitstaande bedragen (mln euro's)</td>\n",
              "      <td>Huishoudens</td>\n",
              "      <td>2003-04</td>\n",
              "      <td>22575</td>\n",
              "    </tr>\n",
              "    <tr>\n",
              "      <th>4</th>\n",
              "      <td>Consumptief krediet</td>\n",
              "      <td>Uitstaande bedragen (mln euro's)</td>\n",
              "      <td>Huishoudens</td>\n",
              "      <td>2003-05</td>\n",
              "      <td>21868</td>\n",
              "    </tr>\n",
              "  </tbody>\n",
              "</table>\n",
              "</div>"
            ],
            "text/plain": [
              "            Instrument                     InstrumentSub       Sector  \\\n",
              "0  Consumptief krediet  Uitstaande bedragen (mln euro's)  Huishoudens   \n",
              "1  Consumptief krediet  Uitstaande bedragen (mln euro's)  Huishoudens   \n",
              "2  Consumptief krediet  Uitstaande bedragen (mln euro's)  Huishoudens   \n",
              "3  Consumptief krediet  Uitstaande bedragen (mln euro's)  Huishoudens   \n",
              "4  Consumptief krediet  Uitstaande bedragen (mln euro's)  Huishoudens   \n",
              "\n",
              "   Periode waarde  \n",
              "0  2003-01  22284  \n",
              "1  2003-02  22162  \n",
              "2  2003-03  22a77  \n",
              "3  2003-04  22575  \n",
              "4  2003-05  21868  "
            ]
          },
          "execution_count": 116,
          "metadata": {},
          "output_type": "execute_result"
        }
      ],
      "source": [
        "xls_file = pd.ExcelFile('kernindicatoren.xlsx')\n",
        "df = pd.read_excel(xls_file,sheet_name='Data', usecols='A, B, C, D, E') #sheet_name=None for all sheets\n",
        "df.head(5)"
      ]
    },
    {
      "cell_type": "markdown",
      "metadata": {
        "colab_type": "text",
        "id": "zk4NTxrwq3hx"
      },
      "source": [
        "### Data schonen \n",
        "\n",
        "Fouten uit data halen"
      ]
    },
    {
      "cell_type": "markdown",
      "metadata": {
        "colab_type": "text",
        "id": "DGzScnQnq3hy"
      },
      "source": [
        "Informatie over het dataframe ophalen"
      ]
    },
    {
      "cell_type": "code",
      "execution_count": 78,
      "metadata": {
        "colab": {},
        "colab_type": "code",
        "id": "SgzQmk7mq3hz"
      },
      "outputs": [
        {
          "name": "stdout",
          "output_type": "stream",
          "text": [
            "<class 'pandas.core.frame.DataFrame'>\n",
            "RangeIndex: 4493 entries, 0 to 4492\n",
            "Data columns (total 5 columns):\n",
            " #   Column         Non-Null Count  Dtype \n",
            "---  ------         --------------  ----- \n",
            " 0   Instrument     4493 non-null   object\n",
            " 1   InstrumentSub  4493 non-null   object\n",
            " 2   Sector         4493 non-null   object\n",
            " 3   Periode        4493 non-null   object\n",
            " 4   waarde         4493 non-null   object\n",
            "dtypes: object(5)\n",
            "memory usage: 175.6+ KB\n"
          ]
        }
      ],
      "source": [
        "df.info()"
      ]
    },
    {
      "cell_type": "markdown",
      "metadata": {
        "colab_type": "text",
        "id": "FkXosdMBq3h3"
      },
      "source": [
        "Cellen met ongeldige waardes identificeren"
      ]
    },
    {
      "cell_type": "code",
      "execution_count": 117,
      "metadata": {
        "colab": {},
        "colab_type": "code",
        "id": "5Sn2KW22q3h4"
      },
      "outputs": [
        {
          "data": {
            "text/plain": [
              "Instrument       0\n",
              "InstrumentSub    0\n",
              "Sector           0\n",
              "Periode          0\n",
              "waarde           1\n",
              "dtype: int64"
            ]
          },
          "execution_count": 117,
          "metadata": {},
          "output_type": "execute_result"
        }
      ],
      "source": [
        "df['waarde'] = pd.to_numeric(df['waarde'], errors='coerce')\n",
        "df.isna().sum()"
      ]
    },
    {
      "cell_type": "markdown",
      "metadata": {
        "colab_type": "text",
        "id": "sakDFe6Eq3h8"
      },
      "source": [
        "Cellen met ongeldige waardes verwijderen, voor het vullen van nan's gebruik df.fillna(x), waarin x de waarde voor de nan is"
      ]
    },
    {
      "cell_type": "code",
      "execution_count": 80,
      "metadata": {
        "colab": {},
        "colab_type": "code",
        "id": "IMr831gFq3h9"
      },
      "outputs": [
        {
          "data": {
            "text/html": [
              "<div>\n",
              "<style scoped>\n",
              "    .dataframe tbody tr th:only-of-type {\n",
              "        vertical-align: middle;\n",
              "    }\n",
              "\n",
              "    .dataframe tbody tr th {\n",
              "        vertical-align: top;\n",
              "    }\n",
              "\n",
              "    .dataframe thead th {\n",
              "        text-align: right;\n",
              "    }\n",
              "</style>\n",
              "<table border=\"1\" class=\"dataframe\">\n",
              "  <thead>\n",
              "    <tr style=\"text-align: right;\">\n",
              "      <th></th>\n",
              "      <th>Instrument</th>\n",
              "      <th>InstrumentSub</th>\n",
              "      <th>Sector</th>\n",
              "      <th>Periode</th>\n",
              "      <th>waarde</th>\n",
              "    </tr>\n",
              "  </thead>\n",
              "  <tbody>\n",
              "    <tr>\n",
              "      <th>0</th>\n",
              "      <td>Consumptief krediet</td>\n",
              "      <td>Uitstaande bedragen (mln euro's)</td>\n",
              "      <td>Huishoudens</td>\n",
              "      <td>2003-01</td>\n",
              "      <td>22284.0</td>\n",
              "    </tr>\n",
              "    <tr>\n",
              "      <th>1</th>\n",
              "      <td>Consumptief krediet</td>\n",
              "      <td>Uitstaande bedragen (mln euro's)</td>\n",
              "      <td>Huishoudens</td>\n",
              "      <td>2003-02</td>\n",
              "      <td>22162.0</td>\n",
              "    </tr>\n",
              "    <tr>\n",
              "      <th>3</th>\n",
              "      <td>Consumptief krediet</td>\n",
              "      <td>Uitstaande bedragen (mln euro's)</td>\n",
              "      <td>Huishoudens</td>\n",
              "      <td>2003-04</td>\n",
              "      <td>22575.0</td>\n",
              "    </tr>\n",
              "    <tr>\n",
              "      <th>4</th>\n",
              "      <td>Consumptief krediet</td>\n",
              "      <td>Uitstaande bedragen (mln euro's)</td>\n",
              "      <td>Huishoudens</td>\n",
              "      <td>2003-05</td>\n",
              "      <td>21868.0</td>\n",
              "    </tr>\n",
              "    <tr>\n",
              "      <th>5</th>\n",
              "      <td>Consumptief krediet</td>\n",
              "      <td>Uitstaande bedragen (mln euro's)</td>\n",
              "      <td>Huishoudens</td>\n",
              "      <td>2003-06</td>\n",
              "      <td>22477.0</td>\n",
              "    </tr>\n",
              "    <tr>\n",
              "      <th>6</th>\n",
              "      <td>Consumptief krediet</td>\n",
              "      <td>Uitstaande bedragen (mln euro's)</td>\n",
              "      <td>Huishoudens</td>\n",
              "      <td>2003-07</td>\n",
              "      <td>22798.0</td>\n",
              "    </tr>\n",
              "    <tr>\n",
              "      <th>7</th>\n",
              "      <td>Consumptief krediet</td>\n",
              "      <td>Uitstaande bedragen (mln euro's)</td>\n",
              "      <td>Huishoudens</td>\n",
              "      <td>2003-08</td>\n",
              "      <td>22606.0</td>\n",
              "    </tr>\n",
              "    <tr>\n",
              "      <th>8</th>\n",
              "      <td>Consumptief krediet</td>\n",
              "      <td>Uitstaande bedragen (mln euro's)</td>\n",
              "      <td>Huishoudens</td>\n",
              "      <td>2003-09</td>\n",
              "      <td>22656.0</td>\n",
              "    </tr>\n",
              "    <tr>\n",
              "      <th>9</th>\n",
              "      <td>Consumptief krediet</td>\n",
              "      <td>Uitstaande bedragen (mln euro's)</td>\n",
              "      <td>Huishoudens</td>\n",
              "      <td>2003-10</td>\n",
              "      <td>22937.0</td>\n",
              "    </tr>\n",
              "    <tr>\n",
              "      <th>10</th>\n",
              "      <td>Consumptief krediet</td>\n",
              "      <td>Uitstaande bedragen (mln euro's)</td>\n",
              "      <td>Huishoudens</td>\n",
              "      <td>2003-11</td>\n",
              "      <td>23037.0</td>\n",
              "    </tr>\n",
              "  </tbody>\n",
              "</table>\n",
              "</div>"
            ],
            "text/plain": [
              "             Instrument                     InstrumentSub       Sector  \\\n",
              "0   Consumptief krediet  Uitstaande bedragen (mln euro's)  Huishoudens   \n",
              "1   Consumptief krediet  Uitstaande bedragen (mln euro's)  Huishoudens   \n",
              "3   Consumptief krediet  Uitstaande bedragen (mln euro's)  Huishoudens   \n",
              "4   Consumptief krediet  Uitstaande bedragen (mln euro's)  Huishoudens   \n",
              "5   Consumptief krediet  Uitstaande bedragen (mln euro's)  Huishoudens   \n",
              "6   Consumptief krediet  Uitstaande bedragen (mln euro's)  Huishoudens   \n",
              "7   Consumptief krediet  Uitstaande bedragen (mln euro's)  Huishoudens   \n",
              "8   Consumptief krediet  Uitstaande bedragen (mln euro's)  Huishoudens   \n",
              "9   Consumptief krediet  Uitstaande bedragen (mln euro's)  Huishoudens   \n",
              "10  Consumptief krediet  Uitstaande bedragen (mln euro's)  Huishoudens   \n",
              "\n",
              "    Periode   waarde  \n",
              "0   2003-01  22284.0  \n",
              "1   2003-02  22162.0  \n",
              "3   2003-04  22575.0  \n",
              "4   2003-05  21868.0  \n",
              "5   2003-06  22477.0  \n",
              "6   2003-07  22798.0  \n",
              "7   2003-08  22606.0  \n",
              "8   2003-09  22656.0  \n",
              "9   2003-10  22937.0  \n",
              "10  2003-11  23037.0  "
            ]
          },
          "execution_count": 80,
          "metadata": {},
          "output_type": "execute_result"
        }
      ],
      "source": [
        "df.dropna(how='any', thresh=2, axis=0, subset=['waarde','Instrument'], inplace=False).head(10)"
      ]
    },
    {
      "cell_type": "markdown",
      "metadata": {
        "colab_type": "text",
        "id": "uDWfQWI-q3iA"
      },
      "source": [
        "NaN waardes interpoleren"
      ]
    },
    {
      "cell_type": "code",
      "execution_count": 81,
      "metadata": {
        "colab": {},
        "colab_type": "code",
        "id": "MiGbRAjgq3iB"
      },
      "outputs": [
        {
          "data": {
            "text/html": [
              "<div>\n",
              "<style scoped>\n",
              "    .dataframe tbody tr th:only-of-type {\n",
              "        vertical-align: middle;\n",
              "    }\n",
              "\n",
              "    .dataframe tbody tr th {\n",
              "        vertical-align: top;\n",
              "    }\n",
              "\n",
              "    .dataframe thead th {\n",
              "        text-align: right;\n",
              "    }\n",
              "</style>\n",
              "<table border=\"1\" class=\"dataframe\">\n",
              "  <thead>\n",
              "    <tr style=\"text-align: right;\">\n",
              "      <th></th>\n",
              "      <th>Instrument</th>\n",
              "      <th>InstrumentSub</th>\n",
              "      <th>Sector</th>\n",
              "      <th>Periode</th>\n",
              "      <th>waarde</th>\n",
              "    </tr>\n",
              "  </thead>\n",
              "  <tbody>\n",
              "    <tr>\n",
              "      <th>0</th>\n",
              "      <td>Consumptief krediet</td>\n",
              "      <td>Uitstaande bedragen (mln euro's)</td>\n",
              "      <td>Huishoudens</td>\n",
              "      <td>2003-01</td>\n",
              "      <td>22284.0</td>\n",
              "    </tr>\n",
              "    <tr>\n",
              "      <th>1</th>\n",
              "      <td>Consumptief krediet</td>\n",
              "      <td>Uitstaande bedragen (mln euro's)</td>\n",
              "      <td>Huishoudens</td>\n",
              "      <td>2003-02</td>\n",
              "      <td>22162.0</td>\n",
              "    </tr>\n",
              "    <tr>\n",
              "      <th>2</th>\n",
              "      <td>Consumptief krediet</td>\n",
              "      <td>Uitstaande bedragen (mln euro's)</td>\n",
              "      <td>Huishoudens</td>\n",
              "      <td>2003-03</td>\n",
              "      <td>22368.5</td>\n",
              "    </tr>\n",
              "    <tr>\n",
              "      <th>3</th>\n",
              "      <td>Consumptief krediet</td>\n",
              "      <td>Uitstaande bedragen (mln euro's)</td>\n",
              "      <td>Huishoudens</td>\n",
              "      <td>2003-04</td>\n",
              "      <td>22575.0</td>\n",
              "    </tr>\n",
              "    <tr>\n",
              "      <th>4</th>\n",
              "      <td>Consumptief krediet</td>\n",
              "      <td>Uitstaande bedragen (mln euro's)</td>\n",
              "      <td>Huishoudens</td>\n",
              "      <td>2003-05</td>\n",
              "      <td>21868.0</td>\n",
              "    </tr>\n",
              "    <tr>\n",
              "      <th>...</th>\n",
              "      <td>...</td>\n",
              "      <td>...</td>\n",
              "      <td>...</td>\n",
              "      <td>...</td>\n",
              "      <td>...</td>\n",
              "    </tr>\n",
              "    <tr>\n",
              "      <th>4488</th>\n",
              "      <td>Zakelijke kredietverlening</td>\n",
              "      <td>Uitstaande bedragen (mln euro's)</td>\n",
              "      <td>Niet-financiële bedrijven</td>\n",
              "      <td>2021-08</td>\n",
              "      <td>245423.0</td>\n",
              "    </tr>\n",
              "    <tr>\n",
              "      <th>4489</th>\n",
              "      <td>Zakelijke kredietverlening</td>\n",
              "      <td>Uitstaande bedragen (mln euro's)</td>\n",
              "      <td>Niet-financiële bedrijven</td>\n",
              "      <td>2021-09</td>\n",
              "      <td>246083.0</td>\n",
              "    </tr>\n",
              "    <tr>\n",
              "      <th>4490</th>\n",
              "      <td>Zakelijke kredietverlening</td>\n",
              "      <td>Uitstaande bedragen (mln euro's)</td>\n",
              "      <td>Niet-financiële bedrijven</td>\n",
              "      <td>2021-10</td>\n",
              "      <td>245986.0</td>\n",
              "    </tr>\n",
              "    <tr>\n",
              "      <th>4491</th>\n",
              "      <td>Zakelijke kredietverlening</td>\n",
              "      <td>Uitstaande bedragen (mln euro's)</td>\n",
              "      <td>Niet-financiële bedrijven</td>\n",
              "      <td>2021-11</td>\n",
              "      <td>246942.0</td>\n",
              "    </tr>\n",
              "    <tr>\n",
              "      <th>4492</th>\n",
              "      <td>Zakelijke kredietverlening</td>\n",
              "      <td>Uitstaande bedragen (mln euro's)</td>\n",
              "      <td>Niet-financiële bedrijven</td>\n",
              "      <td>2021-12</td>\n",
              "      <td>251824.0</td>\n",
              "    </tr>\n",
              "  </tbody>\n",
              "</table>\n",
              "<p>4493 rows × 5 columns</p>\n",
              "</div>"
            ],
            "text/plain": [
              "                      Instrument                     InstrumentSub  \\\n",
              "0            Consumptief krediet  Uitstaande bedragen (mln euro's)   \n",
              "1            Consumptief krediet  Uitstaande bedragen (mln euro's)   \n",
              "2            Consumptief krediet  Uitstaande bedragen (mln euro's)   \n",
              "3            Consumptief krediet  Uitstaande bedragen (mln euro's)   \n",
              "4            Consumptief krediet  Uitstaande bedragen (mln euro's)   \n",
              "...                          ...                               ...   \n",
              "4488  Zakelijke kredietverlening  Uitstaande bedragen (mln euro's)   \n",
              "4489  Zakelijke kredietverlening  Uitstaande bedragen (mln euro's)   \n",
              "4490  Zakelijke kredietverlening  Uitstaande bedragen (mln euro's)   \n",
              "4491  Zakelijke kredietverlening  Uitstaande bedragen (mln euro's)   \n",
              "4492  Zakelijke kredietverlening  Uitstaande bedragen (mln euro's)   \n",
              "\n",
              "                         Sector  Periode    waarde  \n",
              "0                   Huishoudens  2003-01   22284.0  \n",
              "1                   Huishoudens  2003-02   22162.0  \n",
              "2                   Huishoudens  2003-03   22368.5  \n",
              "3                   Huishoudens  2003-04   22575.0  \n",
              "4                   Huishoudens  2003-05   21868.0  \n",
              "...                         ...      ...       ...  \n",
              "4488  Niet-financiële bedrijven  2021-08  245423.0  \n",
              "4489  Niet-financiële bedrijven  2021-09  246083.0  \n",
              "4490  Niet-financiële bedrijven  2021-10  245986.0  \n",
              "4491  Niet-financiële bedrijven  2021-11  246942.0  \n",
              "4492  Niet-financiële bedrijven  2021-12  251824.0  \n",
              "\n",
              "[4493 rows x 5 columns]"
            ]
          },
          "execution_count": 81,
          "metadata": {},
          "output_type": "execute_result"
        }
      ],
      "source": [
        "df_interpolated = df.interpolate(method='linear', order=2, limit=5, limit_direction='both', limit_area='inside')\n",
        "df_interpolated"
      ]
    },
    {
      "cell_type": "code",
      "execution_count": 120,
      "metadata": {},
      "outputs": [],
      "source": [
        "df.loc[df['waarde'].isna(), 'waarde'] = df_interpolated['waarde'].loc[df['waarde'].isna()]"
      ]
    },
    {
      "cell_type": "markdown",
      "metadata": {
        "colab_type": "text",
        "id": "QDkdW5uCq3iG"
      },
      "source": [
        "Identieke rijen verwijderen"
      ]
    },
    {
      "cell_type": "code",
      "execution_count": 121,
      "metadata": {
        "colab": {},
        "colab_type": "code",
        "id": "cWG1BZWRq3iH"
      },
      "outputs": [
        {
          "name": "stdout",
          "output_type": "stream",
          "text": [
            "Aantal rijen voor verwijderen 4493\n",
            "Aantal rijen na verwijderen 4487\n"
          ]
        }
      ],
      "source": [
        "print(\"Aantal rijen voor verwijderen {}\".format(len(df)))\n",
        "df.drop_duplicates(inplace=True)\n",
        "print(\"Aantal rijen na verwijderen {}\".format(len(df)))"
      ]
    },
    {
      "cell_type": "markdown",
      "metadata": {
        "colab_type": "text",
        "id": "8Oi2lJpyq3jC"
      },
      "source": [
        "Kolom toevoegen"
      ]
    },
    {
      "cell_type": "code",
      "execution_count": 122,
      "metadata": {
        "colab": {},
        "colab_type": "code",
        "id": "VfRew8Dxq3jC"
      },
      "outputs": [
        {
          "data": {
            "text/html": [
              "<div>\n",
              "<style scoped>\n",
              "    .dataframe tbody tr th:only-of-type {\n",
              "        vertical-align: middle;\n",
              "    }\n",
              "\n",
              "    .dataframe tbody tr th {\n",
              "        vertical-align: top;\n",
              "    }\n",
              "\n",
              "    .dataframe thead th {\n",
              "        text-align: right;\n",
              "    }\n",
              "</style>\n",
              "<table border=\"1\" class=\"dataframe\">\n",
              "  <thead>\n",
              "    <tr style=\"text-align: right;\">\n",
              "      <th></th>\n",
              "      <th>Instrument</th>\n",
              "      <th>InstrumentSub</th>\n",
              "      <th>Sector</th>\n",
              "      <th>Periode</th>\n",
              "      <th>waarde</th>\n",
              "      <th>waarde - 10</th>\n",
              "    </tr>\n",
              "  </thead>\n",
              "  <tbody>\n",
              "    <tr>\n",
              "      <th>0</th>\n",
              "      <td>Consumptief krediet</td>\n",
              "      <td>Uitstaande bedragen (mln euro's)</td>\n",
              "      <td>Huishoudens</td>\n",
              "      <td>2003-01</td>\n",
              "      <td>22284.0</td>\n",
              "      <td>22274.0</td>\n",
              "    </tr>\n",
              "    <tr>\n",
              "      <th>1</th>\n",
              "      <td>Consumptief krediet</td>\n",
              "      <td>Uitstaande bedragen (mln euro's)</td>\n",
              "      <td>Huishoudens</td>\n",
              "      <td>2003-02</td>\n",
              "      <td>22162.0</td>\n",
              "      <td>22152.0</td>\n",
              "    </tr>\n",
              "    <tr>\n",
              "      <th>2</th>\n",
              "      <td>Consumptief krediet</td>\n",
              "      <td>Uitstaande bedragen (mln euro's)</td>\n",
              "      <td>Huishoudens</td>\n",
              "      <td>2003-03</td>\n",
              "      <td>22368.5</td>\n",
              "      <td>22358.5</td>\n",
              "    </tr>\n",
              "    <tr>\n",
              "      <th>3</th>\n",
              "      <td>Consumptief krediet</td>\n",
              "      <td>Uitstaande bedragen (mln euro's)</td>\n",
              "      <td>Huishoudens</td>\n",
              "      <td>2003-04</td>\n",
              "      <td>22575.0</td>\n",
              "      <td>22565.0</td>\n",
              "    </tr>\n",
              "    <tr>\n",
              "      <th>4</th>\n",
              "      <td>Consumptief krediet</td>\n",
              "      <td>Uitstaande bedragen (mln euro's)</td>\n",
              "      <td>Huishoudens</td>\n",
              "      <td>2003-05</td>\n",
              "      <td>21868.0</td>\n",
              "      <td>21858.0</td>\n",
              "    </tr>\n",
              "  </tbody>\n",
              "</table>\n",
              "</div>"
            ],
            "text/plain": [
              "            Instrument                     InstrumentSub       Sector  \\\n",
              "0  Consumptief krediet  Uitstaande bedragen (mln euro's)  Huishoudens   \n",
              "1  Consumptief krediet  Uitstaande bedragen (mln euro's)  Huishoudens   \n",
              "2  Consumptief krediet  Uitstaande bedragen (mln euro's)  Huishoudens   \n",
              "3  Consumptief krediet  Uitstaande bedragen (mln euro's)  Huishoudens   \n",
              "4  Consumptief krediet  Uitstaande bedragen (mln euro's)  Huishoudens   \n",
              "\n",
              "   Periode   waarde  waarde - 10  \n",
              "0  2003-01  22284.0      22274.0  \n",
              "1  2003-02  22162.0      22152.0  \n",
              "2  2003-03  22368.5      22358.5  \n",
              "3  2003-04  22575.0      22565.0  \n",
              "4  2003-05  21868.0      21858.0  "
            ]
          },
          "execution_count": 122,
          "metadata": {},
          "output_type": "execute_result"
        }
      ],
      "source": [
        "df['waarde - 10'] = df['waarde'] - 10 \n",
        "df.head(5)"
      ]
    },
    {
      "cell_type": "markdown",
      "metadata": {
        "colab_type": "text",
        "id": "OouTV1Hgq3iK"
      },
      "source": [
        "Kolommen of rijen laten vallen"
      ]
    },
    {
      "cell_type": "code",
      "execution_count": 85,
      "metadata": {
        "colab": {},
        "colab_type": "code",
        "id": "O_i3TPBFq3iL"
      },
      "outputs": [
        {
          "data": {
            "text/html": [
              "<div>\n",
              "<style scoped>\n",
              "    .dataframe tbody tr th:only-of-type {\n",
              "        vertical-align: middle;\n",
              "    }\n",
              "\n",
              "    .dataframe tbody tr th {\n",
              "        vertical-align: top;\n",
              "    }\n",
              "\n",
              "    .dataframe thead th {\n",
              "        text-align: right;\n",
              "    }\n",
              "</style>\n",
              "<table border=\"1\" class=\"dataframe\">\n",
              "  <thead>\n",
              "    <tr style=\"text-align: right;\">\n",
              "      <th></th>\n",
              "      <th>Instrument</th>\n",
              "      <th>InstrumentSub</th>\n",
              "      <th>Sector</th>\n",
              "      <th>Periode</th>\n",
              "      <th>waarde</th>\n",
              "    </tr>\n",
              "  </thead>\n",
              "  <tbody>\n",
              "    <tr>\n",
              "      <th>0</th>\n",
              "      <td>Consumptief krediet</td>\n",
              "      <td>Uitstaande bedragen (mln euro's)</td>\n",
              "      <td>Huishoudens</td>\n",
              "      <td>2003-01</td>\n",
              "      <td>22284.0</td>\n",
              "    </tr>\n",
              "    <tr>\n",
              "      <th>1</th>\n",
              "      <td>Consumptief krediet</td>\n",
              "      <td>Uitstaande bedragen (mln euro's)</td>\n",
              "      <td>Huishoudens</td>\n",
              "      <td>2003-02</td>\n",
              "      <td>22162.0</td>\n",
              "    </tr>\n",
              "    <tr>\n",
              "      <th>2</th>\n",
              "      <td>Consumptief krediet</td>\n",
              "      <td>Uitstaande bedragen (mln euro's)</td>\n",
              "      <td>Huishoudens</td>\n",
              "      <td>2003-03</td>\n",
              "      <td>22368.5</td>\n",
              "    </tr>\n",
              "    <tr>\n",
              "      <th>3</th>\n",
              "      <td>Consumptief krediet</td>\n",
              "      <td>Uitstaande bedragen (mln euro's)</td>\n",
              "      <td>Huishoudens</td>\n",
              "      <td>2003-04</td>\n",
              "      <td>22575.0</td>\n",
              "    </tr>\n",
              "    <tr>\n",
              "      <th>4</th>\n",
              "      <td>Consumptief krediet</td>\n",
              "      <td>Uitstaande bedragen (mln euro's)</td>\n",
              "      <td>Huishoudens</td>\n",
              "      <td>2003-05</td>\n",
              "      <td>21868.0</td>\n",
              "    </tr>\n",
              "  </tbody>\n",
              "</table>\n",
              "</div>"
            ],
            "text/plain": [
              "            Instrument                     InstrumentSub       Sector  \\\n",
              "0  Consumptief krediet  Uitstaande bedragen (mln euro's)  Huishoudens   \n",
              "1  Consumptief krediet  Uitstaande bedragen (mln euro's)  Huishoudens   \n",
              "2  Consumptief krediet  Uitstaande bedragen (mln euro's)  Huishoudens   \n",
              "3  Consumptief krediet  Uitstaande bedragen (mln euro's)  Huishoudens   \n",
              "4  Consumptief krediet  Uitstaande bedragen (mln euro's)  Huishoudens   \n",
              "\n",
              "   Periode   waarde  \n",
              "0  2003-01  22284.0  \n",
              "1  2003-02  22162.0  \n",
              "2  2003-03  22368.5  \n",
              "3  2003-04  22575.0  \n",
              "4  2003-05  21868.0  "
            ]
          },
          "execution_count": 85,
          "metadata": {},
          "output_type": "execute_result"
        }
      ],
      "source": [
        "df.drop(columns=['waarde - 10'], inplace=True)\n",
        "df.head(5)"
      ]
    },
    {
      "cell_type": "markdown",
      "metadata": {
        "colab_type": "text",
        "id": "tPo0ov4Lq3iO"
      },
      "source": [
        "Data afronden"
      ]
    },
    {
      "cell_type": "code",
      "execution_count": 86,
      "metadata": {
        "colab": {},
        "colab_type": "code",
        "id": "bie4FCeQq3iO"
      },
      "outputs": [
        {
          "data": {
            "text/html": [
              "<div>\n",
              "<style scoped>\n",
              "    .dataframe tbody tr th:only-of-type {\n",
              "        vertical-align: middle;\n",
              "    }\n",
              "\n",
              "    .dataframe tbody tr th {\n",
              "        vertical-align: top;\n",
              "    }\n",
              "\n",
              "    .dataframe thead th {\n",
              "        text-align: right;\n",
              "    }\n",
              "</style>\n",
              "<table border=\"1\" class=\"dataframe\">\n",
              "  <thead>\n",
              "    <tr style=\"text-align: right;\">\n",
              "      <th></th>\n",
              "      <th>Instrument</th>\n",
              "      <th>InstrumentSub</th>\n",
              "      <th>Sector</th>\n",
              "      <th>Periode</th>\n",
              "      <th>waarde</th>\n",
              "    </tr>\n",
              "  </thead>\n",
              "  <tbody>\n",
              "    <tr>\n",
              "      <th>0</th>\n",
              "      <td>Consumptief krediet</td>\n",
              "      <td>Uitstaande bedragen (mln euro's)</td>\n",
              "      <td>Huishoudens</td>\n",
              "      <td>2003-01</td>\n",
              "      <td>22300.0</td>\n",
              "    </tr>\n",
              "    <tr>\n",
              "      <th>1</th>\n",
              "      <td>Consumptief krediet</td>\n",
              "      <td>Uitstaande bedragen (mln euro's)</td>\n",
              "      <td>Huishoudens</td>\n",
              "      <td>2003-02</td>\n",
              "      <td>22200.0</td>\n",
              "    </tr>\n",
              "    <tr>\n",
              "      <th>2</th>\n",
              "      <td>Consumptief krediet</td>\n",
              "      <td>Uitstaande bedragen (mln euro's)</td>\n",
              "      <td>Huishoudens</td>\n",
              "      <td>2003-03</td>\n",
              "      <td>22400.0</td>\n",
              "    </tr>\n",
              "    <tr>\n",
              "      <th>3</th>\n",
              "      <td>Consumptief krediet</td>\n",
              "      <td>Uitstaande bedragen (mln euro's)</td>\n",
              "      <td>Huishoudens</td>\n",
              "      <td>2003-04</td>\n",
              "      <td>22600.0</td>\n",
              "    </tr>\n",
              "    <tr>\n",
              "      <th>4</th>\n",
              "      <td>Consumptief krediet</td>\n",
              "      <td>Uitstaande bedragen (mln euro's)</td>\n",
              "      <td>Huishoudens</td>\n",
              "      <td>2003-05</td>\n",
              "      <td>21900.0</td>\n",
              "    </tr>\n",
              "  </tbody>\n",
              "</table>\n",
              "</div>"
            ],
            "text/plain": [
              "            Instrument                     InstrumentSub       Sector  \\\n",
              "0  Consumptief krediet  Uitstaande bedragen (mln euro's)  Huishoudens   \n",
              "1  Consumptief krediet  Uitstaande bedragen (mln euro's)  Huishoudens   \n",
              "2  Consumptief krediet  Uitstaande bedragen (mln euro's)  Huishoudens   \n",
              "3  Consumptief krediet  Uitstaande bedragen (mln euro's)  Huishoudens   \n",
              "4  Consumptief krediet  Uitstaande bedragen (mln euro's)  Huishoudens   \n",
              "\n",
              "   Periode   waarde  \n",
              "0  2003-01  22300.0  \n",
              "1  2003-02  22200.0  \n",
              "2  2003-03  22400.0  \n",
              "3  2003-04  22600.0  \n",
              "4  2003-05  21900.0  "
            ]
          },
          "execution_count": 86,
          "metadata": {},
          "output_type": "execute_result"
        }
      ],
      "source": [
        "df.round({'waarde' : -2}).head(5)"
      ]
    },
    {
      "cell_type": "markdown",
      "metadata": {
        "colab_type": "text",
        "id": "o2O-To23q3iR"
      },
      "source": [
        "Data discreet maken"
      ]
    },
    {
      "cell_type": "code",
      "execution_count": 87,
      "metadata": {
        "colab": {},
        "colab_type": "code",
        "id": "-Br6Vnb3q3iS"
      },
      "outputs": [
        {
          "data": {
            "text/plain": [
              "0    (10000.0, 100000.0]\n",
              "1    (10000.0, 100000.0]\n",
              "2    (10000.0, 100000.0]\n",
              "3    (10000.0, 100000.0]\n",
              "4    (10000.0, 100000.0]\n",
              "Name: waarde, dtype: category\n",
              "Categories (7, interval[float64, right]): [(0.0, 10.0] < (10.0, 100.0] < (100.0, 1000.0] < (1000.0, 10000.0] < (10000.0, 100000.0] < (100000.0, 1000000.0] < (1000000.0, 10000000.0]]"
            ]
          },
          "execution_count": 87,
          "metadata": {},
          "output_type": "execute_result"
        }
      ],
      "source": [
        "pd.cut(df['waarde'], bins=[0,1e1,1e2,1e3,1e4,1e5,1e6,1e7],precision =2, retbins=True,  duplicates='drop')[0].head(5)"
      ]
    },
    {
      "cell_type": "markdown",
      "metadata": {
        "colab_type": "text",
        "id": "EEnoUESsq3iW"
      },
      "source": [
        "### Data indexeren en combineren \n",
        "\n",
        "Data indexeren op basis van labels of een boolean index"
      ]
    },
    {
      "cell_type": "code",
      "execution_count": 88,
      "metadata": {
        "colab": {},
        "colab_type": "code",
        "id": "1AnGEG82q3iX"
      },
      "outputs": [
        {
          "data": {
            "text/html": [
              "<div>\n",
              "<style scoped>\n",
              "    .dataframe tbody tr th:only-of-type {\n",
              "        vertical-align: middle;\n",
              "    }\n",
              "\n",
              "    .dataframe tbody tr th {\n",
              "        vertical-align: top;\n",
              "    }\n",
              "\n",
              "    .dataframe thead th {\n",
              "        text-align: right;\n",
              "    }\n",
              "</style>\n",
              "<table border=\"1\" class=\"dataframe\">\n",
              "  <thead>\n",
              "    <tr style=\"text-align: right;\">\n",
              "      <th></th>\n",
              "      <th>Instrument</th>\n",
              "      <th>InstrumentSub</th>\n",
              "      <th>Sector</th>\n",
              "      <th>Periode</th>\n",
              "      <th>waarde</th>\n",
              "    </tr>\n",
              "  </thead>\n",
              "  <tbody>\n",
              "  </tbody>\n",
              "</table>\n",
              "</div>"
            ],
            "text/plain": [
              "Empty DataFrame\n",
              "Columns: [Instrument, InstrumentSub, Sector, Periode, waarde]\n",
              "Index: []"
            ]
          },
          "execution_count": 88,
          "metadata": {},
          "output_type": "execute_result"
        }
      ],
      "source": [
        "df.loc[df['InstrumentSub'].isna()]"
      ]
    },
    {
      "cell_type": "code",
      "execution_count": 89,
      "metadata": {
        "colab": {},
        "colab_type": "code",
        "id": "uzgY_6opq3ib"
      },
      "outputs": [
        {
          "data": {
            "text/html": [
              "<div>\n",
              "<style scoped>\n",
              "    .dataframe tbody tr th:only-of-type {\n",
              "        vertical-align: middle;\n",
              "    }\n",
              "\n",
              "    .dataframe tbody tr th {\n",
              "        vertical-align: top;\n",
              "    }\n",
              "\n",
              "    .dataframe thead th {\n",
              "        text-align: right;\n",
              "    }\n",
              "</style>\n",
              "<table border=\"1\" class=\"dataframe\">\n",
              "  <thead>\n",
              "    <tr style=\"text-align: right;\">\n",
              "      <th></th>\n",
              "      <th>Instrument</th>\n",
              "      <th>InstrumentSub</th>\n",
              "      <th>Sector</th>\n",
              "      <th>Periode</th>\n",
              "      <th>waarde</th>\n",
              "    </tr>\n",
              "  </thead>\n",
              "  <tbody>\n",
              "    <tr>\n",
              "      <th>41</th>\n",
              "      <td>Consumptief krediet</td>\n",
              "      <td>Uitstaande bedragen (mln euro's)</td>\n",
              "      <td>Huishoudens</td>\n",
              "      <td>2006-06</td>\n",
              "      <td>28950.00</td>\n",
              "    </tr>\n",
              "    <tr>\n",
              "      <th>324</th>\n",
              "      <td>Rekening courante tegoeden en spaargeld</td>\n",
              "      <td>Deposito's met opzegtermijn (mln euro's)</td>\n",
              "      <td>Huishoudens</td>\n",
              "      <td>2006-06</td>\n",
              "      <td>215027.00</td>\n",
              "    </tr>\n",
              "    <tr>\n",
              "      <th>606</th>\n",
              "      <td>Rekening courante tegoeden en spaargeld</td>\n",
              "      <td>Deposito's met vaste looptijd (mln euro's)</td>\n",
              "      <td>Huishoudens</td>\n",
              "      <td>2006-06</td>\n",
              "      <td>20650.00</td>\n",
              "    </tr>\n",
              "    <tr>\n",
              "      <th>856</th>\n",
              "      <td>Rekening courante tegoeden en spaargeld</td>\n",
              "      <td>Girale deposito's (mln euro's)</td>\n",
              "      <td>Huishoudens</td>\n",
              "      <td>2006-06</td>\n",
              "      <td>57674.00</td>\n",
              "    </tr>\n",
              "    <tr>\n",
              "      <th>1663</th>\n",
              "      <td>Woninghypotheken</td>\n",
              "      <td>Nieuwe contracten, inclusief heronderhandeling...</td>\n",
              "      <td>Huishoudens *</td>\n",
              "      <td>2006-06</td>\n",
              "      <td>9368.00</td>\n",
              "    </tr>\n",
              "    <tr>\n",
              "      <th>1896</th>\n",
              "      <td>Woninghypotheken</td>\n",
              "      <td>Rente op nieuwe contracten, inclusief heronder...</td>\n",
              "      <td>Huishoudens *</td>\n",
              "      <td>2006-06</td>\n",
              "      <td>4.40</td>\n",
              "    </tr>\n",
              "    <tr>\n",
              "      <th>2129</th>\n",
              "      <td>Woninghypotheken</td>\n",
              "      <td>Rente op uitstaande bedragen (percentages)</td>\n",
              "      <td>Huishoudens</td>\n",
              "      <td>2006-06</td>\n",
              "      <td>4.70</td>\n",
              "    </tr>\n",
              "    <tr>\n",
              "      <th>3005</th>\n",
              "      <td>Woninghypotheken</td>\n",
              "      <td>Uitstaande bedragen (mln euro's)</td>\n",
              "      <td>Huishoudens</td>\n",
              "      <td>2006-06</td>\n",
              "      <td>443980.00</td>\n",
              "    </tr>\n",
              "    <tr>\n",
              "      <th>3328</th>\n",
              "      <td>Zakelijke kredietverlening</td>\n",
              "      <td>Nieuwe contracten (mln euro's)</td>\n",
              "      <td>Niet-financiële bedrijven</td>\n",
              "      <td>2006-06</td>\n",
              "      <td>9783.00</td>\n",
              "    </tr>\n",
              "    <tr>\n",
              "      <th>3846</th>\n",
              "      <td>Zakelijke kredietverlening</td>\n",
              "      <td>Rente op nieuwe contracten &gt; € 1 mln (percenta...</td>\n",
              "      <td>Niet-financiële bedrijven</td>\n",
              "      <td>2006-06</td>\n",
              "      <td>3.66</td>\n",
              "    </tr>\n",
              "    <tr>\n",
              "      <th>4078</th>\n",
              "      <td>Zakelijke kredietverlening</td>\n",
              "      <td>Rente op uitstaande leningen  (percentages)</td>\n",
              "      <td>Niet-financiële bedrijven</td>\n",
              "      <td>2006-06</td>\n",
              "      <td>4.60</td>\n",
              "    </tr>\n",
              "    <tr>\n",
              "      <th>4306</th>\n",
              "      <td>Zakelijke kredietverlening</td>\n",
              "      <td>Uitstaande bedragen (mln euro's)</td>\n",
              "      <td>Niet-financiële bedrijven</td>\n",
              "      <td>2006-06</td>\n",
              "      <td>208315.00</td>\n",
              "    </tr>\n",
              "  </tbody>\n",
              "</table>\n",
              "</div>"
            ],
            "text/plain": [
              "                                   Instrument  \\\n",
              "41                        Consumptief krediet   \n",
              "324   Rekening courante tegoeden en spaargeld   \n",
              "606   Rekening courante tegoeden en spaargeld   \n",
              "856   Rekening courante tegoeden en spaargeld   \n",
              "1663                         Woninghypotheken   \n",
              "1896                         Woninghypotheken   \n",
              "2129                         Woninghypotheken   \n",
              "3005                         Woninghypotheken   \n",
              "3328               Zakelijke kredietverlening   \n",
              "3846               Zakelijke kredietverlening   \n",
              "4078               Zakelijke kredietverlening   \n",
              "4306               Zakelijke kredietverlening   \n",
              "\n",
              "                                          InstrumentSub  \\\n",
              "41                     Uitstaande bedragen (mln euro's)   \n",
              "324            Deposito's met opzegtermijn (mln euro's)   \n",
              "606          Deposito's met vaste looptijd (mln euro's)   \n",
              "856                      Girale deposito's (mln euro's)   \n",
              "1663  Nieuwe contracten, inclusief heronderhandeling...   \n",
              "1896  Rente op nieuwe contracten, inclusief heronder...   \n",
              "2129         Rente op uitstaande bedragen (percentages)   \n",
              "3005                   Uitstaande bedragen (mln euro's)   \n",
              "3328                     Nieuwe contracten (mln euro's)   \n",
              "3846  Rente op nieuwe contracten > € 1 mln (percenta...   \n",
              "4078        Rente op uitstaande leningen  (percentages)   \n",
              "4306                   Uitstaande bedragen (mln euro's)   \n",
              "\n",
              "                         Sector  Periode     waarde  \n",
              "41                  Huishoudens  2006-06   28950.00  \n",
              "324                 Huishoudens  2006-06  215027.00  \n",
              "606                 Huishoudens  2006-06   20650.00  \n",
              "856                 Huishoudens  2006-06   57674.00  \n",
              "1663              Huishoudens *  2006-06    9368.00  \n",
              "1896              Huishoudens *  2006-06       4.40  \n",
              "2129                Huishoudens  2006-06       4.70  \n",
              "3005                Huishoudens  2006-06  443980.00  \n",
              "3328  Niet-financiële bedrijven  2006-06    9783.00  \n",
              "3846  Niet-financiële bedrijven  2006-06       3.66  \n",
              "4078  Niet-financiële bedrijven  2006-06       4.60  \n",
              "4306  Niet-financiële bedrijven  2006-06  208315.00  "
            ]
          },
          "execution_count": 89,
          "metadata": {},
          "output_type": "execute_result"
        }
      ],
      "source": [
        "df.loc[df['Periode']=='2006-06']"
      ]
    },
    {
      "cell_type": "markdown",
      "metadata": {
        "colab_type": "text",
        "id": "uhYPNwfhq3ie"
      },
      "source": [
        "Data selecteren aan de hand van een integer index"
      ]
    },
    {
      "cell_type": "code",
      "execution_count": 90,
      "metadata": {
        "colab": {},
        "colab_type": "code",
        "id": "9L9TLNyXq3if"
      },
      "outputs": [
        {
          "data": {
            "text/html": [
              "<div>\n",
              "<style scoped>\n",
              "    .dataframe tbody tr th:only-of-type {\n",
              "        vertical-align: middle;\n",
              "    }\n",
              "\n",
              "    .dataframe tbody tr th {\n",
              "        vertical-align: top;\n",
              "    }\n",
              "\n",
              "    .dataframe thead th {\n",
              "        text-align: right;\n",
              "    }\n",
              "</style>\n",
              "<table border=\"1\" class=\"dataframe\">\n",
              "  <thead>\n",
              "    <tr style=\"text-align: right;\">\n",
              "      <th></th>\n",
              "      <th>Instrument</th>\n",
              "      <th>InstrumentSub</th>\n",
              "      <th>Sector</th>\n",
              "    </tr>\n",
              "  </thead>\n",
              "  <tbody>\n",
              "    <tr>\n",
              "      <th>45</th>\n",
              "      <td>Consumptief krediet</td>\n",
              "      <td>Uitstaande bedragen (mln euro's)</td>\n",
              "      <td>Huishoudens</td>\n",
              "    </tr>\n",
              "    <tr>\n",
              "      <th>46</th>\n",
              "      <td>Consumptief krediet</td>\n",
              "      <td>Uitstaande bedragen (mln euro's)</td>\n",
              "      <td>Huishoudens</td>\n",
              "    </tr>\n",
              "    <tr>\n",
              "      <th>47</th>\n",
              "      <td>Consumptief krediet</td>\n",
              "      <td>Uitstaande bedragen (mln euro's)</td>\n",
              "      <td>Huishoudens</td>\n",
              "    </tr>\n",
              "    <tr>\n",
              "      <th>48</th>\n",
              "      <td>Consumptief krediet</td>\n",
              "      <td>Uitstaande bedragen (mln euro's)</td>\n",
              "      <td>Huishoudens</td>\n",
              "    </tr>\n",
              "    <tr>\n",
              "      <th>49</th>\n",
              "      <td>Consumptief krediet</td>\n",
              "      <td>Uitstaande bedragen (mln euro's)</td>\n",
              "      <td>Huishoudens</td>\n",
              "    </tr>\n",
              "    <tr>\n",
              "      <th>56</th>\n",
              "      <td>Consumptief krediet</td>\n",
              "      <td>Uitstaande bedragen (mln euro's)</td>\n",
              "      <td>Huishoudens</td>\n",
              "    </tr>\n",
              "    <tr>\n",
              "      <th>57</th>\n",
              "      <td>Consumptief krediet</td>\n",
              "      <td>Uitstaande bedragen (mln euro's)</td>\n",
              "      <td>Huishoudens</td>\n",
              "    </tr>\n",
              "    <tr>\n",
              "      <th>58</th>\n",
              "      <td>Consumptief krediet</td>\n",
              "      <td>Uitstaande bedragen (mln euro's)</td>\n",
              "      <td>Huishoudens</td>\n",
              "    </tr>\n",
              "    <tr>\n",
              "      <th>59</th>\n",
              "      <td>Consumptief krediet</td>\n",
              "      <td>Uitstaande bedragen (mln euro's)</td>\n",
              "      <td>Huishoudens</td>\n",
              "    </tr>\n",
              "    <tr>\n",
              "      <th>60</th>\n",
              "      <td>Consumptief krediet</td>\n",
              "      <td>Uitstaande bedragen (mln euro's)</td>\n",
              "      <td>Huishoudens</td>\n",
              "    </tr>\n",
              "  </tbody>\n",
              "</table>\n",
              "</div>"
            ],
            "text/plain": [
              "             Instrument                     InstrumentSub       Sector\n",
              "45  Consumptief krediet  Uitstaande bedragen (mln euro's)  Huishoudens\n",
              "46  Consumptief krediet  Uitstaande bedragen (mln euro's)  Huishoudens\n",
              "47  Consumptief krediet  Uitstaande bedragen (mln euro's)  Huishoudens\n",
              "48  Consumptief krediet  Uitstaande bedragen (mln euro's)  Huishoudens\n",
              "49  Consumptief krediet  Uitstaande bedragen (mln euro's)  Huishoudens\n",
              "56  Consumptief krediet  Uitstaande bedragen (mln euro's)  Huishoudens\n",
              "57  Consumptief krediet  Uitstaande bedragen (mln euro's)  Huishoudens\n",
              "58  Consumptief krediet  Uitstaande bedragen (mln euro's)  Huishoudens\n",
              "59  Consumptief krediet  Uitstaande bedragen (mln euro's)  Huishoudens\n",
              "60  Consumptief krediet  Uitstaande bedragen (mln euro's)  Huishoudens"
            ]
          },
          "execution_count": 90,
          "metadata": {},
          "output_type": "execute_result"
        }
      ],
      "source": [
        "df.iloc[45:55,:3]"
      ]
    },
    {
      "cell_type": "markdown",
      "metadata": {
        "colab_type": "text",
        "id": "UTkBNpF9q3ij"
      },
      "source": [
        "Een enkel element selecteren"
      ]
    },
    {
      "cell_type": "code",
      "execution_count": 91,
      "metadata": {
        "colab": {},
        "colab_type": "code",
        "id": "bsAjTMgLq3ij"
      },
      "outputs": [
        {
          "data": {
            "text/plain": [
              "30625.0"
            ]
          },
          "execution_count": 91,
          "metadata": {},
          "output_type": "execute_result"
        }
      ],
      "source": [
        "df.at[48,'waarde']"
      ]
    },
    {
      "cell_type": "markdown",
      "metadata": {
        "colab_type": "text",
        "id": "cp6FeGsXq3io"
      },
      "source": [
        "Chain indexing, een subset van een subset van de data bekijken (niet gebruiken voor het toewijzen van data in een dataframe!)"
      ]
    },
    {
      "cell_type": "code",
      "execution_count": 92,
      "metadata": {
        "colab": {},
        "colab_type": "code",
        "id": "YFigCfOLq3ip"
      },
      "outputs": [
        {
          "data": {
            "text/plain": [
              "41       28950.00\n",
              "324     215027.00\n",
              "606      20650.00\n",
              "856      57674.00\n",
              "1663      9368.00\n",
              "1896         4.40\n",
              "2129         4.70\n",
              "3005    443980.00\n",
              "3328      9783.00\n",
              "3846         3.66\n",
              "4078         4.60\n",
              "4306    208315.00\n",
              "Name: waarde, dtype: float64"
            ]
          },
          "execution_count": 92,
          "metadata": {},
          "output_type": "execute_result"
        }
      ],
      "source": [
        "df.loc[df['Periode']=='2006-06'].loc[:,'waarde']"
      ]
    },
    {
      "cell_type": "markdown",
      "metadata": {
        "colab_type": "text",
        "id": "cEjaATykq3ix"
      },
      "source": [
        "Meerdere filters combineren"
      ]
    },
    {
      "cell_type": "code",
      "execution_count": 93,
      "metadata": {
        "colab": {},
        "colab_type": "code",
        "id": "GvS0OFFxq3iy"
      },
      "outputs": [
        {
          "data": {
            "text/html": [
              "<div>\n",
              "<style scoped>\n",
              "    .dataframe tbody tr th:only-of-type {\n",
              "        vertical-align: middle;\n",
              "    }\n",
              "\n",
              "    .dataframe tbody tr th {\n",
              "        vertical-align: top;\n",
              "    }\n",
              "\n",
              "    .dataframe thead th {\n",
              "        text-align: right;\n",
              "    }\n",
              "</style>\n",
              "<table border=\"1\" class=\"dataframe\">\n",
              "  <thead>\n",
              "    <tr style=\"text-align: right;\">\n",
              "      <th></th>\n",
              "      <th>Instrument</th>\n",
              "      <th>InstrumentSub</th>\n",
              "      <th>Sector</th>\n",
              "      <th>Periode</th>\n",
              "      <th>waarde</th>\n",
              "    </tr>\n",
              "  </thead>\n",
              "  <tbody>\n",
              "    <tr>\n",
              "      <th>2321</th>\n",
              "      <td>Woninghypotheken</td>\n",
              "      <td>Rente op zuiver nieuwe leningen (d.w.z. exclus...</td>\n",
              "      <td>Huishoudens</td>\n",
              "      <td>2014-12</td>\n",
              "      <td>3.22</td>\n",
              "    </tr>\n",
              "    <tr>\n",
              "      <th>2322</th>\n",
              "      <td>Woninghypotheken</td>\n",
              "      <td>Rente op zuiver nieuwe leningen (d.w.z. exclus...</td>\n",
              "      <td>Huishoudens</td>\n",
              "      <td>2015-01</td>\n",
              "      <td>3.16</td>\n",
              "    </tr>\n",
              "    <tr>\n",
              "      <th>2323</th>\n",
              "      <td>Woninghypotheken</td>\n",
              "      <td>Rente op zuiver nieuwe leningen (d.w.z. exclus...</td>\n",
              "      <td>Huishoudens</td>\n",
              "      <td>2015-02</td>\n",
              "      <td>3.20</td>\n",
              "    </tr>\n",
              "    <tr>\n",
              "      <th>2324</th>\n",
              "      <td>Woninghypotheken</td>\n",
              "      <td>Rente op zuiver nieuwe leningen (d.w.z. exclus...</td>\n",
              "      <td>Huishoudens</td>\n",
              "      <td>2015-03</td>\n",
              "      <td>3.11</td>\n",
              "    </tr>\n",
              "    <tr>\n",
              "      <th>2325</th>\n",
              "      <td>Woninghypotheken</td>\n",
              "      <td>Rente op zuiver nieuwe leningen (d.w.z. exclus...</td>\n",
              "      <td>Huishoudens</td>\n",
              "      <td>2015-04</td>\n",
              "      <td>3.02</td>\n",
              "    </tr>\n",
              "    <tr>\n",
              "      <th>2380</th>\n",
              "      <td>Woninghypotheken</td>\n",
              "      <td>Rente op zuiver nieuwe leningen (d.w.z. exclus...</td>\n",
              "      <td>Huishoudens</td>\n",
              "      <td>2019-11</td>\n",
              "      <td>1.92</td>\n",
              "    </tr>\n",
              "    <tr>\n",
              "      <th>2381</th>\n",
              "      <td>Woninghypotheken</td>\n",
              "      <td>Rente op zuiver nieuwe leningen (d.w.z. exclus...</td>\n",
              "      <td>Huishoudens</td>\n",
              "      <td>2019-12</td>\n",
              "      <td>1.88</td>\n",
              "    </tr>\n",
              "    <tr>\n",
              "      <th>2382</th>\n",
              "      <td>Woninghypotheken</td>\n",
              "      <td>Rente op zuiver nieuwe leningen (d.w.z. exclus...</td>\n",
              "      <td>Huishoudens</td>\n",
              "      <td>2020-01</td>\n",
              "      <td>1.85</td>\n",
              "    </tr>\n",
              "    <tr>\n",
              "      <th>2383</th>\n",
              "      <td>Woninghypotheken</td>\n",
              "      <td>Rente op zuiver nieuwe leningen (d.w.z. exclus...</td>\n",
              "      <td>Huishoudens</td>\n",
              "      <td>2020-02</td>\n",
              "      <td>1.82</td>\n",
              "    </tr>\n",
              "    <tr>\n",
              "      <th>2384</th>\n",
              "      <td>Woninghypotheken</td>\n",
              "      <td>Rente op zuiver nieuwe leningen (d.w.z. exclus...</td>\n",
              "      <td>Huishoudens</td>\n",
              "      <td>2020-03</td>\n",
              "      <td>1.77</td>\n",
              "    </tr>\n",
              "    <tr>\n",
              "      <th>2385</th>\n",
              "      <td>Woninghypotheken</td>\n",
              "      <td>Rente op zuiver nieuwe leningen (d.w.z. exclus...</td>\n",
              "      <td>Huishoudens</td>\n",
              "      <td>2020-04</td>\n",
              "      <td>1.75</td>\n",
              "    </tr>\n",
              "    <tr>\n",
              "      <th>2386</th>\n",
              "      <td>Woninghypotheken</td>\n",
              "      <td>Rente op zuiver nieuwe leningen (d.w.z. exclus...</td>\n",
              "      <td>Huishoudens</td>\n",
              "      <td>2020-05</td>\n",
              "      <td>1.77</td>\n",
              "    </tr>\n",
              "    <tr>\n",
              "      <th>2387</th>\n",
              "      <td>Woninghypotheken</td>\n",
              "      <td>Rente op zuiver nieuwe leningen (d.w.z. exclus...</td>\n",
              "      <td>Huishoudens</td>\n",
              "      <td>2020-06</td>\n",
              "      <td>1.79</td>\n",
              "    </tr>\n",
              "    <tr>\n",
              "      <th>2388</th>\n",
              "      <td>Woninghypotheken</td>\n",
              "      <td>Rente op zuiver nieuwe leningen (d.w.z. exclus...</td>\n",
              "      <td>Huishoudens</td>\n",
              "      <td>2020-07</td>\n",
              "      <td>1.81</td>\n",
              "    </tr>\n",
              "    <tr>\n",
              "      <th>2389</th>\n",
              "      <td>Woninghypotheken</td>\n",
              "      <td>Rente op zuiver nieuwe leningen (d.w.z. exclus...</td>\n",
              "      <td>Huishoudens</td>\n",
              "      <td>2020-08</td>\n",
              "      <td>1.84</td>\n",
              "    </tr>\n",
              "    <tr>\n",
              "      <th>2390</th>\n",
              "      <td>Woninghypotheken</td>\n",
              "      <td>Rente op zuiver nieuwe leningen (d.w.z. exclus...</td>\n",
              "      <td>Huishoudens</td>\n",
              "      <td>2020-09</td>\n",
              "      <td>1.85</td>\n",
              "    </tr>\n",
              "    <tr>\n",
              "      <th>2391</th>\n",
              "      <td>Woninghypotheken</td>\n",
              "      <td>Rente op zuiver nieuwe leningen (d.w.z. exclus...</td>\n",
              "      <td>Huishoudens</td>\n",
              "      <td>2020-10</td>\n",
              "      <td>1.84</td>\n",
              "    </tr>\n",
              "    <tr>\n",
              "      <th>2392</th>\n",
              "      <td>Woninghypotheken</td>\n",
              "      <td>Rente op zuiver nieuwe leningen (d.w.z. exclus...</td>\n",
              "      <td>Huishoudens</td>\n",
              "      <td>2020-11</td>\n",
              "      <td>1.82</td>\n",
              "    </tr>\n",
              "    <tr>\n",
              "      <th>2393</th>\n",
              "      <td>Woninghypotheken</td>\n",
              "      <td>Rente op zuiver nieuwe leningen (d.w.z. exclus...</td>\n",
              "      <td>Huishoudens</td>\n",
              "      <td>2020-12</td>\n",
              "      <td>1.80</td>\n",
              "    </tr>\n",
              "    <tr>\n",
              "      <th>2394</th>\n",
              "      <td>Woninghypotheken</td>\n",
              "      <td>Rente op zuiver nieuwe leningen (d.w.z. exclus...</td>\n",
              "      <td>Huishoudens</td>\n",
              "      <td>2021-01</td>\n",
              "      <td>1.74</td>\n",
              "    </tr>\n",
              "    <tr>\n",
              "      <th>2395</th>\n",
              "      <td>Woninghypotheken</td>\n",
              "      <td>Rente op zuiver nieuwe leningen (d.w.z. exclus...</td>\n",
              "      <td>Huishoudens</td>\n",
              "      <td>2021-02</td>\n",
              "      <td>1.69</td>\n",
              "    </tr>\n",
              "    <tr>\n",
              "      <th>2396</th>\n",
              "      <td>Woninghypotheken</td>\n",
              "      <td>Rente op zuiver nieuwe leningen (d.w.z. exclus...</td>\n",
              "      <td>Huishoudens</td>\n",
              "      <td>2021-03</td>\n",
              "      <td>1.66</td>\n",
              "    </tr>\n",
              "    <tr>\n",
              "      <th>2397</th>\n",
              "      <td>Woninghypotheken</td>\n",
              "      <td>Rente op zuiver nieuwe leningen (d.w.z. exclus...</td>\n",
              "      <td>Huishoudens</td>\n",
              "      <td>2021-04</td>\n",
              "      <td>1.62</td>\n",
              "    </tr>\n",
              "    <tr>\n",
              "      <th>2398</th>\n",
              "      <td>Woninghypotheken</td>\n",
              "      <td>Rente op zuiver nieuwe leningen (d.w.z. exclus...</td>\n",
              "      <td>Huishoudens</td>\n",
              "      <td>2021-05</td>\n",
              "      <td>1.62</td>\n",
              "    </tr>\n",
              "    <tr>\n",
              "      <th>2399</th>\n",
              "      <td>Woninghypotheken</td>\n",
              "      <td>Rente op zuiver nieuwe leningen (d.w.z. exclus...</td>\n",
              "      <td>Huishoudens</td>\n",
              "      <td>2021-06</td>\n",
              "      <td>1.61</td>\n",
              "    </tr>\n",
              "    <tr>\n",
              "      <th>2400</th>\n",
              "      <td>Woninghypotheken</td>\n",
              "      <td>Rente op zuiver nieuwe leningen (d.w.z. exclus...</td>\n",
              "      <td>Huishoudens</td>\n",
              "      <td>2021-07</td>\n",
              "      <td>1.62</td>\n",
              "    </tr>\n",
              "    <tr>\n",
              "      <th>2401</th>\n",
              "      <td>Woninghypotheken</td>\n",
              "      <td>Rente op zuiver nieuwe leningen (d.w.z. exclus...</td>\n",
              "      <td>Huishoudens</td>\n",
              "      <td>2021-08</td>\n",
              "      <td>1.61</td>\n",
              "    </tr>\n",
              "    <tr>\n",
              "      <th>2402</th>\n",
              "      <td>Woninghypotheken</td>\n",
              "      <td>Rente op zuiver nieuwe leningen (d.w.z. exclus...</td>\n",
              "      <td>Huishoudens</td>\n",
              "      <td>2021-09</td>\n",
              "      <td>1.60</td>\n",
              "    </tr>\n",
              "    <tr>\n",
              "      <th>2403</th>\n",
              "      <td>Woninghypotheken</td>\n",
              "      <td>Rente op zuiver nieuwe leningen (d.w.z. exclus...</td>\n",
              "      <td>Huishoudens</td>\n",
              "      <td>2021-10</td>\n",
              "      <td>1.60</td>\n",
              "    </tr>\n",
              "    <tr>\n",
              "      <th>2404</th>\n",
              "      <td>Woninghypotheken</td>\n",
              "      <td>Rente op zuiver nieuwe leningen (d.w.z. exclus...</td>\n",
              "      <td>Huishoudens</td>\n",
              "      <td>2021-11</td>\n",
              "      <td>1.62</td>\n",
              "    </tr>\n",
              "    <tr>\n",
              "      <th>2405</th>\n",
              "      <td>Woninghypotheken</td>\n",
              "      <td>Rente op zuiver nieuwe leningen (d.w.z. exclus...</td>\n",
              "      <td>Huishoudens</td>\n",
              "      <td>2021-12</td>\n",
              "      <td>1.60</td>\n",
              "    </tr>\n",
              "    <tr>\n",
              "      <th>2406</th>\n",
              "      <td>Woninghypotheken</td>\n",
              "      <td>Rente op zuiver nieuwe leningen (d.w.z. exclus...</td>\n",
              "      <td>Huishoudens</td>\n",
              "      <td>2022-01</td>\n",
              "      <td>1.63</td>\n",
              "    </tr>\n",
              "    <tr>\n",
              "      <th>2407</th>\n",
              "      <td>Woninghypotheken</td>\n",
              "      <td>Rente op zuiver nieuwe leningen (d.w.z. exclus...</td>\n",
              "      <td>Huishoudens</td>\n",
              "      <td>2022-02</td>\n",
              "      <td>1.63</td>\n",
              "    </tr>\n",
              "    <tr>\n",
              "      <th>2408</th>\n",
              "      <td>Woninghypotheken</td>\n",
              "      <td>Rente op zuiver nieuwe leningen (d.w.z. exclus...</td>\n",
              "      <td>Huishoudens</td>\n",
              "      <td>2022-03</td>\n",
              "      <td>1.69</td>\n",
              "    </tr>\n",
              "    <tr>\n",
              "      <th>2409</th>\n",
              "      <td>Woninghypotheken</td>\n",
              "      <td>Rente op zuiver nieuwe leningen (d.w.z. exclus...</td>\n",
              "      <td>Huishoudens</td>\n",
              "      <td>2022-04</td>\n",
              "      <td>1.80</td>\n",
              "    </tr>\n",
              "    <tr>\n",
              "      <th>2410</th>\n",
              "      <td>Woninghypotheken</td>\n",
              "      <td>Rente op zuiver nieuwe leningen (d.w.z. exclus...</td>\n",
              "      <td>Huishoudens</td>\n",
              "      <td>2022-05</td>\n",
              "      <td>1.97</td>\n",
              "    </tr>\n",
              "  </tbody>\n",
              "</table>\n",
              "</div>"
            ],
            "text/plain": [
              "            Instrument                                      InstrumentSub  \\\n",
              "2321  Woninghypotheken  Rente op zuiver nieuwe leningen (d.w.z. exclus...   \n",
              "2322  Woninghypotheken  Rente op zuiver nieuwe leningen (d.w.z. exclus...   \n",
              "2323  Woninghypotheken  Rente op zuiver nieuwe leningen (d.w.z. exclus...   \n",
              "2324  Woninghypotheken  Rente op zuiver nieuwe leningen (d.w.z. exclus...   \n",
              "2325  Woninghypotheken  Rente op zuiver nieuwe leningen (d.w.z. exclus...   \n",
              "2380  Woninghypotheken  Rente op zuiver nieuwe leningen (d.w.z. exclus...   \n",
              "2381  Woninghypotheken  Rente op zuiver nieuwe leningen (d.w.z. exclus...   \n",
              "2382  Woninghypotheken  Rente op zuiver nieuwe leningen (d.w.z. exclus...   \n",
              "2383  Woninghypotheken  Rente op zuiver nieuwe leningen (d.w.z. exclus...   \n",
              "2384  Woninghypotheken  Rente op zuiver nieuwe leningen (d.w.z. exclus...   \n",
              "2385  Woninghypotheken  Rente op zuiver nieuwe leningen (d.w.z. exclus...   \n",
              "2386  Woninghypotheken  Rente op zuiver nieuwe leningen (d.w.z. exclus...   \n",
              "2387  Woninghypotheken  Rente op zuiver nieuwe leningen (d.w.z. exclus...   \n",
              "2388  Woninghypotheken  Rente op zuiver nieuwe leningen (d.w.z. exclus...   \n",
              "2389  Woninghypotheken  Rente op zuiver nieuwe leningen (d.w.z. exclus...   \n",
              "2390  Woninghypotheken  Rente op zuiver nieuwe leningen (d.w.z. exclus...   \n",
              "2391  Woninghypotheken  Rente op zuiver nieuwe leningen (d.w.z. exclus...   \n",
              "2392  Woninghypotheken  Rente op zuiver nieuwe leningen (d.w.z. exclus...   \n",
              "2393  Woninghypotheken  Rente op zuiver nieuwe leningen (d.w.z. exclus...   \n",
              "2394  Woninghypotheken  Rente op zuiver nieuwe leningen (d.w.z. exclus...   \n",
              "2395  Woninghypotheken  Rente op zuiver nieuwe leningen (d.w.z. exclus...   \n",
              "2396  Woninghypotheken  Rente op zuiver nieuwe leningen (d.w.z. exclus...   \n",
              "2397  Woninghypotheken  Rente op zuiver nieuwe leningen (d.w.z. exclus...   \n",
              "2398  Woninghypotheken  Rente op zuiver nieuwe leningen (d.w.z. exclus...   \n",
              "2399  Woninghypotheken  Rente op zuiver nieuwe leningen (d.w.z. exclus...   \n",
              "2400  Woninghypotheken  Rente op zuiver nieuwe leningen (d.w.z. exclus...   \n",
              "2401  Woninghypotheken  Rente op zuiver nieuwe leningen (d.w.z. exclus...   \n",
              "2402  Woninghypotheken  Rente op zuiver nieuwe leningen (d.w.z. exclus...   \n",
              "2403  Woninghypotheken  Rente op zuiver nieuwe leningen (d.w.z. exclus...   \n",
              "2404  Woninghypotheken  Rente op zuiver nieuwe leningen (d.w.z. exclus...   \n",
              "2405  Woninghypotheken  Rente op zuiver nieuwe leningen (d.w.z. exclus...   \n",
              "2406  Woninghypotheken  Rente op zuiver nieuwe leningen (d.w.z. exclus...   \n",
              "2407  Woninghypotheken  Rente op zuiver nieuwe leningen (d.w.z. exclus...   \n",
              "2408  Woninghypotheken  Rente op zuiver nieuwe leningen (d.w.z. exclus...   \n",
              "2409  Woninghypotheken  Rente op zuiver nieuwe leningen (d.w.z. exclus...   \n",
              "2410  Woninghypotheken  Rente op zuiver nieuwe leningen (d.w.z. exclus...   \n",
              "\n",
              "           Sector  Periode  waarde  \n",
              "2321  Huishoudens  2014-12    3.22  \n",
              "2322  Huishoudens  2015-01    3.16  \n",
              "2323  Huishoudens  2015-02    3.20  \n",
              "2324  Huishoudens  2015-03    3.11  \n",
              "2325  Huishoudens  2015-04    3.02  \n",
              "2380  Huishoudens  2019-11    1.92  \n",
              "2381  Huishoudens  2019-12    1.88  \n",
              "2382  Huishoudens  2020-01    1.85  \n",
              "2383  Huishoudens  2020-02    1.82  \n",
              "2384  Huishoudens  2020-03    1.77  \n",
              "2385  Huishoudens  2020-04    1.75  \n",
              "2386  Huishoudens  2020-05    1.77  \n",
              "2387  Huishoudens  2020-06    1.79  \n",
              "2388  Huishoudens  2020-07    1.81  \n",
              "2389  Huishoudens  2020-08    1.84  \n",
              "2390  Huishoudens  2020-09    1.85  \n",
              "2391  Huishoudens  2020-10    1.84  \n",
              "2392  Huishoudens  2020-11    1.82  \n",
              "2393  Huishoudens  2020-12    1.80  \n",
              "2394  Huishoudens  2021-01    1.74  \n",
              "2395  Huishoudens  2021-02    1.69  \n",
              "2396  Huishoudens  2021-03    1.66  \n",
              "2397  Huishoudens  2021-04    1.62  \n",
              "2398  Huishoudens  2021-05    1.62  \n",
              "2399  Huishoudens  2021-06    1.61  \n",
              "2400  Huishoudens  2021-07    1.62  \n",
              "2401  Huishoudens  2021-08    1.61  \n",
              "2402  Huishoudens  2021-09    1.60  \n",
              "2403  Huishoudens  2021-10    1.60  \n",
              "2404  Huishoudens  2021-11    1.62  \n",
              "2405  Huishoudens  2021-12    1.60  \n",
              "2406  Huishoudens  2022-01    1.63  \n",
              "2407  Huishoudens  2022-02    1.63  \n",
              "2408  Huishoudens  2022-03    1.69  \n",
              "2409  Huishoudens  2022-04    1.80  \n",
              "2410  Huishoudens  2022-05    1.97  "
            ]
          },
          "execution_count": 93,
          "metadata": {},
          "output_type": "execute_result"
        }
      ],
      "source": [
        "df.loc[(df['Instrument'].str.contains('hypotheken', case=False, na=False)) \n",
        "       & (df['InstrumentSub'].str.contains('zuiver nieuwe leningen', case=False, na=False)) \n",
        "       & (df['InstrumentSub'].str.contains('rente', case=False, na=False)) \n",
        "       & ((df['waarde'] >= 3) | (df['waarde'] < 2))]"
      ]
    },
    {
      "cell_type": "markdown",
      "metadata": {
        "colab_type": "text",
        "id": "IclyzClYq3i3"
      },
      "source": [
        "De index opnieuw aanmaken"
      ]
    },
    {
      "cell_type": "code",
      "execution_count": 94,
      "metadata": {
        "colab": {},
        "colab_type": "code",
        "id": "pUJLNfo5q3i4"
      },
      "outputs": [
        {
          "data": {
            "text/html": [
              "<div>\n",
              "<style scoped>\n",
              "    .dataframe tbody tr th:only-of-type {\n",
              "        vertical-align: middle;\n",
              "    }\n",
              "\n",
              "    .dataframe tbody tr th {\n",
              "        vertical-align: top;\n",
              "    }\n",
              "\n",
              "    .dataframe thead th {\n",
              "        text-align: right;\n",
              "    }\n",
              "</style>\n",
              "<table border=\"1\" class=\"dataframe\">\n",
              "  <thead>\n",
              "    <tr style=\"text-align: right;\">\n",
              "      <th></th>\n",
              "      <th></th>\n",
              "      <th></th>\n",
              "      <th></th>\n",
              "      <th>waarde</th>\n",
              "    </tr>\n",
              "    <tr>\n",
              "      <th>Instrument</th>\n",
              "      <th>InstrumentSub</th>\n",
              "      <th>Sector</th>\n",
              "      <th>Periode</th>\n",
              "      <th></th>\n",
              "    </tr>\n",
              "  </thead>\n",
              "  <tbody>\n",
              "    <tr>\n",
              "      <th rowspan=\"20\" valign=\"top\">Consumptief krediet</th>\n",
              "      <th rowspan=\"20\" valign=\"top\">Uitstaande bedragen (mln euro's)</th>\n",
              "      <th rowspan=\"20\" valign=\"top\">Huishoudens</th>\n",
              "      <th>2003-01</th>\n",
              "      <td>22284.0</td>\n",
              "    </tr>\n",
              "    <tr>\n",
              "      <th>2003-02</th>\n",
              "      <td>22162.0</td>\n",
              "    </tr>\n",
              "    <tr>\n",
              "      <th>2003-03</th>\n",
              "      <td>22368.5</td>\n",
              "    </tr>\n",
              "    <tr>\n",
              "      <th>2003-04</th>\n",
              "      <td>22575.0</td>\n",
              "    </tr>\n",
              "    <tr>\n",
              "      <th>2003-05</th>\n",
              "      <td>21868.0</td>\n",
              "    </tr>\n",
              "    <tr>\n",
              "      <th>2003-06</th>\n",
              "      <td>22477.0</td>\n",
              "    </tr>\n",
              "    <tr>\n",
              "      <th>2003-07</th>\n",
              "      <td>22798.0</td>\n",
              "    </tr>\n",
              "    <tr>\n",
              "      <th>2003-08</th>\n",
              "      <td>22606.0</td>\n",
              "    </tr>\n",
              "    <tr>\n",
              "      <th>2003-09</th>\n",
              "      <td>22656.0</td>\n",
              "    </tr>\n",
              "    <tr>\n",
              "      <th>2003-10</th>\n",
              "      <td>22937.0</td>\n",
              "    </tr>\n",
              "    <tr>\n",
              "      <th>2003-11</th>\n",
              "      <td>23037.0</td>\n",
              "    </tr>\n",
              "    <tr>\n",
              "      <th>2003-12</th>\n",
              "      <td>23944.0</td>\n",
              "    </tr>\n",
              "    <tr>\n",
              "      <th>2004-01</th>\n",
              "      <td>24073.0</td>\n",
              "    </tr>\n",
              "    <tr>\n",
              "      <th>2004-02</th>\n",
              "      <td>24167.0</td>\n",
              "    </tr>\n",
              "    <tr>\n",
              "      <th>2004-03</th>\n",
              "      <td>24760.0</td>\n",
              "    </tr>\n",
              "    <tr>\n",
              "      <th>2004-04</th>\n",
              "      <td>25682.0</td>\n",
              "    </tr>\n",
              "    <tr>\n",
              "      <th>2004-05</th>\n",
              "      <td>25269.0</td>\n",
              "    </tr>\n",
              "    <tr>\n",
              "      <th>2004-06</th>\n",
              "      <td>25579.0</td>\n",
              "    </tr>\n",
              "    <tr>\n",
              "      <th>2004-07</th>\n",
              "      <td>25703.0</td>\n",
              "    </tr>\n",
              "    <tr>\n",
              "      <th>2004-08</th>\n",
              "      <td>26463.0</td>\n",
              "    </tr>\n",
              "  </tbody>\n",
              "</table>\n",
              "</div>"
            ],
            "text/plain": [
              "                                                                           waarde\n",
              "Instrument          InstrumentSub                    Sector      Periode         \n",
              "Consumptief krediet Uitstaande bedragen (mln euro's) Huishoudens 2003-01  22284.0\n",
              "                                                                 2003-02  22162.0\n",
              "                                                                 2003-03  22368.5\n",
              "                                                                 2003-04  22575.0\n",
              "                                                                 2003-05  21868.0\n",
              "                                                                 2003-06  22477.0\n",
              "                                                                 2003-07  22798.0\n",
              "                                                                 2003-08  22606.0\n",
              "                                                                 2003-09  22656.0\n",
              "                                                                 2003-10  22937.0\n",
              "                                                                 2003-11  23037.0\n",
              "                                                                 2003-12  23944.0\n",
              "                                                                 2004-01  24073.0\n",
              "                                                                 2004-02  24167.0\n",
              "                                                                 2004-03  24760.0\n",
              "                                                                 2004-04  25682.0\n",
              "                                                                 2004-05  25269.0\n",
              "                                                                 2004-06  25579.0\n",
              "                                                                 2004-07  25703.0\n",
              "                                                                 2004-08  26463.0"
            ]
          },
          "execution_count": 94,
          "metadata": {},
          "output_type": "execute_result"
        }
      ],
      "source": [
        "df2 = df.set_index(['Instrument','InstrumentSub','Sector','Periode'],append=False)\n",
        "df2.head(20)"
      ]
    },
    {
      "cell_type": "markdown",
      "metadata": {
        "colab_type": "text",
        "id": "h-NDGri0q3i7"
      },
      "source": [
        "De index gebruiken voor het selecteren"
      ]
    },
    {
      "cell_type": "code",
      "execution_count": 95,
      "metadata": {
        "colab": {},
        "colab_type": "code",
        "id": "GvgMv7FWq3i7"
      },
      "outputs": [
        {
          "data": {
            "text/html": [
              "<div>\n",
              "<style scoped>\n",
              "    .dataframe tbody tr th:only-of-type {\n",
              "        vertical-align: middle;\n",
              "    }\n",
              "\n",
              "    .dataframe tbody tr th {\n",
              "        vertical-align: top;\n",
              "    }\n",
              "\n",
              "    .dataframe thead th {\n",
              "        text-align: right;\n",
              "    }\n",
              "</style>\n",
              "<table border=\"1\" class=\"dataframe\">\n",
              "  <thead>\n",
              "    <tr style=\"text-align: right;\">\n",
              "      <th></th>\n",
              "      <th></th>\n",
              "      <th></th>\n",
              "      <th></th>\n",
              "      <th>waarde</th>\n",
              "    </tr>\n",
              "    <tr>\n",
              "      <th>Instrument</th>\n",
              "      <th>InstrumentSub</th>\n",
              "      <th>Sector</th>\n",
              "      <th>Periode</th>\n",
              "      <th></th>\n",
              "    </tr>\n",
              "  </thead>\n",
              "  <tbody>\n",
              "    <tr>\n",
              "      <th>Consumptief krediet</th>\n",
              "      <th>Uitstaande bedragen (mln euro's)</th>\n",
              "      <th>Huishoudens</th>\n",
              "      <th>2006-06</th>\n",
              "      <td>28950.0</td>\n",
              "    </tr>\n",
              "  </tbody>\n",
              "</table>\n",
              "</div>"
            ],
            "text/plain": [
              "                                                                           waarde\n",
              "Instrument          InstrumentSub                    Sector      Periode         \n",
              "Consumptief krediet Uitstaande bedragen (mln euro's) Huishoudens 2006-06  28950.0"
            ]
          },
          "execution_count": 95,
          "metadata": {},
          "output_type": "execute_result"
        }
      ],
      "source": [
        "df2.loc['Consumptief krediet',:,'Huishoudens','2006-06' ]"
      ]
    },
    {
      "cell_type": "markdown",
      "metadata": {
        "colab_type": "text",
        "id": "7f_U8MmGq3i-"
      },
      "source": [
        "Index maken en aanvullen"
      ]
    },
    {
      "cell_type": "code",
      "execution_count": 128,
      "metadata": {
        "colab": {},
        "colab_type": "code",
        "id": "vzHehttbq3i_"
      },
      "outputs": [
        {
          "name": "stdout",
          "output_type": "stream",
          "text": [
            "Instrument       NaN\n",
            "InstrumentSub    NaN\n",
            "Sector           NaN\n",
            "waarde           NaN\n",
            "waarde - 10      NaN\n",
            "Name: 2002-05-01 00:00:00, dtype: object\n",
            "\n",
            "Instrument                    Consumptief krediet\n",
            "InstrumentSub    Uitstaande bedragen (mln euro's)\n",
            "Sector                                Huishoudens\n",
            "waarde                                    21868.0\n",
            "waarde - 10                               21858.0\n",
            "Name: 2003-05-01 00:00:00, dtype: object\n"
          ]
        }
      ],
      "source": [
        "df['Periode'] = pd.to_datetime(df['Periode'],format='%Y-%m',errors='coerce')\n",
        "df2 = df.set_index('Periode').head(20).reindex(pd.date_range('1/1/2002', periods=240, freq='MS'))\n",
        "print(df2.loc['2002-05-01'])\n",
        "print('')\n",
        "print(df2.loc['2003-05-01'])"
      ]
    },
    {
      "cell_type": "markdown",
      "metadata": {
        "colab_type": "text",
        "id": "lsnh9d8Dq3jF"
      },
      "source": [
        "Verschillende dataframes aan elkaar toevoegen "
      ]
    },
    {
      "cell_type": "code",
      "execution_count": 97,
      "metadata": {
        "colab": {},
        "colab_type": "code",
        "id": "904TjPx4q3jG"
      },
      "outputs": [
        {
          "data": {
            "text/html": [
              "<div>\n",
              "<style scoped>\n",
              "    .dataframe tbody tr th:only-of-type {\n",
              "        vertical-align: middle;\n",
              "    }\n",
              "\n",
              "    .dataframe tbody tr th {\n",
              "        vertical-align: top;\n",
              "    }\n",
              "\n",
              "    .dataframe thead th {\n",
              "        text-align: right;\n",
              "    }\n",
              "</style>\n",
              "<table border=\"1\" class=\"dataframe\">\n",
              "  <thead>\n",
              "    <tr style=\"text-align: right;\">\n",
              "      <th></th>\n",
              "      <th>Instrument</th>\n",
              "      <th>InstrumentSub</th>\n",
              "      <th>Sector</th>\n",
              "      <th>Periode</th>\n",
              "      <th>waarde</th>\n",
              "    </tr>\n",
              "  </thead>\n",
              "  <tbody>\n",
              "    <tr>\n",
              "      <th>4483</th>\n",
              "      <td>Zakelijke kredietverlening</td>\n",
              "      <td>Uitstaande bedragen (mln euro's)</td>\n",
              "      <td>Niet-financiële bedrijven</td>\n",
              "      <td>2021-03-01</td>\n",
              "      <td>248575.0</td>\n",
              "    </tr>\n",
              "    <tr>\n",
              "      <th>4484</th>\n",
              "      <td>Zakelijke kredietverlening</td>\n",
              "      <td>Uitstaande bedragen (mln euro's)</td>\n",
              "      <td>Niet-financiële bedrijven</td>\n",
              "      <td>2021-04-01</td>\n",
              "      <td>247220.0</td>\n",
              "    </tr>\n",
              "    <tr>\n",
              "      <th>4485</th>\n",
              "      <td>Zakelijke kredietverlening</td>\n",
              "      <td>Uitstaande bedragen (mln euro's)</td>\n",
              "      <td>Niet-financiële bedrijven</td>\n",
              "      <td>2021-05-01</td>\n",
              "      <td>247366.0</td>\n",
              "    </tr>\n",
              "    <tr>\n",
              "      <th>4486</th>\n",
              "      <td>Zakelijke kredietverlening</td>\n",
              "      <td>Uitstaande bedragen (mln euro's)</td>\n",
              "      <td>Niet-financiële bedrijven</td>\n",
              "      <td>2021-06-01</td>\n",
              "      <td>245848.0</td>\n",
              "    </tr>\n",
              "    <tr>\n",
              "      <th>4487</th>\n",
              "      <td>Zakelijke kredietverlening</td>\n",
              "      <td>Uitstaande bedragen (mln euro's)</td>\n",
              "      <td>Niet-financiële bedrijven</td>\n",
              "      <td>2021-07-01</td>\n",
              "      <td>246720.0</td>\n",
              "    </tr>\n",
              "    <tr>\n",
              "      <th>4488</th>\n",
              "      <td>Zakelijke kredietverlening</td>\n",
              "      <td>Uitstaande bedragen (mln euro's)</td>\n",
              "      <td>Niet-financiële bedrijven</td>\n",
              "      <td>2021-08-01</td>\n",
              "      <td>245423.0</td>\n",
              "    </tr>\n",
              "    <tr>\n",
              "      <th>4489</th>\n",
              "      <td>Zakelijke kredietverlening</td>\n",
              "      <td>Uitstaande bedragen (mln euro's)</td>\n",
              "      <td>Niet-financiële bedrijven</td>\n",
              "      <td>2021-09-01</td>\n",
              "      <td>246083.0</td>\n",
              "    </tr>\n",
              "    <tr>\n",
              "      <th>4490</th>\n",
              "      <td>Zakelijke kredietverlening</td>\n",
              "      <td>Uitstaande bedragen (mln euro's)</td>\n",
              "      <td>Niet-financiële bedrijven</td>\n",
              "      <td>2021-10-01</td>\n",
              "      <td>245986.0</td>\n",
              "    </tr>\n",
              "    <tr>\n",
              "      <th>4491</th>\n",
              "      <td>Zakelijke kredietverlening</td>\n",
              "      <td>Uitstaande bedragen (mln euro's)</td>\n",
              "      <td>Niet-financiële bedrijven</td>\n",
              "      <td>2021-11-01</td>\n",
              "      <td>246942.0</td>\n",
              "    </tr>\n",
              "    <tr>\n",
              "      <th>4492</th>\n",
              "      <td>Zakelijke kredietverlening</td>\n",
              "      <td>Uitstaande bedragen (mln euro's)</td>\n",
              "      <td>Niet-financiële bedrijven</td>\n",
              "      <td>2021-12-01</td>\n",
              "      <td>251824.0</td>\n",
              "    </tr>\n",
              "    <tr>\n",
              "      <th>0</th>\n",
              "      <td>Consumptief krediet</td>\n",
              "      <td>Uitstaande bedragen (mln euro's)</td>\n",
              "      <td>Huishoudens</td>\n",
              "      <td>2003-01-01</td>\n",
              "      <td>22284.0</td>\n",
              "    </tr>\n",
              "    <tr>\n",
              "      <th>1</th>\n",
              "      <td>Consumptief krediet</td>\n",
              "      <td>Uitstaande bedragen (mln euro's)</td>\n",
              "      <td>Huishoudens</td>\n",
              "      <td>2003-02-01</td>\n",
              "      <td>22162.0</td>\n",
              "    </tr>\n",
              "    <tr>\n",
              "      <th>2</th>\n",
              "      <td>Consumptief krediet</td>\n",
              "      <td>Uitstaande bedragen (mln euro's)</td>\n",
              "      <td>Huishoudens</td>\n",
              "      <td>2003-03-01</td>\n",
              "      <td>22368.5</td>\n",
              "    </tr>\n",
              "    <tr>\n",
              "      <th>3</th>\n",
              "      <td>Consumptief krediet</td>\n",
              "      <td>Uitstaande bedragen (mln euro's)</td>\n",
              "      <td>Huishoudens</td>\n",
              "      <td>2003-04-01</td>\n",
              "      <td>22575.0</td>\n",
              "    </tr>\n",
              "    <tr>\n",
              "      <th>4</th>\n",
              "      <td>Consumptief krediet</td>\n",
              "      <td>Uitstaande bedragen (mln euro's)</td>\n",
              "      <td>Huishoudens</td>\n",
              "      <td>2003-05-01</td>\n",
              "      <td>21868.0</td>\n",
              "    </tr>\n",
              "    <tr>\n",
              "      <th>5</th>\n",
              "      <td>Consumptief krediet</td>\n",
              "      <td>Uitstaande bedragen (mln euro's)</td>\n",
              "      <td>Huishoudens</td>\n",
              "      <td>2003-06-01</td>\n",
              "      <td>22477.0</td>\n",
              "    </tr>\n",
              "    <tr>\n",
              "      <th>6</th>\n",
              "      <td>Consumptief krediet</td>\n",
              "      <td>Uitstaande bedragen (mln euro's)</td>\n",
              "      <td>Huishoudens</td>\n",
              "      <td>2003-07-01</td>\n",
              "      <td>22798.0</td>\n",
              "    </tr>\n",
              "    <tr>\n",
              "      <th>7</th>\n",
              "      <td>Consumptief krediet</td>\n",
              "      <td>Uitstaande bedragen (mln euro's)</td>\n",
              "      <td>Huishoudens</td>\n",
              "      <td>2003-08-01</td>\n",
              "      <td>22606.0</td>\n",
              "    </tr>\n",
              "    <tr>\n",
              "      <th>8</th>\n",
              "      <td>Consumptief krediet</td>\n",
              "      <td>Uitstaande bedragen (mln euro's)</td>\n",
              "      <td>Huishoudens</td>\n",
              "      <td>2003-09-01</td>\n",
              "      <td>22656.0</td>\n",
              "    </tr>\n",
              "    <tr>\n",
              "      <th>9</th>\n",
              "      <td>Consumptief krediet</td>\n",
              "      <td>Uitstaande bedragen (mln euro's)</td>\n",
              "      <td>Huishoudens</td>\n",
              "      <td>2003-10-01</td>\n",
              "      <td>22937.0</td>\n",
              "    </tr>\n",
              "  </tbody>\n",
              "</table>\n",
              "</div>"
            ],
            "text/plain": [
              "                      Instrument                     InstrumentSub  \\\n",
              "4483  Zakelijke kredietverlening  Uitstaande bedragen (mln euro's)   \n",
              "4484  Zakelijke kredietverlening  Uitstaande bedragen (mln euro's)   \n",
              "4485  Zakelijke kredietverlening  Uitstaande bedragen (mln euro's)   \n",
              "4486  Zakelijke kredietverlening  Uitstaande bedragen (mln euro's)   \n",
              "4487  Zakelijke kredietverlening  Uitstaande bedragen (mln euro's)   \n",
              "4488  Zakelijke kredietverlening  Uitstaande bedragen (mln euro's)   \n",
              "4489  Zakelijke kredietverlening  Uitstaande bedragen (mln euro's)   \n",
              "4490  Zakelijke kredietverlening  Uitstaande bedragen (mln euro's)   \n",
              "4491  Zakelijke kredietverlening  Uitstaande bedragen (mln euro's)   \n",
              "4492  Zakelijke kredietverlening  Uitstaande bedragen (mln euro's)   \n",
              "0            Consumptief krediet  Uitstaande bedragen (mln euro's)   \n",
              "1            Consumptief krediet  Uitstaande bedragen (mln euro's)   \n",
              "2            Consumptief krediet  Uitstaande bedragen (mln euro's)   \n",
              "3            Consumptief krediet  Uitstaande bedragen (mln euro's)   \n",
              "4            Consumptief krediet  Uitstaande bedragen (mln euro's)   \n",
              "5            Consumptief krediet  Uitstaande bedragen (mln euro's)   \n",
              "6            Consumptief krediet  Uitstaande bedragen (mln euro's)   \n",
              "7            Consumptief krediet  Uitstaande bedragen (mln euro's)   \n",
              "8            Consumptief krediet  Uitstaande bedragen (mln euro's)   \n",
              "9            Consumptief krediet  Uitstaande bedragen (mln euro's)   \n",
              "\n",
              "                         Sector    Periode    waarde  \n",
              "4483  Niet-financiële bedrijven 2021-03-01  248575.0  \n",
              "4484  Niet-financiële bedrijven 2021-04-01  247220.0  \n",
              "4485  Niet-financiële bedrijven 2021-05-01  247366.0  \n",
              "4486  Niet-financiële bedrijven 2021-06-01  245848.0  \n",
              "4487  Niet-financiële bedrijven 2021-07-01  246720.0  \n",
              "4488  Niet-financiële bedrijven 2021-08-01  245423.0  \n",
              "4489  Niet-financiële bedrijven 2021-09-01  246083.0  \n",
              "4490  Niet-financiële bedrijven 2021-10-01  245986.0  \n",
              "4491  Niet-financiële bedrijven 2021-11-01  246942.0  \n",
              "4492  Niet-financiële bedrijven 2021-12-01  251824.0  \n",
              "0                   Huishoudens 2003-01-01   22284.0  \n",
              "1                   Huishoudens 2003-02-01   22162.0  \n",
              "2                   Huishoudens 2003-03-01   22368.5  \n",
              "3                   Huishoudens 2003-04-01   22575.0  \n",
              "4                   Huishoudens 2003-05-01   21868.0  \n",
              "5                   Huishoudens 2003-06-01   22477.0  \n",
              "6                   Huishoudens 2003-07-01   22798.0  \n",
              "7                   Huishoudens 2003-08-01   22606.0  \n",
              "8                   Huishoudens 2003-09-01   22656.0  \n",
              "9                   Huishoudens 2003-10-01   22937.0  "
            ]
          },
          "execution_count": 97,
          "metadata": {},
          "output_type": "execute_result"
        }
      ],
      "source": [
        "df1 = df.tail(10)\n",
        "df2 = df.head(10)\n",
        "df1.append(df2, ignore_index=False, sort=False)"
      ]
    },
    {
      "cell_type": "markdown",
      "metadata": {
        "colab_type": "text",
        "id": "1oIIHyzAq3jJ"
      },
      "source": [
        "Databronnen die samengevoegd moeten worden"
      ]
    },
    {
      "cell_type": "code",
      "execution_count": 98,
      "metadata": {
        "colab": {},
        "colab_type": "code",
        "id": "wxrBkSFvq3jJ"
      },
      "outputs": [
        {
          "name": "stdout",
          "output_type": "stream",
          "text": [
            "  account_id    datum                        type  initieel bedrag\n",
            "0          0  2009-12         Consumptief krediet             5218\n",
            "1          1  2010-01            Woninghypotheken           268000\n",
            "2          2  2009-12  Zakelijke kredietverlening            30000\n",
            "3          3  2010-01            Woninghypotheken           415000\n",
            "4          4  2010-01  Zakelijke kredietverlening           235400\n",
            "\n",
            "   account_id    datum  afbetaling       type\n",
            "0           0  2009-12         211  standaard\n",
            "1           0  2010-01         516  standaard\n",
            "2           1  2010-01         245  standaard\n",
            "3           3  2010-01         189  standaard\n",
            "4           0  2010-01         520      extra\n",
            "5           2  2010-01         110  standaard\n",
            "6           1  2010-02         548  standaard\n",
            "7           3  2010-02         328  standaard\n",
            "8           3  2010-02        1065      extra\n",
            "9           2  2010-02         985  standaard\n",
            "10          5  2010-02        1050  standaard\n"
          ]
        }
      ],
      "source": [
        "raw_data_a = {\n",
        "        'account_id': ['0', '1', '2', '3', '4'],\n",
        "        'datum': ['2009-12', '2010-01', '2009-12', '2010-01', '2010-01'],\n",
        "        'type': ['Consumptief krediet', 'Woninghypotheken', 'Zakelijke kredietverlening', 'Woninghypotheken', 'Zakelijke kredietverlening'],\n",
        "        'initieel bedrag': [5218, 268000, 30000, 415000, 235400]}\n",
        "df_a = pd.DataFrame(raw_data_a, columns = ['account_id', 'datum', 'type', 'initieel bedrag'])\n",
        "print(df_a)\n",
        "print('')\n",
        "raw_data_b = {\n",
        "        'account_id': ['0', '0', '1', '3', '0', '2', '1', '3', '3', '2','5'],\n",
        "        'datum': ['2009-12', '2010-01', '2010-01', '2010-01', '2010-01', '2010-01', '2010-02', '2010-02', '2010-02', '2010-02', '2010-02'],\n",
        "        'afbetaling': [211, 516, 245, 189, 520, 110, 548, 328, 1065, 985, 1050],\n",
        "        'type': ['standaard', 'standaard', 'standaard', 'standaard', 'extra', 'standaard', 'standaard', 'standaard', 'extra', 'standaard', 'standaard']}\n",
        "df_b = pd.DataFrame(raw_data_b, columns = ['account_id', 'datum', 'afbetaling','type'])\n",
        "print(df_b)"
      ]
    },
    {
      "cell_type": "markdown",
      "metadata": {
        "colab_type": "text",
        "id": "hp40jhyrq3jM"
      },
      "source": [
        "Samenvoegen van tabellen via merge"
      ]
    },
    {
      "cell_type": "code",
      "execution_count": 99,
      "metadata": {
        "colab": {},
        "colab_type": "code",
        "id": "vCH-g61gq3jN"
      },
      "outputs": [
        {
          "data": {
            "text/html": [
              "<div>\n",
              "<style scoped>\n",
              "    .dataframe tbody tr th:only-of-type {\n",
              "        vertical-align: middle;\n",
              "    }\n",
              "\n",
              "    .dataframe tbody tr th {\n",
              "        vertical-align: top;\n",
              "    }\n",
              "\n",
              "    .dataframe thead th {\n",
              "        text-align: right;\n",
              "    }\n",
              "</style>\n",
              "<table border=\"1\" class=\"dataframe\">\n",
              "  <thead>\n",
              "    <tr style=\"text-align: right;\">\n",
              "      <th></th>\n",
              "      <th>account_id</th>\n",
              "      <th>datum</th>\n",
              "      <th>type_a</th>\n",
              "      <th>initieel bedrag</th>\n",
              "      <th>afbetaling</th>\n",
              "      <th>type_b</th>\n",
              "      <th>_merge</th>\n",
              "    </tr>\n",
              "  </thead>\n",
              "  <tbody>\n",
              "    <tr>\n",
              "      <th>0</th>\n",
              "      <td>0</td>\n",
              "      <td>2009-12</td>\n",
              "      <td>Consumptief krediet</td>\n",
              "      <td>5218.0</td>\n",
              "      <td>211.0</td>\n",
              "      <td>standaard</td>\n",
              "      <td>both</td>\n",
              "    </tr>\n",
              "    <tr>\n",
              "      <th>1</th>\n",
              "      <td>1</td>\n",
              "      <td>2010-01</td>\n",
              "      <td>Woninghypotheken</td>\n",
              "      <td>268000.0</td>\n",
              "      <td>245.0</td>\n",
              "      <td>standaard</td>\n",
              "      <td>both</td>\n",
              "    </tr>\n",
              "    <tr>\n",
              "      <th>2</th>\n",
              "      <td>2</td>\n",
              "      <td>2009-12</td>\n",
              "      <td>Zakelijke kredietverlening</td>\n",
              "      <td>30000.0</td>\n",
              "      <td>NaN</td>\n",
              "      <td>NaN</td>\n",
              "      <td>left_only</td>\n",
              "    </tr>\n",
              "    <tr>\n",
              "      <th>3</th>\n",
              "      <td>3</td>\n",
              "      <td>2010-01</td>\n",
              "      <td>Woninghypotheken</td>\n",
              "      <td>415000.0</td>\n",
              "      <td>189.0</td>\n",
              "      <td>standaard</td>\n",
              "      <td>both</td>\n",
              "    </tr>\n",
              "    <tr>\n",
              "      <th>4</th>\n",
              "      <td>4</td>\n",
              "      <td>2010-01</td>\n",
              "      <td>Zakelijke kredietverlening</td>\n",
              "      <td>235400.0</td>\n",
              "      <td>NaN</td>\n",
              "      <td>NaN</td>\n",
              "      <td>left_only</td>\n",
              "    </tr>\n",
              "    <tr>\n",
              "      <th>5</th>\n",
              "      <td>0</td>\n",
              "      <td>2010-01</td>\n",
              "      <td>NaN</td>\n",
              "      <td>NaN</td>\n",
              "      <td>516.0</td>\n",
              "      <td>standaard</td>\n",
              "      <td>right_only</td>\n",
              "    </tr>\n",
              "    <tr>\n",
              "      <th>6</th>\n",
              "      <td>0</td>\n",
              "      <td>2010-01</td>\n",
              "      <td>NaN</td>\n",
              "      <td>NaN</td>\n",
              "      <td>520.0</td>\n",
              "      <td>extra</td>\n",
              "      <td>right_only</td>\n",
              "    </tr>\n",
              "    <tr>\n",
              "      <th>7</th>\n",
              "      <td>2</td>\n",
              "      <td>2010-01</td>\n",
              "      <td>NaN</td>\n",
              "      <td>NaN</td>\n",
              "      <td>110.0</td>\n",
              "      <td>standaard</td>\n",
              "      <td>right_only</td>\n",
              "    </tr>\n",
              "    <tr>\n",
              "      <th>8</th>\n",
              "      <td>1</td>\n",
              "      <td>2010-02</td>\n",
              "      <td>NaN</td>\n",
              "      <td>NaN</td>\n",
              "      <td>548.0</td>\n",
              "      <td>standaard</td>\n",
              "      <td>right_only</td>\n",
              "    </tr>\n",
              "    <tr>\n",
              "      <th>9</th>\n",
              "      <td>3</td>\n",
              "      <td>2010-02</td>\n",
              "      <td>NaN</td>\n",
              "      <td>NaN</td>\n",
              "      <td>328.0</td>\n",
              "      <td>standaard</td>\n",
              "      <td>right_only</td>\n",
              "    </tr>\n",
              "    <tr>\n",
              "      <th>10</th>\n",
              "      <td>3</td>\n",
              "      <td>2010-02</td>\n",
              "      <td>NaN</td>\n",
              "      <td>NaN</td>\n",
              "      <td>1065.0</td>\n",
              "      <td>extra</td>\n",
              "      <td>right_only</td>\n",
              "    </tr>\n",
              "    <tr>\n",
              "      <th>11</th>\n",
              "      <td>2</td>\n",
              "      <td>2010-02</td>\n",
              "      <td>NaN</td>\n",
              "      <td>NaN</td>\n",
              "      <td>985.0</td>\n",
              "      <td>standaard</td>\n",
              "      <td>right_only</td>\n",
              "    </tr>\n",
              "    <tr>\n",
              "      <th>12</th>\n",
              "      <td>5</td>\n",
              "      <td>2010-02</td>\n",
              "      <td>NaN</td>\n",
              "      <td>NaN</td>\n",
              "      <td>1050.0</td>\n",
              "      <td>standaard</td>\n",
              "      <td>right_only</td>\n",
              "    </tr>\n",
              "  </tbody>\n",
              "</table>\n",
              "</div>"
            ],
            "text/plain": [
              "   account_id    datum                      type_a  initieel bedrag  \\\n",
              "0           0  2009-12         Consumptief krediet           5218.0   \n",
              "1           1  2010-01            Woninghypotheken         268000.0   \n",
              "2           2  2009-12  Zakelijke kredietverlening          30000.0   \n",
              "3           3  2010-01            Woninghypotheken         415000.0   \n",
              "4           4  2010-01  Zakelijke kredietverlening         235400.0   \n",
              "5           0  2010-01                         NaN              NaN   \n",
              "6           0  2010-01                         NaN              NaN   \n",
              "7           2  2010-01                         NaN              NaN   \n",
              "8           1  2010-02                         NaN              NaN   \n",
              "9           3  2010-02                         NaN              NaN   \n",
              "10          3  2010-02                         NaN              NaN   \n",
              "11          2  2010-02                         NaN              NaN   \n",
              "12          5  2010-02                         NaN              NaN   \n",
              "\n",
              "    afbetaling     type_b      _merge  \n",
              "0        211.0  standaard        both  \n",
              "1        245.0  standaard        both  \n",
              "2          NaN        NaN   left_only  \n",
              "3        189.0  standaard        both  \n",
              "4          NaN        NaN   left_only  \n",
              "5        516.0  standaard  right_only  \n",
              "6        520.0      extra  right_only  \n",
              "7        110.0  standaard  right_only  \n",
              "8        548.0  standaard  right_only  \n",
              "9        328.0  standaard  right_only  \n",
              "10      1065.0      extra  right_only  \n",
              "11       985.0  standaard  right_only  \n",
              "12      1050.0  standaard  right_only  "
            ]
          },
          "execution_count": 99,
          "metadata": {},
          "output_type": "execute_result"
        }
      ],
      "source": [
        "pd.merge(df_a, df_b, how='outer', left_on=['account_id', 'datum'], right_on=['account_id', 'datum'],suffixes=('_a', '_b'),indicator=True)"
      ]
    },
    {
      "cell_type": "markdown",
      "metadata": {
        "colab_type": "text",
        "id": "nqUKw4fmq3jR"
      },
      "source": [
        "De data uit twee dataframes bij elkaar optellen"
      ]
    },
    {
      "cell_type": "code",
      "execution_count": 100,
      "metadata": {
        "colab": {},
        "colab_type": "code",
        "id": "A_QHisfGq3jS"
      },
      "outputs": [
        {
          "name": "stdout",
          "output_type": "stream",
          "text": [
            "   waarde  aantal\n",
            "0    5218       1\n",
            "1  268000       1\n",
            "2   30000       2\n",
            "3  415000       2\n",
            "4  235400       1\n",
            "\n",
            "   waarde  aantal\n",
            "1     100       1\n",
            "0     200       1\n",
            "3     300       1\n",
            "2     400       1\n",
            "     waarde  aantal\n",
            "0    5418.0     2.0\n",
            "1  268100.0     2.0\n",
            "2   30400.0     3.0\n",
            "3  415300.0     3.0\n",
            "4       NaN     NaN\n"
          ]
        }
      ],
      "source": [
        "raw_data_a = {\n",
        "        'account_id': ['0', '1', '2', '3', '4'],\n",
        "        'waarde': [5218, 268000, 30000, 415000, 235400],\n",
        "        'aantal': [1, 1, 2, 2, 1]}\n",
        "df_a = pd.DataFrame(raw_data_a, columns = ['waarde', 'aantal'], index = raw_data_a['account_id'])\n",
        "print(df_a)\n",
        "print('')\n",
        "raw_data_b = {\n",
        "        'account_id': ['1', '0', '3', '2'],\n",
        "        'waarde': [100, 200, 300, 400],\n",
        "        'aantal': [1, 1, 1, 1]}\n",
        "df_b = pd.DataFrame(raw_data_b, columns = ['waarde', 'aantal'], index = raw_data_b['account_id'])\n",
        "print(df_b)\n",
        "print(df_a+df_b)"
      ]
    },
    {
      "cell_type": "markdown",
      "metadata": {
        "colab_type": "text",
        "id": "AxBLoN7Uq3jX"
      },
      "source": [
        "### Data analyseren \n",
        "\n",
        "Data sorteren"
      ]
    },
    {
      "cell_type": "code",
      "execution_count": 101,
      "metadata": {
        "colab": {},
        "colab_type": "code",
        "id": "R30kfZPUq3jY"
      },
      "outputs": [
        {
          "data": {
            "text/html": [
              "<div>\n",
              "<style scoped>\n",
              "    .dataframe tbody tr th:only-of-type {\n",
              "        vertical-align: middle;\n",
              "    }\n",
              "\n",
              "    .dataframe tbody tr th {\n",
              "        vertical-align: top;\n",
              "    }\n",
              "\n",
              "    .dataframe thead th {\n",
              "        text-align: right;\n",
              "    }\n",
              "</style>\n",
              "<table border=\"1\" class=\"dataframe\">\n",
              "  <thead>\n",
              "    <tr style=\"text-align: right;\">\n",
              "      <th></th>\n",
              "      <th>Instrument</th>\n",
              "      <th>InstrumentSub</th>\n",
              "      <th>Sector</th>\n",
              "      <th>Periode</th>\n",
              "      <th>waarde</th>\n",
              "    </tr>\n",
              "  </thead>\n",
              "  <tbody>\n",
              "    <tr>\n",
              "      <th>3518</th>\n",
              "      <td>Zakelijke kredietverlening</td>\n",
              "      <td>Nieuwe contracten (mln euro's)</td>\n",
              "      <td>Niet-financiële bedrijven</td>\n",
              "      <td>2022-04-01</td>\n",
              "      <td>11514.00</td>\n",
              "    </tr>\n",
              "    <tr>\n",
              "      <th>3661</th>\n",
              "      <td>Zakelijke kredietverlening</td>\n",
              "      <td>Rente op nieuwe contracten &lt;= € 0.25 mln (perc...</td>\n",
              "      <td>Niet-financiële bedrijven</td>\n",
              "      <td>2022-04-01</td>\n",
              "      <td>2.89</td>\n",
              "    </tr>\n",
              "    <tr>\n",
              "      <th>3804</th>\n",
              "      <td>Zakelijke kredietverlening</td>\n",
              "      <td>Rente op nieuwe contracten &lt;= € 0.25 mln en &lt;=...</td>\n",
              "      <td>Niet-financiële bedrijven</td>\n",
              "      <td>2022-04-01</td>\n",
              "      <td>2.52</td>\n",
              "    </tr>\n",
              "    <tr>\n",
              "      <th>4036</th>\n",
              "      <td>Zakelijke kredietverlening</td>\n",
              "      <td>Rente op nieuwe contracten &gt; € 1 mln (percenta...</td>\n",
              "      <td>Niet-financiële bedrijven</td>\n",
              "      <td>2022-04-01</td>\n",
              "      <td>1.28</td>\n",
              "    </tr>\n",
              "    <tr>\n",
              "      <th>515</th>\n",
              "      <td>Rekening courante tegoeden en spaargeld</td>\n",
              "      <td>Deposito's met opzegtermijn (mln euro's)</td>\n",
              "      <td>Huishoudens</td>\n",
              "      <td>2022-05-01</td>\n",
              "      <td>367058.00</td>\n",
              "    </tr>\n",
              "    <tr>\n",
              "      <th>797</th>\n",
              "      <td>Rekening courante tegoeden en spaargeld</td>\n",
              "      <td>Deposito's met vaste looptijd (mln euro's)</td>\n",
              "      <td>Huishoudens</td>\n",
              "      <td>2022-05-01</td>\n",
              "      <td>60295.00</td>\n",
              "    </tr>\n",
              "    <tr>\n",
              "      <th>1047</th>\n",
              "      <td>Rekening courante tegoeden en spaargeld</td>\n",
              "      <td>Girale deposito's (mln euro's)</td>\n",
              "      <td>Huishoudens</td>\n",
              "      <td>2022-05-01</td>\n",
              "      <td>131896.00</td>\n",
              "    </tr>\n",
              "    <tr>\n",
              "      <th>1334</th>\n",
              "      <td>Roodstand en doorlopend krediet</td>\n",
              "      <td>Rente op uitstaand bedrag - Rekeningcourant kr...</td>\n",
              "      <td>Huishoudens</td>\n",
              "      <td>2022-05-01</td>\n",
              "      <td>3.60</td>\n",
              "    </tr>\n",
              "    <tr>\n",
              "      <th>1621</th>\n",
              "      <td>Roodstand en doorlopend krediet</td>\n",
              "      <td>Uitstaand bedrag - Rekeningcourant krediet - R...</td>\n",
              "      <td>Huishoudens</td>\n",
              "      <td>2022-05-01</td>\n",
              "      <td>5221.00</td>\n",
              "    </tr>\n",
              "    <tr>\n",
              "      <th>2320</th>\n",
              "      <td>Woninghypotheken</td>\n",
              "      <td>Rente op uitstaande bedragen (percentages)</td>\n",
              "      <td>Huishoudens</td>\n",
              "      <td>2022-05-01</td>\n",
              "      <td>2.25</td>\n",
              "    </tr>\n",
              "    <tr>\n",
              "      <th>2410</th>\n",
              "      <td>Woninghypotheken</td>\n",
              "      <td>Rente op zuiver nieuwe leningen (d.w.z. exclus...</td>\n",
              "      <td>Huishoudens</td>\n",
              "      <td>2022-05-01</td>\n",
              "      <td>1.97</td>\n",
              "    </tr>\n",
              "    <tr>\n",
              "      <th>3196</th>\n",
              "      <td>Woninghypotheken</td>\n",
              "      <td>Uitstaande bedragen (mln euro's)</td>\n",
              "      <td>Huishoudens</td>\n",
              "      <td>2022-05-01</td>\n",
              "      <td>536871.00</td>\n",
              "    </tr>\n",
              "    <tr>\n",
              "      <th>1854</th>\n",
              "      <td>Woninghypotheken</td>\n",
              "      <td>Nieuwe contracten, inclusief heronderhandeling...</td>\n",
              "      <td>Huishoudens *</td>\n",
              "      <td>2022-05-01</td>\n",
              "      <td>11796.00</td>\n",
              "    </tr>\n",
              "    <tr>\n",
              "      <th>2087</th>\n",
              "      <td>Woninghypotheken</td>\n",
              "      <td>Rente op nieuwe contracten, inclusief heronder...</td>\n",
              "      <td>Huishoudens *</td>\n",
              "      <td>2022-05-01</td>\n",
              "      <td>2.03</td>\n",
              "    </tr>\n",
              "    <tr>\n",
              "      <th>3286</th>\n",
              "      <td>Woninghypotheken</td>\n",
              "      <td>Zuiver nieuwe leningen (d.w.z. exclusief heron...</td>\n",
              "      <td>Huishoudens *</td>\n",
              "      <td>2022-05-01</td>\n",
              "      <td>7324.00</td>\n",
              "    </tr>\n",
              "  </tbody>\n",
              "</table>\n",
              "</div>"
            ],
            "text/plain": [
              "                                   Instrument  \\\n",
              "3518               Zakelijke kredietverlening   \n",
              "3661               Zakelijke kredietverlening   \n",
              "3804               Zakelijke kredietverlening   \n",
              "4036               Zakelijke kredietverlening   \n",
              "515   Rekening courante tegoeden en spaargeld   \n",
              "797   Rekening courante tegoeden en spaargeld   \n",
              "1047  Rekening courante tegoeden en spaargeld   \n",
              "1334          Roodstand en doorlopend krediet   \n",
              "1621          Roodstand en doorlopend krediet   \n",
              "2320                         Woninghypotheken   \n",
              "2410                         Woninghypotheken   \n",
              "3196                         Woninghypotheken   \n",
              "1854                         Woninghypotheken   \n",
              "2087                         Woninghypotheken   \n",
              "3286                         Woninghypotheken   \n",
              "\n",
              "                                          InstrumentSub  \\\n",
              "3518                     Nieuwe contracten (mln euro's)   \n",
              "3661  Rente op nieuwe contracten <= € 0.25 mln (perc...   \n",
              "3804  Rente op nieuwe contracten <= € 0.25 mln en <=...   \n",
              "4036  Rente op nieuwe contracten > € 1 mln (percenta...   \n",
              "515            Deposito's met opzegtermijn (mln euro's)   \n",
              "797          Deposito's met vaste looptijd (mln euro's)   \n",
              "1047                     Girale deposito's (mln euro's)   \n",
              "1334  Rente op uitstaand bedrag - Rekeningcourant kr...   \n",
              "1621  Uitstaand bedrag - Rekeningcourant krediet - R...   \n",
              "2320         Rente op uitstaande bedragen (percentages)   \n",
              "2410  Rente op zuiver nieuwe leningen (d.w.z. exclus...   \n",
              "3196                   Uitstaande bedragen (mln euro's)   \n",
              "1854  Nieuwe contracten, inclusief heronderhandeling...   \n",
              "2087  Rente op nieuwe contracten, inclusief heronder...   \n",
              "3286  Zuiver nieuwe leningen (d.w.z. exclusief heron...   \n",
              "\n",
              "                         Sector    Periode     waarde  \n",
              "3518  Niet-financiële bedrijven 2022-04-01   11514.00  \n",
              "3661  Niet-financiële bedrijven 2022-04-01       2.89  \n",
              "3804  Niet-financiële bedrijven 2022-04-01       2.52  \n",
              "4036  Niet-financiële bedrijven 2022-04-01       1.28  \n",
              "515                 Huishoudens 2022-05-01  367058.00  \n",
              "797                 Huishoudens 2022-05-01   60295.00  \n",
              "1047                Huishoudens 2022-05-01  131896.00  \n",
              "1334                Huishoudens 2022-05-01       3.60  \n",
              "1621                Huishoudens 2022-05-01    5221.00  \n",
              "2320                Huishoudens 2022-05-01       2.25  \n",
              "2410                Huishoudens 2022-05-01       1.97  \n",
              "3196                Huishoudens 2022-05-01  536871.00  \n",
              "1854              Huishoudens * 2022-05-01   11796.00  \n",
              "2087              Huishoudens * 2022-05-01       2.03  \n",
              "3286              Huishoudens * 2022-05-01    7324.00  "
            ]
          },
          "execution_count": 101,
          "metadata": {},
          "output_type": "execute_result"
        }
      ],
      "source": [
        "df.sort_values(by=['Periode','Sector'], ascending=True, na_position='last').tail(15)"
      ]
    },
    {
      "cell_type": "markdown",
      "metadata": {
        "colab_type": "text",
        "id": "nlA-68mBq3jb"
      },
      "source": [
        "De cijferdata uit een dataframe halen"
      ]
    },
    {
      "cell_type": "code",
      "execution_count": 102,
      "metadata": {
        "colab": {},
        "colab_type": "code",
        "id": "aca78PUvq3jc"
      },
      "outputs": [
        {
          "name": "stdout",
          "output_type": "stream",
          "text": [
            "[ 22284.   22162.   22368.5 ... 245986.  246942.  251824. ]\n"
          ]
        }
      ],
      "source": [
        "numerieke_waardes = df['waarde'].values\n",
        "print(numerieke_waardes)"
      ]
    },
    {
      "cell_type": "markdown",
      "metadata": {
        "colab_type": "text",
        "id": "cF23sA_eq3jl"
      },
      "source": [
        "Basis statistieken voor de data weergeven (numerieke kolommen)"
      ]
    },
    {
      "cell_type": "code",
      "execution_count": 103,
      "metadata": {
        "colab": {},
        "colab_type": "code",
        "id": "lqqc6Reoq3jm"
      },
      "outputs": [
        {
          "data": {
            "text/html": [
              "<div>\n",
              "<style scoped>\n",
              "    .dataframe tbody tr th:only-of-type {\n",
              "        vertical-align: middle;\n",
              "    }\n",
              "\n",
              "    .dataframe tbody tr th {\n",
              "        vertical-align: top;\n",
              "    }\n",
              "\n",
              "    .dataframe thead th {\n",
              "        text-align: right;\n",
              "    }\n",
              "</style>\n",
              "<table border=\"1\" class=\"dataframe\">\n",
              "  <thead>\n",
              "    <tr style=\"text-align: right;\">\n",
              "      <th></th>\n",
              "      <th>waarde</th>\n",
              "    </tr>\n",
              "  </thead>\n",
              "  <tbody>\n",
              "    <tr>\n",
              "      <th>count</th>\n",
              "      <td>4487.000000</td>\n",
              "    </tr>\n",
              "    <tr>\n",
              "      <th>mean</th>\n",
              "      <td>69613.623067</td>\n",
              "    </tr>\n",
              "    <tr>\n",
              "      <th>std</th>\n",
              "      <td>129966.053776</td>\n",
              "    </tr>\n",
              "    <tr>\n",
              "      <th>min</th>\n",
              "      <td>0.570000</td>\n",
              "    </tr>\n",
              "    <tr>\n",
              "      <th>25%</th>\n",
              "      <td>4.600000</td>\n",
              "    </tr>\n",
              "    <tr>\n",
              "      <th>50%</th>\n",
              "      <td>8759.000000</td>\n",
              "    </tr>\n",
              "    <tr>\n",
              "      <th>75%</th>\n",
              "      <td>56466.000000</td>\n",
              "    </tr>\n",
              "    <tr>\n",
              "      <th>max</th>\n",
              "      <td>546832.000000</td>\n",
              "    </tr>\n",
              "  </tbody>\n",
              "</table>\n",
              "</div>"
            ],
            "text/plain": [
              "              waarde\n",
              "count    4487.000000\n",
              "mean    69613.623067\n",
              "std    129966.053776\n",
              "min         0.570000\n",
              "25%         4.600000\n",
              "50%      8759.000000\n",
              "75%     56466.000000\n",
              "max    546832.000000"
            ]
          },
          "execution_count": 103,
          "metadata": {},
          "output_type": "execute_result"
        }
      ],
      "source": [
        "df.describe()"
      ]
    },
    {
      "cell_type": "markdown",
      "metadata": {
        "colab_type": "text",
        "id": "FPoiANziq3jr"
      },
      "source": [
        "of handmatig "
      ]
    },
    {
      "cell_type": "code",
      "execution_count": 104,
      "metadata": {
        "colab": {},
        "colab_type": "code",
        "id": "WJEGLD9Oq3jr"
      },
      "outputs": [
        {
          "name": "stdout",
          "output_type": "stream",
          "text": [
            "waarde    276261.6\n",
            "Name: 0.9, dtype: float64\n",
            "Instrument                              Zakelijke kredietverlening\n",
            "InstrumentSub    Zuiver nieuwe leningen (d.w.z. exclusief heron...\n",
            "Sector                                   Niet-financiële bedrijven\n",
            "Periode                                        2022-05-01 00:00:00\n",
            "waarde                                                    546832.0\n",
            "dtype: object\n"
          ]
        }
      ],
      "source": [
        "print(df.quantile(q=0.9))\n",
        "print(df.max())"
      ]
    },
    {
      "cell_type": "markdown",
      "metadata": {
        "colab_type": "text",
        "id": "YnvFfJ9Zq3jx"
      },
      "source": [
        "Pivot tabel maken"
      ]
    },
    {
      "cell_type": "code",
      "execution_count": 105,
      "metadata": {
        "colab": {},
        "colab_type": "code",
        "id": "Pr6fGwn4q3jy"
      },
      "outputs": [
        {
          "data": {
            "text/html": [
              "<div>\n",
              "<style scoped>\n",
              "    .dataframe tbody tr th:only-of-type {\n",
              "        vertical-align: middle;\n",
              "    }\n",
              "\n",
              "    .dataframe tbody tr th {\n",
              "        vertical-align: top;\n",
              "    }\n",
              "\n",
              "    .dataframe thead tr th {\n",
              "        text-align: left;\n",
              "    }\n",
              "\n",
              "    .dataframe thead tr:last-of-type th {\n",
              "        text-align: right;\n",
              "    }\n",
              "</style>\n",
              "<table border=\"1\" class=\"dataframe\">\n",
              "  <thead>\n",
              "    <tr>\n",
              "      <th></th>\n",
              "      <th></th>\n",
              "      <th colspan=\"3\" halign=\"left\">waarde</th>\n",
              "    </tr>\n",
              "    <tr>\n",
              "      <th></th>\n",
              "      <th></th>\n",
              "      <th>max</th>\n",
              "      <th>min</th>\n",
              "      <th>sum</th>\n",
              "    </tr>\n",
              "    <tr>\n",
              "      <th>Periode</th>\n",
              "      <th>InstrumentSub</th>\n",
              "      <th></th>\n",
              "      <th></th>\n",
              "      <th></th>\n",
              "    </tr>\n",
              "  </thead>\n",
              "  <tbody>\n",
              "    <tr>\n",
              "      <th rowspan=\"9\" valign=\"top\">2022-04-01</th>\n",
              "      <th>Rente op nieuwe contracten, inclusief heronderhandelingen (percentages)</th>\n",
              "      <td>1.88</td>\n",
              "      <td>1.88</td>\n",
              "      <td>1.88</td>\n",
              "    </tr>\n",
              "    <tr>\n",
              "      <th>Rente op uitstaand bedrag - Rekeningcourant krediet - Doorlopend krediet (percentages)</th>\n",
              "      <td>6.86</td>\n",
              "      <td>6.86</td>\n",
              "      <td>6.86</td>\n",
              "    </tr>\n",
              "    <tr>\n",
              "      <th>Rente op uitstaand bedrag - Rekeningcourant krediet - Roodstand (percentages)</th>\n",
              "      <td>3.70</td>\n",
              "      <td>3.70</td>\n",
              "      <td>3.70</td>\n",
              "    </tr>\n",
              "    <tr>\n",
              "      <th>Rente op uitstaande bedragen (percentages)</th>\n",
              "      <td>2.27</td>\n",
              "      <td>2.27</td>\n",
              "      <td>2.27</td>\n",
              "    </tr>\n",
              "    <tr>\n",
              "      <th>Rente op zuiver nieuwe leningen (d.w.z. exclusief heronderhandelingen) (percentages)</th>\n",
              "      <td>1.80</td>\n",
              "      <td>1.80</td>\n",
              "      <td>1.80</td>\n",
              "    </tr>\n",
              "    <tr>\n",
              "      <th>Uitstaand bedrag - Rekeningcourant krediet - Doorlopend krediet (mln euro's)</th>\n",
              "      <td>372.00</td>\n",
              "      <td>372.00</td>\n",
              "      <td>372.00</td>\n",
              "    </tr>\n",
              "    <tr>\n",
              "      <th>Uitstaand bedrag - Rekeningcourant krediet - Roodstand (mln euro's)</th>\n",
              "      <td>5481.00</td>\n",
              "      <td>5481.00</td>\n",
              "      <td>5481.00</td>\n",
              "    </tr>\n",
              "    <tr>\n",
              "      <th>Uitstaande bedragen (mln euro's)</th>\n",
              "      <td>522141.00</td>\n",
              "      <td>522141.00</td>\n",
              "      <td>522141.00</td>\n",
              "    </tr>\n",
              "    <tr>\n",
              "      <th>Zuiver nieuwe leningen (d.w.z. exclusief heronderhandelingen) (mln euro’s)</th>\n",
              "      <td>7427.00</td>\n",
              "      <td>7427.00</td>\n",
              "      <td>7427.00</td>\n",
              "    </tr>\n",
              "    <tr>\n",
              "      <th rowspan=\"11\" valign=\"top\">2022-05-01</th>\n",
              "      <th>Deposito's met opzegtermijn (mln euro's)</th>\n",
              "      <td>367058.00</td>\n",
              "      <td>367058.00</td>\n",
              "      <td>367058.00</td>\n",
              "    </tr>\n",
              "    <tr>\n",
              "      <th>Deposito's met vaste looptijd (mln euro's)</th>\n",
              "      <td>60295.00</td>\n",
              "      <td>60295.00</td>\n",
              "      <td>60295.00</td>\n",
              "    </tr>\n",
              "    <tr>\n",
              "      <th>Girale deposito's (mln euro's)</th>\n",
              "      <td>131896.00</td>\n",
              "      <td>131896.00</td>\n",
              "      <td>131896.00</td>\n",
              "    </tr>\n",
              "    <tr>\n",
              "      <th>Nieuwe contracten, inclusief heronderhandelingen (mln euro's)</th>\n",
              "      <td>11796.00</td>\n",
              "      <td>11796.00</td>\n",
              "      <td>11796.00</td>\n",
              "    </tr>\n",
              "    <tr>\n",
              "      <th>Rente op nieuwe contracten, inclusief heronderhandelingen (percentages)</th>\n",
              "      <td>2.03</td>\n",
              "      <td>2.03</td>\n",
              "      <td>2.03</td>\n",
              "    </tr>\n",
              "    <tr>\n",
              "      <th>Rente op uitstaand bedrag - Rekeningcourant krediet - Roodstand (percentages)</th>\n",
              "      <td>3.60</td>\n",
              "      <td>3.60</td>\n",
              "      <td>3.60</td>\n",
              "    </tr>\n",
              "    <tr>\n",
              "      <th>Rente op uitstaande bedragen (percentages)</th>\n",
              "      <td>2.25</td>\n",
              "      <td>2.25</td>\n",
              "      <td>2.25</td>\n",
              "    </tr>\n",
              "    <tr>\n",
              "      <th>Rente op zuiver nieuwe leningen (d.w.z. exclusief heronderhandelingen) (percentages)</th>\n",
              "      <td>1.97</td>\n",
              "      <td>1.97</td>\n",
              "      <td>1.97</td>\n",
              "    </tr>\n",
              "    <tr>\n",
              "      <th>Uitstaand bedrag - Rekeningcourant krediet - Roodstand (mln euro's)</th>\n",
              "      <td>5221.00</td>\n",
              "      <td>5221.00</td>\n",
              "      <td>5221.00</td>\n",
              "    </tr>\n",
              "    <tr>\n",
              "      <th>Uitstaande bedragen (mln euro's)</th>\n",
              "      <td>536871.00</td>\n",
              "      <td>536871.00</td>\n",
              "      <td>536871.00</td>\n",
              "    </tr>\n",
              "    <tr>\n",
              "      <th>Zuiver nieuwe leningen (d.w.z. exclusief heronderhandelingen) (mln euro’s)</th>\n",
              "      <td>7324.00</td>\n",
              "      <td>7324.00</td>\n",
              "      <td>7324.00</td>\n",
              "    </tr>\n",
              "  </tbody>\n",
              "</table>\n",
              "</div>"
            ],
            "text/plain": [
              "                                                                  waarde  \\\n",
              "                                                                     max   \n",
              "Periode    InstrumentSub                                                   \n",
              "2022-04-01 Rente op nieuwe contracten, inclusief heronderh...       1.88   \n",
              "           Rente op uitstaand bedrag - Rekeningcourant kre...       6.86   \n",
              "           Rente op uitstaand bedrag - Rekeningcourant kre...       3.70   \n",
              "           Rente op uitstaande bedragen (percentages)               2.27   \n",
              "           Rente op zuiver nieuwe leningen (d.w.z. exclusi...       1.80   \n",
              "           Uitstaand bedrag - Rekeningcourant krediet - Do...     372.00   \n",
              "           Uitstaand bedrag - Rekeningcourant krediet - Ro...    5481.00   \n",
              "           Uitstaande bedragen (mln euro's)                    522141.00   \n",
              "           Zuiver nieuwe leningen (d.w.z. exclusief herond...    7427.00   \n",
              "2022-05-01 Deposito's met opzegtermijn (mln euro's)            367058.00   \n",
              "           Deposito's met vaste looptijd (mln euro's)           60295.00   \n",
              "           Girale deposito's (mln euro's)                      131896.00   \n",
              "           Nieuwe contracten, inclusief heronderhandelinge...   11796.00   \n",
              "           Rente op nieuwe contracten, inclusief heronderh...       2.03   \n",
              "           Rente op uitstaand bedrag - Rekeningcourant kre...       3.60   \n",
              "           Rente op uitstaande bedragen (percentages)               2.25   \n",
              "           Rente op zuiver nieuwe leningen (d.w.z. exclusi...       1.97   \n",
              "           Uitstaand bedrag - Rekeningcourant krediet - Ro...    5221.00   \n",
              "           Uitstaande bedragen (mln euro's)                    536871.00   \n",
              "           Zuiver nieuwe leningen (d.w.z. exclusief herond...    7324.00   \n",
              "\n",
              "                                                                          \\\n",
              "                                                                     min   \n",
              "Periode    InstrumentSub                                                   \n",
              "2022-04-01 Rente op nieuwe contracten, inclusief heronderh...       1.88   \n",
              "           Rente op uitstaand bedrag - Rekeningcourant kre...       6.86   \n",
              "           Rente op uitstaand bedrag - Rekeningcourant kre...       3.70   \n",
              "           Rente op uitstaande bedragen (percentages)               2.27   \n",
              "           Rente op zuiver nieuwe leningen (d.w.z. exclusi...       1.80   \n",
              "           Uitstaand bedrag - Rekeningcourant krediet - Do...     372.00   \n",
              "           Uitstaand bedrag - Rekeningcourant krediet - Ro...    5481.00   \n",
              "           Uitstaande bedragen (mln euro's)                    522141.00   \n",
              "           Zuiver nieuwe leningen (d.w.z. exclusief herond...    7427.00   \n",
              "2022-05-01 Deposito's met opzegtermijn (mln euro's)            367058.00   \n",
              "           Deposito's met vaste looptijd (mln euro's)           60295.00   \n",
              "           Girale deposito's (mln euro's)                      131896.00   \n",
              "           Nieuwe contracten, inclusief heronderhandelinge...   11796.00   \n",
              "           Rente op nieuwe contracten, inclusief heronderh...       2.03   \n",
              "           Rente op uitstaand bedrag - Rekeningcourant kre...       3.60   \n",
              "           Rente op uitstaande bedragen (percentages)               2.25   \n",
              "           Rente op zuiver nieuwe leningen (d.w.z. exclusi...       1.97   \n",
              "           Uitstaand bedrag - Rekeningcourant krediet - Ro...    5221.00   \n",
              "           Uitstaande bedragen (mln euro's)                    536871.00   \n",
              "           Zuiver nieuwe leningen (d.w.z. exclusief herond...    7324.00   \n",
              "\n",
              "                                                                          \n",
              "                                                                     sum  \n",
              "Periode    InstrumentSub                                                  \n",
              "2022-04-01 Rente op nieuwe contracten, inclusief heronderh...       1.88  \n",
              "           Rente op uitstaand bedrag - Rekeningcourant kre...       6.86  \n",
              "           Rente op uitstaand bedrag - Rekeningcourant kre...       3.70  \n",
              "           Rente op uitstaande bedragen (percentages)               2.27  \n",
              "           Rente op zuiver nieuwe leningen (d.w.z. exclusi...       1.80  \n",
              "           Uitstaand bedrag - Rekeningcourant krediet - Do...     372.00  \n",
              "           Uitstaand bedrag - Rekeningcourant krediet - Ro...    5481.00  \n",
              "           Uitstaande bedragen (mln euro's)                    522141.00  \n",
              "           Zuiver nieuwe leningen (d.w.z. exclusief herond...    7427.00  \n",
              "2022-05-01 Deposito's met opzegtermijn (mln euro's)            367058.00  \n",
              "           Deposito's met vaste looptijd (mln euro's)           60295.00  \n",
              "           Girale deposito's (mln euro's)                      131896.00  \n",
              "           Nieuwe contracten, inclusief heronderhandelinge...   11796.00  \n",
              "           Rente op nieuwe contracten, inclusief heronderh...       2.03  \n",
              "           Rente op uitstaand bedrag - Rekeningcourant kre...       3.60  \n",
              "           Rente op uitstaande bedragen (percentages)               2.25  \n",
              "           Rente op zuiver nieuwe leningen (d.w.z. exclusi...       1.97  \n",
              "           Uitstaand bedrag - Rekeningcourant krediet - Ro...    5221.00  \n",
              "           Uitstaande bedragen (mln euro's)                    536871.00  \n",
              "           Zuiver nieuwe leningen (d.w.z. exclusief herond...    7324.00  "
            ]
          },
          "execution_count": 105,
          "metadata": {},
          "output_type": "execute_result"
        }
      ],
      "source": [
        "pd.pivot_table(df, values=['waarde'], index=['Periode', 'InstrumentSub'], aggfunc={'waarde': [min, max, sum]}).tail(20)"
      ]
    },
    {
      "cell_type": "markdown",
      "metadata": {
        "colab_type": "text",
        "id": "rhtgEVrmq3j4"
      },
      "source": [
        "Maken van een lopend gemiddelde"
      ]
    },
    {
      "cell_type": "code",
      "execution_count": 106,
      "metadata": {
        "colab": {},
        "colab_type": "code",
        "id": "F5Qjf1dZq3j4"
      },
      "outputs": [
        {
          "data": {
            "text/html": [
              "<div>\n",
              "<style scoped>\n",
              "    .dataframe tbody tr th:only-of-type {\n",
              "        vertical-align: middle;\n",
              "    }\n",
              "\n",
              "    .dataframe tbody tr th {\n",
              "        vertical-align: top;\n",
              "    }\n",
              "\n",
              "    .dataframe thead th {\n",
              "        text-align: right;\n",
              "    }\n",
              "</style>\n",
              "<table border=\"1\" class=\"dataframe\">\n",
              "  <thead>\n",
              "    <tr style=\"text-align: right;\">\n",
              "      <th></th>\n",
              "      <th>Instrument</th>\n",
              "      <th>InstrumentSub</th>\n",
              "      <th>Sector</th>\n",
              "      <th>Periode</th>\n",
              "      <th>waarde</th>\n",
              "      <th>lopende gemiddelde</th>\n",
              "    </tr>\n",
              "  </thead>\n",
              "  <tbody>\n",
              "    <tr>\n",
              "      <th>0</th>\n",
              "      <td>Consumptief krediet</td>\n",
              "      <td>Uitstaande bedragen (mln euro's)</td>\n",
              "      <td>Huishoudens</td>\n",
              "      <td>2003-01-01</td>\n",
              "      <td>22284.0</td>\n",
              "      <td>NaN</td>\n",
              "    </tr>\n",
              "    <tr>\n",
              "      <th>1</th>\n",
              "      <td>Consumptief krediet</td>\n",
              "      <td>Uitstaande bedragen (mln euro's)</td>\n",
              "      <td>Huishoudens</td>\n",
              "      <td>2003-02-01</td>\n",
              "      <td>22162.0</td>\n",
              "      <td>NaN</td>\n",
              "    </tr>\n",
              "    <tr>\n",
              "      <th>2</th>\n",
              "      <td>Consumptief krediet</td>\n",
              "      <td>Uitstaande bedragen (mln euro's)</td>\n",
              "      <td>Huishoudens</td>\n",
              "      <td>2003-03-01</td>\n",
              "      <td>22368.5</td>\n",
              "      <td>NaN</td>\n",
              "    </tr>\n",
              "    <tr>\n",
              "      <th>3</th>\n",
              "      <td>Consumptief krediet</td>\n",
              "      <td>Uitstaande bedragen (mln euro's)</td>\n",
              "      <td>Huishoudens</td>\n",
              "      <td>2003-04-01</td>\n",
              "      <td>22575.0</td>\n",
              "      <td>22347.375000</td>\n",
              "    </tr>\n",
              "    <tr>\n",
              "      <th>4</th>\n",
              "      <td>Consumptief krediet</td>\n",
              "      <td>Uitstaande bedragen (mln euro's)</td>\n",
              "      <td>Huishoudens</td>\n",
              "      <td>2003-05-01</td>\n",
              "      <td>21868.0</td>\n",
              "      <td>22251.500000</td>\n",
              "    </tr>\n",
              "    <tr>\n",
              "      <th>5</th>\n",
              "      <td>Consumptief krediet</td>\n",
              "      <td>Uitstaande bedragen (mln euro's)</td>\n",
              "      <td>Huishoudens</td>\n",
              "      <td>2003-06-01</td>\n",
              "      <td>22477.0</td>\n",
              "      <td>22289.083333</td>\n",
              "    </tr>\n",
              "    <tr>\n",
              "      <th>6</th>\n",
              "      <td>Consumptief krediet</td>\n",
              "      <td>Uitstaande bedragen (mln euro's)</td>\n",
              "      <td>Huishoudens</td>\n",
              "      <td>2003-07-01</td>\n",
              "      <td>22798.0</td>\n",
              "      <td>22374.750000</td>\n",
              "    </tr>\n",
              "    <tr>\n",
              "      <th>7</th>\n",
              "      <td>Consumptief krediet</td>\n",
              "      <td>Uitstaande bedragen (mln euro's)</td>\n",
              "      <td>Huishoudens</td>\n",
              "      <td>2003-08-01</td>\n",
              "      <td>22606.0</td>\n",
              "      <td>22448.750000</td>\n",
              "    </tr>\n",
              "    <tr>\n",
              "      <th>8</th>\n",
              "      <td>Consumptief krediet</td>\n",
              "      <td>Uitstaande bedragen (mln euro's)</td>\n",
              "      <td>Huishoudens</td>\n",
              "      <td>2003-09-01</td>\n",
              "      <td>22656.0</td>\n",
              "      <td>22496.666667</td>\n",
              "    </tr>\n",
              "    <tr>\n",
              "      <th>9</th>\n",
              "      <td>Consumptief krediet</td>\n",
              "      <td>Uitstaande bedragen (mln euro's)</td>\n",
              "      <td>Huishoudens</td>\n",
              "      <td>2003-10-01</td>\n",
              "      <td>22937.0</td>\n",
              "      <td>22557.000000</td>\n",
              "    </tr>\n",
              "    <tr>\n",
              "      <th>10</th>\n",
              "      <td>Consumptief krediet</td>\n",
              "      <td>Uitstaande bedragen (mln euro's)</td>\n",
              "      <td>Huishoudens</td>\n",
              "      <td>2003-11-01</td>\n",
              "      <td>23037.0</td>\n",
              "      <td>22751.833333</td>\n",
              "    </tr>\n",
              "    <tr>\n",
              "      <th>11</th>\n",
              "      <td>Consumptief krediet</td>\n",
              "      <td>Uitstaande bedragen (mln euro's)</td>\n",
              "      <td>Huishoudens</td>\n",
              "      <td>2003-12-01</td>\n",
              "      <td>23944.0</td>\n",
              "      <td>22996.333333</td>\n",
              "    </tr>\n",
              "  </tbody>\n",
              "</table>\n",
              "</div>"
            ],
            "text/plain": [
              "             Instrument                     InstrumentSub       Sector  \\\n",
              "0   Consumptief krediet  Uitstaande bedragen (mln euro's)  Huishoudens   \n",
              "1   Consumptief krediet  Uitstaande bedragen (mln euro's)  Huishoudens   \n",
              "2   Consumptief krediet  Uitstaande bedragen (mln euro's)  Huishoudens   \n",
              "3   Consumptief krediet  Uitstaande bedragen (mln euro's)  Huishoudens   \n",
              "4   Consumptief krediet  Uitstaande bedragen (mln euro's)  Huishoudens   \n",
              "5   Consumptief krediet  Uitstaande bedragen (mln euro's)  Huishoudens   \n",
              "6   Consumptief krediet  Uitstaande bedragen (mln euro's)  Huishoudens   \n",
              "7   Consumptief krediet  Uitstaande bedragen (mln euro's)  Huishoudens   \n",
              "8   Consumptief krediet  Uitstaande bedragen (mln euro's)  Huishoudens   \n",
              "9   Consumptief krediet  Uitstaande bedragen (mln euro's)  Huishoudens   \n",
              "10  Consumptief krediet  Uitstaande bedragen (mln euro's)  Huishoudens   \n",
              "11  Consumptief krediet  Uitstaande bedragen (mln euro's)  Huishoudens   \n",
              "\n",
              "      Periode   waarde  lopende gemiddelde  \n",
              "0  2003-01-01  22284.0                 NaN  \n",
              "1  2003-02-01  22162.0                 NaN  \n",
              "2  2003-03-01  22368.5                 NaN  \n",
              "3  2003-04-01  22575.0        22347.375000  \n",
              "4  2003-05-01  21868.0        22251.500000  \n",
              "5  2003-06-01  22477.0        22289.083333  \n",
              "6  2003-07-01  22798.0        22374.750000  \n",
              "7  2003-08-01  22606.0        22448.750000  \n",
              "8  2003-09-01  22656.0        22496.666667  \n",
              "9  2003-10-01  22937.0        22557.000000  \n",
              "10 2003-11-01  23037.0        22751.833333  \n",
              "11 2003-12-01  23944.0        22996.333333  "
            ]
          },
          "execution_count": 106,
          "metadata": {},
          "output_type": "execute_result"
        }
      ],
      "source": [
        "df_uitstaande = df[df['InstrumentSub']=='Uitstaande bedragen (mln euro\\'s)'].copy()\n",
        "df_uitstaande['lopende gemiddelde'] = df_uitstaande['waarde'].rolling(6, min_periods=4).mean()\n",
        "df_uitstaande.head(12)"
      ]
    },
    {
      "cell_type": "markdown",
      "metadata": {
        "colab_type": "text",
        "id": "q10ewl_nq3j9"
      },
      "source": [
        "Data combineren uit verschillende dataframes"
      ]
    },
    {
      "cell_type": "code",
      "execution_count": 107,
      "metadata": {
        "colab": {},
        "colab_type": "code",
        "id": "JMalAhdiq3j-"
      },
      "outputs": [
        {
          "data": {
            "text/html": [
              "<div>\n",
              "<style scoped>\n",
              "    .dataframe tbody tr th:only-of-type {\n",
              "        vertical-align: middle;\n",
              "    }\n",
              "\n",
              "    .dataframe tbody tr th {\n",
              "        vertical-align: top;\n",
              "    }\n",
              "\n",
              "    .dataframe thead th {\n",
              "        text-align: right;\n",
              "    }\n",
              "</style>\n",
              "<table border=\"1\" class=\"dataframe\">\n",
              "  <thead>\n",
              "    <tr style=\"text-align: right;\">\n",
              "      <th></th>\n",
              "      <th></th>\n",
              "      <th></th>\n",
              "      <th></th>\n",
              "      <th>waarde</th>\n",
              "      <th>lopende gemiddelde</th>\n",
              "    </tr>\n",
              "    <tr>\n",
              "      <th>Instrument</th>\n",
              "      <th>InstrumentSub</th>\n",
              "      <th>Sector</th>\n",
              "      <th>Periode</th>\n",
              "      <th></th>\n",
              "      <th></th>\n",
              "    </tr>\n",
              "  </thead>\n",
              "  <tbody>\n",
              "    <tr>\n",
              "      <th rowspan=\"10\" valign=\"top\">Consumptief krediet</th>\n",
              "      <th rowspan=\"10\" valign=\"top\">Uitstaande bedragen (mln euro's)</th>\n",
              "      <th rowspan=\"10\" valign=\"top\">Huishoudens</th>\n",
              "      <th>2003-01-01</th>\n",
              "      <td>8.000000</td>\n",
              "      <td>8.000000</td>\n",
              "    </tr>\n",
              "    <tr>\n",
              "      <th>2003-02-01</th>\n",
              "      <td>8.000000</td>\n",
              "      <td>8.000000</td>\n",
              "    </tr>\n",
              "    <tr>\n",
              "      <th>2003-03-01</th>\n",
              "      <td>8.000000</td>\n",
              "      <td>8.000000</td>\n",
              "    </tr>\n",
              "    <tr>\n",
              "      <th>2003-04-01</th>\n",
              "      <td>22347.375000</td>\n",
              "      <td>22347.375000</td>\n",
              "    </tr>\n",
              "    <tr>\n",
              "      <th>2003-05-01</th>\n",
              "      <td>21868.000000</td>\n",
              "      <td>22251.500000</td>\n",
              "    </tr>\n",
              "    <tr>\n",
              "      <th>2003-06-01</th>\n",
              "      <td>22289.083333</td>\n",
              "      <td>22289.083333</td>\n",
              "    </tr>\n",
              "    <tr>\n",
              "      <th>2003-07-01</th>\n",
              "      <td>22374.750000</td>\n",
              "      <td>22374.750000</td>\n",
              "    </tr>\n",
              "    <tr>\n",
              "      <th>2003-08-01</th>\n",
              "      <td>22448.750000</td>\n",
              "      <td>22448.750000</td>\n",
              "    </tr>\n",
              "    <tr>\n",
              "      <th>2003-09-01</th>\n",
              "      <td>22496.666667</td>\n",
              "      <td>22496.666667</td>\n",
              "    </tr>\n",
              "    <tr>\n",
              "      <th>2003-10-01</th>\n",
              "      <td>22557.000000</td>\n",
              "      <td>22557.000000</td>\n",
              "    </tr>\n",
              "  </tbody>\n",
              "</table>\n",
              "</div>"
            ],
            "text/plain": [
              "                                                                                   waarde  \\\n",
              "Instrument          InstrumentSub                    Sector      Periode                    \n",
              "Consumptief krediet Uitstaande bedragen (mln euro's) Huishoudens 2003-01-01      8.000000   \n",
              "                                                                 2003-02-01      8.000000   \n",
              "                                                                 2003-03-01      8.000000   \n",
              "                                                                 2003-04-01  22347.375000   \n",
              "                                                                 2003-05-01  21868.000000   \n",
              "                                                                 2003-06-01  22289.083333   \n",
              "                                                                 2003-07-01  22374.750000   \n",
              "                                                                 2003-08-01  22448.750000   \n",
              "                                                                 2003-09-01  22496.666667   \n",
              "                                                                 2003-10-01  22557.000000   \n",
              "\n",
              "                                                                             lopende gemiddelde  \n",
              "Instrument          InstrumentSub                    Sector      Periode                         \n",
              "Consumptief krediet Uitstaande bedragen (mln euro's) Huishoudens 2003-01-01            8.000000  \n",
              "                                                                 2003-02-01            8.000000  \n",
              "                                                                 2003-03-01            8.000000  \n",
              "                                                                 2003-04-01        22347.375000  \n",
              "                                                                 2003-05-01        22251.500000  \n",
              "                                                                 2003-06-01        22289.083333  \n",
              "                                                                 2003-07-01        22374.750000  \n",
              "                                                                 2003-08-01        22448.750000  \n",
              "                                                                 2003-09-01        22496.666667  \n",
              "                                                                 2003-10-01        22557.000000  "
            ]
          },
          "execution_count": 107,
          "metadata": {},
          "output_type": "execute_result"
        }
      ],
      "source": [
        "df_a = df_uitstaande.copy()\n",
        "df_a = df_a.set_index(['Instrument','InstrumentSub','Sector','Periode'],append=False)\n",
        "\n",
        "df_b = df_uitstaande.copy()\n",
        "df_b = df_b.set_index(['Instrument','InstrumentSub','Sector','Periode'],append=False)\n",
        "df_b['waarde'] = df_b['lopende gemiddelde']\n",
        "\n",
        "df_a.combine(df_b, np.minimum, fill_value = 8).head(10)"
      ]
    },
    {
      "cell_type": "markdown",
      "metadata": {
        "colab_type": "text",
        "id": "2F6wRXsLq3kD"
      },
      "source": [
        "Aantal keren tellen dat een waarde voorkomt"
      ]
    },
    {
      "cell_type": "code",
      "execution_count": 108,
      "metadata": {
        "colab": {},
        "colab_type": "code",
        "id": "TzVyBuSBq3kE"
      },
      "outputs": [
        {
          "data": {
            "text/plain": [
              "(-546.262, 54683.713]       0.733006\n",
              "(54683.713, 109366.856]     0.079340\n",
              "(273416.285, 328099.428]    0.045910\n",
              "(492148.857, 546832.0]      0.037887\n",
              "(164049.999, 218733.142]    0.032316\n",
              "(218733.142, 273416.285]    0.032316\n",
              "(109366.856, 164049.999]    0.020281\n",
              "(328099.428, 382782.571]    0.010029\n",
              "(437465.714, 492148.857]    0.005349\n",
              "(382782.571, 437465.714]    0.003566\n",
              "Name: waarde, dtype: float64"
            ]
          },
          "execution_count": 108,
          "metadata": {},
          "output_type": "execute_result"
        }
      ],
      "source": [
        "df['waarde'].value_counts(bins=10,dropna=True,normalize=True)"
      ]
    },
    {
      "cell_type": "markdown",
      "metadata": {
        "colab_type": "text",
        "id": "Xv-en44nq3kJ"
      },
      "source": [
        "Data grouperen"
      ]
    },
    {
      "cell_type": "code",
      "execution_count": 109,
      "metadata": {
        "colab": {},
        "colab_type": "code",
        "id": "KNtjKWexq3kK"
      },
      "outputs": [
        {
          "data": {
            "text/html": [
              "<div>\n",
              "<style scoped>\n",
              "    .dataframe tbody tr th:only-of-type {\n",
              "        vertical-align: middle;\n",
              "    }\n",
              "\n",
              "    .dataframe tbody tr th {\n",
              "        vertical-align: top;\n",
              "    }\n",
              "\n",
              "    .dataframe thead tr th {\n",
              "        text-align: left;\n",
              "    }\n",
              "\n",
              "    .dataframe thead tr:last-of-type th {\n",
              "        text-align: right;\n",
              "    }\n",
              "</style>\n",
              "<table border=\"1\" class=\"dataframe\">\n",
              "  <thead>\n",
              "    <tr>\n",
              "      <th></th>\n",
              "      <th></th>\n",
              "      <th colspan=\"3\" halign=\"left\">waarde</th>\n",
              "    </tr>\n",
              "    <tr>\n",
              "      <th></th>\n",
              "      <th></th>\n",
              "      <th>amin</th>\n",
              "      <th>amax</th>\n",
              "      <th>mean</th>\n",
              "    </tr>\n",
              "    <tr>\n",
              "      <th>Instrument</th>\n",
              "      <th>InstrumentSub</th>\n",
              "      <th></th>\n",
              "      <th></th>\n",
              "      <th></th>\n",
              "    </tr>\n",
              "  </thead>\n",
              "  <tbody>\n",
              "    <tr>\n",
              "      <th>Consumptief krediet</th>\n",
              "      <th>Uitstaande bedragen (mln euro's)</th>\n",
              "      <td>10129.00</td>\n",
              "      <td>31545.00</td>\n",
              "      <td>24076.002193</td>\n",
              "    </tr>\n",
              "    <tr>\n",
              "      <th rowspan=\"3\" valign=\"top\">Rekening courante tegoeden en spaargeld</th>\n",
              "      <th>Deposito's met opzegtermijn (mln euro's)</th>\n",
              "      <td>110022.00</td>\n",
              "      <td>367058.00</td>\n",
              "      <td>241181.024823</td>\n",
              "    </tr>\n",
              "    <tr>\n",
              "      <th>Deposito's met vaste looptijd (mln euro's)</th>\n",
              "      <td>16644.00</td>\n",
              "      <td>96327.00</td>\n",
              "      <td>43255.624113</td>\n",
              "    </tr>\n",
              "    <tr>\n",
              "      <th>Girale deposito's (mln euro's)</th>\n",
              "      <td>38179.00</td>\n",
              "      <td>131896.00</td>\n",
              "      <td>63313.716000</td>\n",
              "    </tr>\n",
              "    <tr>\n",
              "      <th rowspan=\"4\" valign=\"top\">Roodstand en doorlopend krediet</th>\n",
              "      <th>Rente op uitstaand bedrag - Rekeningcourant krediet - Doorlopend krediet (percentages)</th>\n",
              "      <td>6.30</td>\n",
              "      <td>8.10</td>\n",
              "      <td>7.277133</td>\n",
              "    </tr>\n",
              "    <tr>\n",
              "      <th>Rente op uitstaand bedrag - Rekeningcourant krediet - Roodstand (percentages)</th>\n",
              "      <td>3.60</td>\n",
              "      <td>5.80</td>\n",
              "      <td>4.731319</td>\n",
              "    </tr>\n",
              "    <tr>\n",
              "      <th>Uitstaand bedrag - Rekeningcourant krediet - Doorlopend krediet (mln euro's)</th>\n",
              "      <td>372.00</td>\n",
              "      <td>6072.00</td>\n",
              "      <td>3435.419580</td>\n",
              "    </tr>\n",
              "    <tr>\n",
              "      <th>Uitstaand bedrag - Rekeningcourant krediet - Roodstand (mln euro's)</th>\n",
              "      <td>5221.00</td>\n",
              "      <td>16271.00</td>\n",
              "      <td>10900.034722</td>\n",
              "    </tr>\n",
              "    <tr>\n",
              "      <th rowspan=\"6\" valign=\"top\">Woninghypotheken</th>\n",
              "      <th>Nieuwe contracten, inclusief heronderhandelingen (mln euro's)</th>\n",
              "      <td>3372.00</td>\n",
              "      <td>14591.00</td>\n",
              "      <td>7691.463519</td>\n",
              "    </tr>\n",
              "    <tr>\n",
              "      <th>Rente op nieuwe contracten, inclusief heronderhandelingen (percentages)</th>\n",
              "      <td>1.65</td>\n",
              "      <td>5.61</td>\n",
              "      <td>3.573262</td>\n",
              "    </tr>\n",
              "    <tr>\n",
              "      <th>Rente op uitstaande bedragen (percentages)</th>\n",
              "      <td>2.25</td>\n",
              "      <td>5.70</td>\n",
              "      <td>4.198884</td>\n",
              "    </tr>\n",
              "    <tr>\n",
              "      <th>Rente op zuiver nieuwe leningen (d.w.z. exclusief heronderhandelingen) (percentages)</th>\n",
              "      <td>1.60</td>\n",
              "      <td>3.22</td>\n",
              "      <td>2.260778</td>\n",
              "    </tr>\n",
              "    <tr>\n",
              "      <th>Uitstaande bedragen (mln euro's)</th>\n",
              "      <td>483.00</td>\n",
              "      <td>546832.00</td>\n",
              "      <td>187100.259542</td>\n",
              "    </tr>\n",
              "    <tr>\n",
              "      <th>Zuiver nieuwe leningen (d.w.z. exclusief heronderhandelingen) (mln euro’s)</th>\n",
              "      <td>2609.00</td>\n",
              "      <td>8684.00</td>\n",
              "      <td>4827.244444</td>\n",
              "    </tr>\n",
              "    <tr>\n",
              "      <th rowspan=\"6\" valign=\"top\">Zakelijke kredietverlening</th>\n",
              "      <th>Nieuwe contracten (mln euro's)</th>\n",
              "      <td>6545.00</td>\n",
              "      <td>21749.00</td>\n",
              "      <td>10677.547414</td>\n",
              "    </tr>\n",
              "    <tr>\n",
              "      <th>Rente op nieuwe contracten &lt;= € 0.25 mln (percentages)</th>\n",
              "      <td>2.22</td>\n",
              "      <td>4.79</td>\n",
              "      <td>3.490979</td>\n",
              "    </tr>\n",
              "    <tr>\n",
              "      <th>Rente op nieuwe contracten &lt;= € 0.25 mln en &lt;= € 1 mln (percentages)</th>\n",
              "      <td>1.93</td>\n",
              "      <td>4.18</td>\n",
              "      <td>2.877762</td>\n",
              "    </tr>\n",
              "    <tr>\n",
              "      <th>Rente op nieuwe contracten &gt; € 1 mln (percentages)</th>\n",
              "      <td>0.57</td>\n",
              "      <td>5.44</td>\n",
              "      <td>2.332112</td>\n",
              "    </tr>\n",
              "    <tr>\n",
              "      <th>Rente op uitstaande leningen  (percentages)</th>\n",
              "      <td>1.60</td>\n",
              "      <td>5.60</td>\n",
              "      <td>3.412719</td>\n",
              "    </tr>\n",
              "    <tr>\n",
              "      <th>Uitstaande bedragen (mln euro's)</th>\n",
              "      <td>174074.00</td>\n",
              "      <td>300620.00</td>\n",
              "      <td>249982.631579</td>\n",
              "    </tr>\n",
              "  </tbody>\n",
              "</table>\n",
              "</div>"
            ],
            "text/plain": [
              "                                                                                               waarde  \\\n",
              "                                                                                                 amin   \n",
              "Instrument                              InstrumentSub                                                   \n",
              "Consumptief krediet                     Uitstaande bedragen (mln euro's)                     10129.00   \n",
              "Rekening courante tegoeden en spaargeld Deposito's met opzegtermijn (mln euro's)            110022.00   \n",
              "                                        Deposito's met vaste looptijd (mln euro's)           16644.00   \n",
              "                                        Girale deposito's (mln euro's)                       38179.00   \n",
              "Roodstand en doorlopend krediet         Rente op uitstaand bedrag - Rekeningcourant kre...       6.30   \n",
              "                                        Rente op uitstaand bedrag - Rekeningcourant kre...       3.60   \n",
              "                                        Uitstaand bedrag - Rekeningcourant krediet - Do...     372.00   \n",
              "                                        Uitstaand bedrag - Rekeningcourant krediet - Ro...    5221.00   \n",
              "Woninghypotheken                        Nieuwe contracten, inclusief heronderhandelinge...    3372.00   \n",
              "                                        Rente op nieuwe contracten, inclusief heronderh...       1.65   \n",
              "                                        Rente op uitstaande bedragen (percentages)               2.25   \n",
              "                                        Rente op zuiver nieuwe leningen (d.w.z. exclusi...       1.60   \n",
              "                                        Uitstaande bedragen (mln euro's)                       483.00   \n",
              "                                        Zuiver nieuwe leningen (d.w.z. exclusief herond...    2609.00   \n",
              "Zakelijke kredietverlening              Nieuwe contracten (mln euro's)                        6545.00   \n",
              "                                        Rente op nieuwe contracten <= € 0.25 mln (perce...       2.22   \n",
              "                                        Rente op nieuwe contracten <= € 0.25 mln en <= ...       1.93   \n",
              "                                        Rente op nieuwe contracten > € 1 mln (percentages)       0.57   \n",
              "                                        Rente op uitstaande leningen  (percentages)              1.60   \n",
              "                                        Uitstaande bedragen (mln euro's)                    174074.00   \n",
              "\n",
              "                                                                                                       \\\n",
              "                                                                                                 amax   \n",
              "Instrument                              InstrumentSub                                                   \n",
              "Consumptief krediet                     Uitstaande bedragen (mln euro's)                     31545.00   \n",
              "Rekening courante tegoeden en spaargeld Deposito's met opzegtermijn (mln euro's)            367058.00   \n",
              "                                        Deposito's met vaste looptijd (mln euro's)           96327.00   \n",
              "                                        Girale deposito's (mln euro's)                      131896.00   \n",
              "Roodstand en doorlopend krediet         Rente op uitstaand bedrag - Rekeningcourant kre...       8.10   \n",
              "                                        Rente op uitstaand bedrag - Rekeningcourant kre...       5.80   \n",
              "                                        Uitstaand bedrag - Rekeningcourant krediet - Do...    6072.00   \n",
              "                                        Uitstaand bedrag - Rekeningcourant krediet - Ro...   16271.00   \n",
              "Woninghypotheken                        Nieuwe contracten, inclusief heronderhandelinge...   14591.00   \n",
              "                                        Rente op nieuwe contracten, inclusief heronderh...       5.61   \n",
              "                                        Rente op uitstaande bedragen (percentages)               5.70   \n",
              "                                        Rente op zuiver nieuwe leningen (d.w.z. exclusi...       3.22   \n",
              "                                        Uitstaande bedragen (mln euro's)                    546832.00   \n",
              "                                        Zuiver nieuwe leningen (d.w.z. exclusief herond...    8684.00   \n",
              "Zakelijke kredietverlening              Nieuwe contracten (mln euro's)                       21749.00   \n",
              "                                        Rente op nieuwe contracten <= € 0.25 mln (perce...       4.79   \n",
              "                                        Rente op nieuwe contracten <= € 0.25 mln en <= ...       4.18   \n",
              "                                        Rente op nieuwe contracten > € 1 mln (percentages)       5.44   \n",
              "                                        Rente op uitstaande leningen  (percentages)              5.60   \n",
              "                                        Uitstaande bedragen (mln euro's)                    300620.00   \n",
              "\n",
              "                                                                                                           \n",
              "                                                                                                     mean  \n",
              "Instrument                              InstrumentSub                                                      \n",
              "Consumptief krediet                     Uitstaande bedragen (mln euro's)                     24076.002193  \n",
              "Rekening courante tegoeden en spaargeld Deposito's met opzegtermijn (mln euro's)            241181.024823  \n",
              "                                        Deposito's met vaste looptijd (mln euro's)           43255.624113  \n",
              "                                        Girale deposito's (mln euro's)                       63313.716000  \n",
              "Roodstand en doorlopend krediet         Rente op uitstaand bedrag - Rekeningcourant kre...       7.277133  \n",
              "                                        Rente op uitstaand bedrag - Rekeningcourant kre...       4.731319  \n",
              "                                        Uitstaand bedrag - Rekeningcourant krediet - Do...    3435.419580  \n",
              "                                        Uitstaand bedrag - Rekeningcourant krediet - Ro...   10900.034722  \n",
              "Woninghypotheken                        Nieuwe contracten, inclusief heronderhandelinge...    7691.463519  \n",
              "                                        Rente op nieuwe contracten, inclusief heronderh...       3.573262  \n",
              "                                        Rente op uitstaande bedragen (percentages)               4.198884  \n",
              "                                        Rente op zuiver nieuwe leningen (d.w.z. exclusi...       2.260778  \n",
              "                                        Uitstaande bedragen (mln euro's)                    187100.259542  \n",
              "                                        Zuiver nieuwe leningen (d.w.z. exclusief herond...    4827.244444  \n",
              "Zakelijke kredietverlening              Nieuwe contracten (mln euro's)                       10677.547414  \n",
              "                                        Rente op nieuwe contracten <= € 0.25 mln (perce...       3.490979  \n",
              "                                        Rente op nieuwe contracten <= € 0.25 mln en <= ...       2.877762  \n",
              "                                        Rente op nieuwe contracten > € 1 mln (percentages)       2.332112  \n",
              "                                        Rente op uitstaande leningen  (percentages)              3.412719  \n",
              "                                        Uitstaande bedragen (mln euro's)                    249982.631579  "
            ]
          },
          "execution_count": 109,
          "metadata": {},
          "output_type": "execute_result"
        }
      ],
      "source": [
        "df.groupby(['Instrument','InstrumentSub']).agg({'waarde': [np.min, np.max, np.mean]})"
      ]
    },
    {
      "cell_type": "markdown",
      "metadata": {
        "colab_type": "text",
        "id": "DAEkAvgEq3kO"
      },
      "source": [
        "Berekeningen toepassen op elke rij/kolom"
      ]
    },
    {
      "cell_type": "code",
      "execution_count": 132,
      "metadata": {
        "colab": {},
        "colab_type": "code",
        "id": "vqfibQ_oq3kR"
      },
      "outputs": [
        {
          "data": {
            "text/html": [
              "<div>\n",
              "<style scoped>\n",
              "    .dataframe tbody tr th:only-of-type {\n",
              "        vertical-align: middle;\n",
              "    }\n",
              "\n",
              "    .dataframe tbody tr th {\n",
              "        vertical-align: top;\n",
              "    }\n",
              "\n",
              "    .dataframe thead th {\n",
              "        text-align: right;\n",
              "    }\n",
              "</style>\n",
              "<table border=\"1\" class=\"dataframe\">\n",
              "  <thead>\n",
              "    <tr style=\"text-align: right;\">\n",
              "      <th></th>\n",
              "      <th>0</th>\n",
              "      <th>1</th>\n",
              "    </tr>\n",
              "  </thead>\n",
              "  <tbody>\n",
              "    <tr>\n",
              "      <th>0</th>\n",
              "      <td>22287.0</td>\n",
              "      <td>1.0</td>\n",
              "    </tr>\n",
              "    <tr>\n",
              "      <th>1</th>\n",
              "      <td>22165.0</td>\n",
              "      <td>1.0</td>\n",
              "    </tr>\n",
              "    <tr>\n",
              "      <th>2</th>\n",
              "      <td>22371.5</td>\n",
              "      <td>1.0</td>\n",
              "    </tr>\n",
              "    <tr>\n",
              "      <th>3</th>\n",
              "      <td>22578.0</td>\n",
              "      <td>1.0</td>\n",
              "    </tr>\n",
              "    <tr>\n",
              "      <th>4</th>\n",
              "      <td>21871.0</td>\n",
              "      <td>1.0</td>\n",
              "    </tr>\n",
              "    <tr>\n",
              "      <th>...</th>\n",
              "      <td>...</td>\n",
              "      <td>...</td>\n",
              "    </tr>\n",
              "    <tr>\n",
              "      <th>4488</th>\n",
              "      <td>245420.0</td>\n",
              "      <td>-1.0</td>\n",
              "    </tr>\n",
              "    <tr>\n",
              "      <th>4489</th>\n",
              "      <td>246080.0</td>\n",
              "      <td>-1.0</td>\n",
              "    </tr>\n",
              "    <tr>\n",
              "      <th>4490</th>\n",
              "      <td>245983.0</td>\n",
              "      <td>-1.0</td>\n",
              "    </tr>\n",
              "    <tr>\n",
              "      <th>4491</th>\n",
              "      <td>246939.0</td>\n",
              "      <td>-1.0</td>\n",
              "    </tr>\n",
              "    <tr>\n",
              "      <th>4492</th>\n",
              "      <td>251821.0</td>\n",
              "      <td>-1.0</td>\n",
              "    </tr>\n",
              "  </tbody>\n",
              "</table>\n",
              "<p>4487 rows × 2 columns</p>\n",
              "</div>"
            ],
            "text/plain": [
              "             0    1\n",
              "0      22287.0  1.0\n",
              "1      22165.0  1.0\n",
              "2      22371.5  1.0\n",
              "3      22578.0  1.0\n",
              "4      21871.0  1.0\n",
              "...        ...  ...\n",
              "4488  245420.0 -1.0\n",
              "4489  246080.0 -1.0\n",
              "4490  245983.0 -1.0\n",
              "4491  246939.0 -1.0\n",
              "4492  251821.0 -1.0\n",
              "\n",
              "[4487 rows x 2 columns]"
            ]
          },
          "execution_count": 132,
          "metadata": {},
          "output_type": "execute_result"
        }
      ],
      "source": [
        "df.apply(\n",
        "    lambda x: [x['waarde'] + 3, 1] if x['Periode'] < pd.to_datetime(\"2015-01-01\") else [x['waarde']-3, -1]\n",
        "    , axis=1, result_type='expand')"
      ]
    },
    {
      "cell_type": "markdown",
      "metadata": {
        "colab_type": "text",
        "id": "XLlD9zvJq3kX"
      },
      "source": [
        "Over de rijen van een dataframe ittereren"
      ]
    },
    {
      "cell_type": "code",
      "execution_count": 133,
      "metadata": {
        "colab": {},
        "colab_type": "code",
        "id": "Xc0WECKRq3kc"
      },
      "outputs": [
        {
          "name": "stdout",
          "output_type": "stream",
          "text": [
            "Instrument                    Consumptief krediet\n",
            "InstrumentSub    Uitstaande bedragen (mln euro's)\n",
            "Sector                                Huishoudens\n",
            "Periode                       2003-01-01 00:00:00\n",
            "waarde                                    22284.0\n",
            "waarde - 10                               22274.0\n",
            "Name: 0, dtype: object\n",
            "Instrument       Rekening courante tegoeden en spaargeld\n",
            "InstrumentSub             Girale deposito's (mln euro's)\n",
            "Sector                                       Huishoudens\n",
            "Periode                              2018-06-01 00:00:00\n",
            "waarde                                           72215.0\n",
            "waarde - 10                                      72205.0\n",
            "Name: 1000, dtype: object\n",
            "Instrument                                        Woninghypotheken\n",
            "InstrumentSub    Rente op nieuwe contracten, inclusief heronder...\n",
            "Sector                                               Huishoudens *\n",
            "Periode                                        2015-02-01 00:00:00\n",
            "waarde                                                        3.15\n",
            "waarde - 10                                                  -6.85\n",
            "Name: 2000, dtype: object\n",
            "Instrument                       Woninghypotheken\n",
            "InstrumentSub    Uitstaande bedragen (mln euro's)\n",
            "Sector                                Huishoudens\n",
            "Periode                       2006-01-01 00:00:00\n",
            "waarde                                   428330.0\n",
            "waarde - 10                              428320.0\n",
            "Name: 3000, dtype: object\n",
            "Instrument                              Zakelijke kredietverlening\n",
            "InstrumentSub    Rente op nieuwe contracten > € 1 mln (percenta...\n",
            "Sector                                   Niet-financiële bedrijven\n",
            "Periode                                        2019-04-01 00:00:00\n",
            "waarde                                                        1.07\n",
            "waarde - 10                                                  -8.93\n",
            "Name: 4000, dtype: object\n"
          ]
        }
      ],
      "source": [
        "for index, row in df.iterrows():\n",
        "    if index % 1000 == 0:\n",
        "        df.at[index,'waarde'] = 0\n",
        "        print(row)"
      ]
    },
    {
      "cell_type": "markdown",
      "metadata": {
        "colab_type": "text",
        "id": "Esr1V9iiq3ki"
      },
      "source": [
        "Data plotten"
      ]
    },
    {
      "cell_type": "code",
      "execution_count": 134,
      "metadata": {
        "colab": {},
        "colab_type": "code",
        "id": "ttPNkXN8q3ki"
      },
      "outputs": [
        {
          "data": {
            "text/plain": [
              "<AxesSubplot:>"
            ]
          },
          "execution_count": 134,
          "metadata": {},
          "output_type": "execute_result"
        },
        {
          "data": {
            "image/png": "[encoded data removed]",
            "text/plain": [
              "<Figure size 432x288 with 1 Axes>"
            ]
          },
          "metadata": {
            "needs_background": "light"
          },
          "output_type": "display_data"
        }
      ],
      "source": [
        "df['waarde'].plot()"
      ]
    },
    {
      "cell_type": "markdown",
      "metadata": {
        "colab_type": "text",
        "id": "OVGMuGpxq3kp"
      },
      "source": [
        "Het package voor het plotten laden en de standaard figuurgroote aanpassen"
      ]
    },
    {
      "cell_type": "code",
      "execution_count": 135,
      "metadata": {
        "colab": {},
        "colab_type": "code",
        "id": "VEA3WVWgq3kq"
      },
      "outputs": [],
      "source": [
        "import matplotlib.pyplot as plt\n",
        "plt.rcParams['figure.figsize'] = [10, 5]"
      ]
    },
    {
      "cell_type": "markdown",
      "metadata": {
        "colab_type": "text",
        "id": "NR1l7ve_q3kx"
      },
      "source": [
        "Scatterplot maken"
      ]
    },
    {
      "cell_type": "code",
      "execution_count": 136,
      "metadata": {
        "colab": {},
        "colab_type": "code",
        "id": "UdtwyjiKq3ky"
      },
      "outputs": [
        {
          "data": {
            "text/plain": [
              "<AxesSubplot:xlabel='waarde_c', ylabel='waarde_b'>"
            ]
          },
          "execution_count": 136,
          "metadata": {},
          "output_type": "execute_result"
        },
        {
          "data": {
            "image/png": "[encoded data removed]",
            "text/plain": [
              "<Figure size 720x360 with 1 Axes>"
            ]
          },
          "metadata": {
            "needs_background": "light"
          },
          "output_type": "display_data"
        }
      ],
      "source": [
        "df_a = df[df['Instrument']=='Woninghypotheken'].dropna()\n",
        "df_a = df_a[df_a['InstrumentSub'].str.contains('Rente op uit')].set_index('Periode')\n",
        "\n",
        "df_b = df[df['Instrument']=='Zakelijke kredietverlening'].dropna()\n",
        "df_b = df_b[df_b['InstrumentSub'].str.contains('Rente op uit')].set_index('Periode')\n",
        "\n",
        "df_c = pd.merge(df_b,df_a, how='inner', left_on=['Periode'], right_on=['Periode'], suffixes=('_c','_b'))\n",
        "df_c.plot.scatter(x='waarde_c',y='waarde_b', alpha=0.5)"
      ]
    },
    {
      "cell_type": "markdown",
      "metadata": {
        "colab_type": "text",
        "id": "qEDTkcLXq3k3"
      },
      "source": [
        "Bar plot maken"
      ]
    },
    {
      "cell_type": "code",
      "execution_count": 138,
      "metadata": {
        "colab": {},
        "colab_type": "code",
        "id": "Nrq_9fy4q3k3",
        "scrolled": true
      },
      "outputs": [
        {
          "data": {
            "text/plain": [
              "<AxesSubplot:xlabel='InstrumentSub'>"
            ]
          },
          "execution_count": 138,
          "metadata": {},
          "output_type": "execute_result"
        },
        {
          "data": {
            "image/png": "[encoded data removed]",
            "text/plain": [
              "<Figure size 720x360 with 1 Axes>"
            ]
          },
          "metadata": {
            "needs_background": "light"
          },
          "output_type": "display_data"
        }
      ],
      "source": [
        "df[df['Periode']=='2010-06'].plot.bar(y='waarde',x='InstrumentSub')"
      ]
    },
    {
      "cell_type": "code",
      "execution_count": 139,
      "metadata": {},
      "outputs": [
        {
          "data": {
            "text/plain": [
              "<AxesSubplot:ylabel='InstrumentSub'>"
            ]
          },
          "execution_count": 139,
          "metadata": {},
          "output_type": "execute_result"
        },
        {
          "data": {
            "image/png": "[encoded data removed]",
            "text/plain": [
              "<Figure size 720x360 with 1 Axes>"
            ]
          },
          "metadata": {
            "needs_background": "light"
          },
          "output_type": "display_data"
        }
      ],
      "source": [
        "df[df['Periode']=='2010-06'].plot(y='waarde',x='InstrumentSub', kind='barh')"
      ]
    },
    {
      "cell_type": "markdown",
      "metadata": {
        "colab_type": "text",
        "id": "PQwot6qYq3k7"
      },
      "source": [
        "Histogram maken"
      ]
    },
    {
      "cell_type": "code",
      "execution_count": 142,
      "metadata": {
        "colab": {},
        "colab_type": "code",
        "id": "TUS-gmdxq3k7",
        "scrolled": true
      },
      "outputs": [
        {
          "data": {
            "text/plain": [
              "<AxesSubplot:ylabel='Frequency'>"
            ]
          },
          "execution_count": 142,
          "metadata": {},
          "output_type": "execute_result"
        },
        {
          "data": {
            "image/png": "[encoded data removed]",
            "text/plain": [
              "<Figure size 720x360 with 1 Axes>"
            ]
          },
          "metadata": {
            "needs_background": "light"
          },
          "output_type": "display_data"
        }
      ],
      "source": [
        "df[df['InstrumentSub'].str.contains('Rente op uit')].drop(columns=['Periode']).plot.hist(bins=20, density=False)"
      ]
    },
    {
      "cell_type": "markdown",
      "metadata": {
        "colab_type": "text",
        "id": "zHW_AfXLq3k-"
      },
      "source": [
        "### Data wegschrijven \n",
        "\n",
        "Data die je in Python heb gebruikt wegschrijven om later weer te gebruiken of in andere programma's te gebruiken"
      ]
    },
    {
      "cell_type": "markdown",
      "metadata": {
        "colab_type": "text",
        "id": "O9r2Kl2lq3lA"
      },
      "source": [
        "Data wegschrijven om later te gebruiken"
      ]
    },
    {
      "cell_type": "code",
      "execution_count": null,
      "metadata": {
        "colab": {},
        "colab_type": "code",
        "id": "e4pS7uZvq3lB"
      },
      "outputs": [],
      "source": [
        "df.to_pickle('results.pkl')"
      ]
    },
    {
      "cell_type": "markdown",
      "metadata": {
        "colab_type": "text",
        "id": "brYUzMJ8q3lF"
      },
      "source": [
        "Data wegschrijven als een csv"
      ]
    },
    {
      "cell_type": "code",
      "execution_count": null,
      "metadata": {
        "colab": {},
        "colab_type": "code",
        "id": "lmifkinPq3lG"
      },
      "outputs": [],
      "source": [
        "df.to_csv('results.csv', index=False, decimal=',', sep='\\t')"
      ]
    },
    {
      "cell_type": "markdown",
      "metadata": {
        "colab_type": "text",
        "id": "fKWNqEy3q3lK"
      },
      "source": [
        "Data wegschrijven naar Excel"
      ]
    },
    {
      "cell_type": "code",
      "execution_count": null,
      "metadata": {
        "colab": {},
        "colab_type": "code",
        "id": "kFQk7U1Uq3lL"
      },
      "outputs": [],
      "source": [
        "with pd.ExcelWriter('results.xlsx') as writer:  \n",
        "    df[df['Instrument']=='Woninghypotheken'].to_excel(writer, sheet_name='Woninghypotheken')\n",
        "    df[df['Instrument']=='Zakelijke kredietverlening'].to_excel(writer, sheet_name='Zakelijke kredietverlening')"
      ]
    },
    {
      "cell_type": "code",
      "execution_count": null,
      "metadata": {
        "colab": {},
        "colab_type": "code",
        "id": "2Qqjhiyvq3lP"
      },
      "outputs": [],
      "source": []
    }
  ],
  "metadata": {
    "colab": {
      "include_colab_link": true,
      "name": "OSW_Pandas.ipynb",
      "provenance": [],
      "toc_visible": true
    },
    "kernelspec": {
      "display_name": "Python 3.9.7 ('base')",
      "language": "python",
      "name": "python3"
    },
    "language_info": {
      "codemirror_mode": {
        "name": "ipython",
        "version": 3
      },
      "file_extension": ".py",
      "mimetype": "text/x-python",
      "name": "python",
      "nbconvert_exporter": "python",
      "pygments_lexer": "ipython3",
      "version": "3.9.7"
    },
    "vscode": {
      "interpreter": {
        "hash": "ad2bdc8ecc057115af97d19610ffacc2b4e99fae6737bb82f5d7fb13d2f2c186"
      }
    }
  },
  "nbformat": 4,
  "nbformat_minor": 0
}
