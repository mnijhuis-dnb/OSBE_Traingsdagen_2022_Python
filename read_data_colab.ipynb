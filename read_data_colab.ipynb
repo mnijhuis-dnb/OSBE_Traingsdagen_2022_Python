{
  "cells": [
    {
      "cell_type": "markdown",
      "metadata": {
        "id": "view-in-github",
        "colab_type": "text"
      },
      "source": [
        "<a href=\"https://colab.research.google.com/github/mnijhuis-dnb/OSBE_Traingsdagen_2022_Python/blob/main/read_data_colab.ipynb\" target=\"_parent\"><img src=\"https://colab.research.google.com/assets/colab-badge.svg\" alt=\"Open In Colab\"/></a>"
      ]
    },
    {
      "cell_type": "markdown",
      "source": [
        "Download the mortage data "
      ],
      "metadata": {
        "id": "8EgBNx1SixJ-"
      }
    },
    {
      "cell_type": "code",
      "execution_count": 2,
      "metadata": {
        "colab": {
          "base_uri": "https://localhost:8080/"
        },
        "id": "gJr_9dXGpJ05",
        "outputId": "6f4c0638-a755-4153-e981-bbb2bf058d46"
      },
      "outputs": [
        {
          "output_type": "stream",
          "name": "stdout",
          "text": [
            "Downloading...\n",
            "From: https://drive.google.com/uc?id=1ToLlsn_LsRnsoxzV5ScVvA4MFVdX5339\n",
            "To: /content/2000Q1.zip\n",
            "100% 149M/149M [00:00<00:00, 237MB/s]\n",
            "Downloading...\n",
            "From: https://drive.google.com/uc?id=1VqZ9dYtsViOJLf2DvR6VPiwtXqQWiMlj\n",
            "To: /content/read_data.ipynb\n",
            "100% 3.47k/3.47k [00:00<00:00, 4.59MB/s]\n"
          ]
        }
      ],
      "source": [
        "!gdown 1ToLlsn_LsRnsoxzV5ScVvA4MFVdX5339"
      ]
    },
    {
      "cell_type": "markdown",
      "source": [
        "import the libraries"
      ],
      "metadata": {
        "id": "o3X5Y5zBi8ZM"
      }
    },
    {
      "cell_type": "code",
      "execution_count": 3,
      "metadata": {
        "id": "-gE-Ez1qtyIA"
      },
      "outputs": [],
      "source": [
        "import pandas as pd\n",
        "import numpy as np\n",
        "import os\n",
        "import zipfile as zf"
      ]
    },
    {
      "cell_type": "markdown",
      "source": [
        "Set the headers, the data types and the columns to use from the mortage data"
      ],
      "metadata": {
        "id": "9703Dr9_i-qA"
      }
    },
    {
      "cell_type": "code",
      "source": [
        "header_list = ['Loan Identifier', 'Monthly Reporting Period', 'Channel', 'Seller Name', 'Servicer Name', 'Original interest Rate', 'Current interest Rate', \n",
        "    'Original UPB', 'Current Actual UPB', 'Original Loan Term', 'Origination Date', 'First Payment Date', 'Loan Age', 'Remaining Months to Legal Maturity', \n",
        "    'Remaining Months To Maturity', 'Maturity Date', 'Original Loan to Value Ratio (LTV)', 'Original Combined Loan to Value Ratio (CLTV)', 'Number of Borrowers',\n",
        "    'Debt-To-Income (DTI)', 'Borrower Credit Score at Origination', 'Co-Borrower Credit Score at Origination', 'First Time Home Buyer Indicator', 'Loan Purpose ',\n",
        "    'Property Type', 'Number of Units', 'Occupancy Status', 'Property State', 'Metropolitan Statistical Area (MSA)', 'Zip Code Short', 'Mortgage Insurance Percentage',\n",
        "    'Amortization Type', 'Prepayment Penalty Indicator', 'interest Only Loan Indicator', 'Current Loan Delinquency Status', 'Loan Payment History', 'Modification Flag',\n",
        "    'Zero Balance Code', 'Zero Balance Effective Date', 'UPB at the Time of Removal', 'Total Principal Current', 'Last Paid Installment Date', 'Foreclosure Date', \n",
        "    'Disposition Date', 'Foreclosure Costs', 'Property Preservation and Repair Costs', 'Asset Recovery Costs', 'Miscellaneous Holding Expenses and Credits', \n",
        "    'Associated Taxes for Holding Property', 'Net Sales Proceeds', 'Credit Enhancement Proceeds', 'Repurchase Make Whole Proceeds', 'Other Foreclosure Proceeds', \n",
        "    'Non-interest Bearing UPB', 'Principal Forgiveness Amount', 'Mortgage Insurance Type', 'Servicing Activity Indicator', 'Foreclosure Principal Write-off Amount', \n",
        "    'Relocation Mortgage Indicator', 'High Balance Loan Indicator ', 'Borrower Assistance Plan', 'High Loan to Value (HLTV) Refinance Option Indicator', \n",
        "    'Repurchase Make Whole Proceeds Flag', 'Alternative Delinquency Resolution', 'Alternative Delinquency  Resolution Count', 'Total Deferral Amount ']\n",
        "columns_to_use = [1, 2, 3, 4, 5, 7, 8, 9, 11, 12, 13, 14, 15, 16, 17, 18, 19, 20, 21, 22, 23, 24, 25, 26, 27, 28, 29, 30, 31, 32, 33, 34, 35, 36, 39, 40, 41, 43, 44,\n",
        "    45, 48, 50, 51, 52, 53, 54, 55, 56, 57, 58, 59, 60, 61, 62, 63, 72, 73, 79, 80, 86, 101, 102, 104, 105, 106, 107]\n",
        "dtypes_conv = {'Loan Identifier': np.float32, 'Monthly Reporting Period': np.float32, 'Channel': object, 'Seller Name': object, 'Servicer Name': object, 'Original interest Rate': np.float16,\n",
        "    'Current interest Rate': np.float16, 'Original UPB': np.float32, 'Current Actual UPB': np.float32, 'Original Loan Term': np.float16, 'Origination Date': object, \n",
        "    'First Payment Date': object, 'Remaining Months to Legal Maturity': np.float16, 'Remaining Months To Maturity': np.float16, 'Maturity Date': object, 'Loan Age': np.float16,\n",
        "    'Original Loan to Value Ratio (LTV)': np.float16, 'Original Combined Loan to Value Ratio (CLTV)': np.float16, 'Number of Borrowers': np.float16, 'Debt-To-Income (DTI)': np.float16, \n",
        "    'Borrower Credit Score at Origination': np.float16, 'Co-Borrower Credit Score at Origination': np.float16, 'First Time Home Buyer Indicator': object, 'Loan Purpose': object, \n",
        "    'Property Type': object, 'Number of Units': np.float16, 'Occupancy Status': object, 'Property State': object, 'Metropolitan Statistical Area (MSA)': np.float16, \n",
        "    'Zip Code Short': np.float16, 'Mortgage Insurance Percentage': np.float16, 'Amortization Type': object, 'Prepayment Penalty Indicator': object, \n",
        "    'interest Only Loan Indicator': object, 'Current Loan Delinquency Status': object, 'Loan Payment History': object, 'Modification Flag': object, 'Zero Balance Code': np.float16, \n",
        "    'Zero Balance Effective Date': object, 'UPB at the Time of Removal': np.float32, 'Total Principal Current': np.float32, 'Last Paid Installment Date': object, \n",
        "    'Foreclosure Date': object, 'Disposition Date': object, 'Foreclosure Costs': np.float32, 'Property Preservation and Repair Costs': np.float32, \n",
        "    'Asset Recovery Costs': np.float32, 'Miscellaneous Holding Expenses and Credits': np.float32, 'Associated Taxes for Holding Property': np.float32, \n",
        "    'Net Sales Proceeds': np.float32, 'Credit Enhancement Proceeds': np.float32, 'Repurchase Make Whole Proceeds': np.float32, 'Other Foreclosure Proceeds': np.float32, \n",
        "    'Non-interest Bearing UPB': np.float32, 'Principal Forgiveness Amount': np.float32, 'Mortgage Insurance Type': np.float16, 'Servicing Activity Indicator': object, \n",
        "    'Foreclosure Principal Write-off Amount': np.float32, 'Relocation Mortgage Indicator': object, 'High Balance Loan Indicator': object, 'Borrower Assistance Plan': object, \n",
        "    'High Loan to Value (HLTV) Refinance Option Indicator': object, 'Repurchase Make Whole Proceeds Flag': object, 'Alternative Delinquency Resolution': object, \n",
        "    'Alternative Delinquency Resolution Count': object, 'Total Deferral Amount': np.float32}"
      ],
      "metadata": {
        "id": "1oDhgI8gcahR"
      },
      "execution_count": 4,
      "outputs": []
    },
    {
      "cell_type": "markdown",
      "source": [
        "Extract the zip file and get the name of the files extracted"
      ],
      "metadata": {
        "id": "53rlXJ2JjFRu"
      }
    },
    {
      "cell_type": "code",
      "source": [
        "file = '2000Q1.zip'\n",
        "zip = zf.ZipFile(file)\n",
        "zip.extractall()\n",
        "name = zip.filelist[0].filename"
      ],
      "metadata": {
        "id": "3ppKdSnccc3S"
      },
      "execution_count": 5,
      "outputs": []
    },
    {
      "cell_type": "markdown",
      "source": [
        "Read in the data"
      ],
      "metadata": {
        "id": "bg2lSVgwjjKM"
      }
    },
    {
      "cell_type": "code",
      "source": [
        "df = pd.read_csv(os.path.join(os.curdir,name), sep='|', names=header_list, usecols=columns_to_use, on_bad_lines='skip', dtype=dtypes_conv)"
      ],
      "metadata": {
        "id": "WAfmpz0mjivs"
      },
      "execution_count": 6,
      "outputs": []
    },
    {
      "cell_type": "markdown",
      "source": [
        "Remove the file extracted from the zip file"
      ],
      "metadata": {
        "id": "Ie6ws9YZjrPj"
      }
    },
    {
      "cell_type": "code",
      "source": [
        "os.remove(name)"
      ],
      "metadata": {
        "id": "uwjbH5mPjrnl"
      },
      "execution_count": 7,
      "outputs": []
    },
    {
      "cell_type": "markdown",
      "source": [
        "Show the first line of the dataset"
      ],
      "metadata": {
        "id": "AZ_NGGRzjycr"
      }
    },
    {
      "cell_type": "code",
      "execution_count": null,
      "metadata": {},
      "outputs": [],
      "source": [
        "df.head(5)"
      ]
    },
    {
      "cell_type": "markdown",
      "source": [
        "Count how many unique loans are in the dataset"
      ],
      "metadata": {
        "id": "68b3a_dikNW7"
      }
    },
    {
      "cell_type": "code",
      "source": [
        "len(df['Loan Identifier'].unique())"
      ],
      "metadata": {
        "id": "XySgvBvakNrF",
        "outputId": "640b5b60-2278-47d9-f1d2-4c453134d94e",
        "colab": {
          "base_uri": "https://localhost:8080/"
        }
      },
      "execution_count": 9,
      "outputs": [
        {
          "output_type": "execute_result",
          "data": {
            "text/plain": [
              "245321"
            ]
          },
          "metadata": {},
          "execution_count": 9
        }
      ]
    },
    {
      "cell_type": "markdown",
      "source": [
        "Do your own thing...."
      ],
      "metadata": {
        "id": "Uu2DVYLNmrcl"
      }
    },
    {
      "cell_type": "code",
      "source": [],
      "metadata": {
        "id": "U9FgEoDGmLFV"
      },
      "execution_count": null,
      "outputs": []
    }
  ],
  "metadata": {
    "colab": {
      "collapsed_sections": [],
      "name": "Welcome To Colaboratory",
      "provenance": [],
      "include_colab_link": true
    },
    "kernelspec": {
      "display_name": "Python 3",
      "name": "python3"
    }
  },
  "nbformat": 4,
  "nbformat_minor": 0
}
